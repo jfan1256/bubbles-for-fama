{
 "cells": [
  {
   "cell_type": "code",
   "execution_count": 677,
   "id": "0924e97f-e252-4800-99f3-6d141bd71ef4",
   "metadata": {
    "tags": []
   },
   "outputs": [],
   "source": [
    "import pandas as pd\n",
    "import numpy as np\n",
    "import os\n",
    "import re\n",
    "import pandas_datareader.data as web\n",
    "import matplotlib.pyplot as plt\n",
    "import statsmodels.api as sm\n",
    "import statsmodels.formula.api as smf\n",
    "\n",
    "from linearmodels.system import SUR\n",
    "from pathlib import Path\n",
    "from IPython.display import display\n",
    "from scipy.stats import pearsonr\n",
    "from collections import OrderedDict\n",
    "from sklearn.linear_model import LinearRegression\n",
    "from linearmodels.system.results import WaldTestStatistic\n",
    "\n",
    "\n",
    "import warnings\n",
    "warnings.filterwarnings('ignore')"
   ]
  },
  {
   "cell_type": "code",
   "execution_count": 636,
   "id": "2e77a673-9c6c-4684-bdb8-d261d3a3d4fe",
   "metadata": {
    "tags": []
   },
   "outputs": [],
   "source": [
    "root = Path(os.getcwd())"
   ]
  },
  {
   "cell_type": "code",
   "execution_count": 637,
   "id": "4b37bcd6-b447-4182-ae92-7ccabc728431",
   "metadata": {
    "tags": []
   },
   "outputs": [],
   "source": [
    "def set_timeframe(data, start_date, end_date):\n",
    "    data = data.loc[data.index.get_level_values('date') >= start_date]\n",
    "    data = data.loc[data.index.get_level_values('date') <= end_date]\n",
    "    return data"
   ]
  },
  {
   "cell_type": "code",
   "execution_count": 638,
   "id": "85e453e9-c0fa-40f7-bf2b-06e373e23a12",
   "metadata": {
    "tags": []
   },
   "outputs": [],
   "source": [
    "predictors = pd.read_parquet(root / 'data' / 'predictors.parquet.brotli')"
   ]
  },
  {
   "cell_type": "code",
   "execution_count": 639,
   "id": "7367d4a6-7c42-42f9-9634-0a5434e6c6e0",
   "metadata": {
    "tags": []
   },
   "outputs": [],
   "source": [
    "predictors = set_timeframe(predictors, '1925-01-01', '2022-01-01')"
   ]
  },
  {
   "cell_type": "markdown",
   "id": "9e7c3aa1-d6ce-418b-b5af-5ab3bd4d4c33",
   "metadata": {},
   "source": [
    "# Handling Data"
   ]
  },
  {
   "cell_type": "code",
   "execution_count": 640,
   "id": "26238692-04ac-4671-b56d-f8a54d07ca5b",
   "metadata": {
    "tags": []
   },
   "outputs": [],
   "source": [
    "regression = predictors.copy(deep=True)"
   ]
  },
  {
   "cell_type": "code",
   "execution_count": 641,
   "id": "98d1321e-fb6f-436e-9f34-0979eeb9561b",
   "metadata": {
    "tags": []
   },
   "outputs": [],
   "source": [
    "regression = regression.dropna()"
   ]
  },
  {
   "cell_type": "code",
   "execution_count": 642,
   "id": "0a7c0c90-f2a2-45fb-a2d2-c5c563d1581a",
   "metadata": {
    "tags": []
   },
   "outputs": [],
   "source": [
    "# Bubble dates from paper\n",
    "bubble_date = pd.read_csv(root / 'data' / 'bubbles.csv')\n",
    "bubble_date = bubble_date.applymap(lambda s: s.lower() if type(s) == str else s)\n",
    "bubble_date.date = pd.to_datetime(bubble_date.date)\n",
    "bubble_date.date = bubble_date.date.dt.to_period('M').dt.to_timestamp('M')\n",
    "bubble_date = bubble_date.set_index(['date', 'ind'])"
   ]
  },
  {
   "cell_type": "code",
   "execution_count": 643,
   "id": "9df80cef-0bd8-48ae-898c-b3173305967a",
   "metadata": {
    "tags": []
   },
   "outputs": [],
   "source": [
    "# Add excess returns\n",
    "regression['rf_two_vwr_ind'] = regression['two_vwr_ind'] - regression['rf']/100\n",
    "regression['market_two_vwr_ind'] = regression['two_vwr_ind'] - regression['market_return']"
   ]
  },
  {
   "cell_type": "code",
   "execution_count": 644,
   "id": "e08a11e0-3bfd-461b-a3e6-abf4d5abb966",
   "metadata": {
    "tags": []
   },
   "outputs": [
    {
     "data": {
      "text/plain": [
       "Index(['autos', 'beer', 'boxes', 'chems', 'chips', 'coal', 'drugs', 'elceq',\n",
       "       'fin', 'food', 'fun', 'hshld', 'mach', 'mines', 'oil', 'rtail', 'ships',\n",
       "       'smoke', 'steel', 'telcm', 'trans', 'util', 'bldmt', 'labeq', 'rlest',\n",
       "       'txtls', 'aero', 'hardw', 'bussv', 'clths', 'cnstr', 'medeq', 'agric',\n",
       "       'meals', 'insur', 'banks', 'books', 'whlsl', 'toys', 'persv', 'other',\n",
       "       'paper', 'rubbr', 'gold', 'guns', 'hlth', 'soda', 'softw', 'fabpr'],\n",
       "      dtype='object', name='ind')"
      ]
     },
     "execution_count": 644,
     "metadata": {},
     "output_type": "execute_result"
    }
   ],
   "source": [
    "regression.index.get_level_values(1).unique()"
   ]
  },
  {
   "cell_type": "markdown",
   "id": "3b2e2f37-d998-4b8b-b35d-348582ae6558",
   "metadata": {},
   "source": [
    "# Creating Table 6 (Bubbles for Fama)"
   ]
  },
  {
   "cell_type": "code",
   "execution_count": 645,
   "id": "4702b032-e170-425e-b098-8523161f0138",
   "metadata": {
    "tags": []
   },
   "outputs": [],
   "source": [
    "def get_post_bubble_data(df, date, ind, months=24):\n",
    "    start_date = pd.to_datetime(date)\n",
    "    end_date = start_date + pd.DateOffset(months=months)\n",
    "    mask = (df.index.get_level_values('date') > start_date) & (df.index.get_level_values('date') <= end_date) & (df.index.get_level_values('ind') == ind)\n",
    "    return df[mask]"
   ]
  },
  {
   "cell_type": "code",
   "execution_count": 646,
   "id": "f79bdcb8-d1b6-48b7-bd45-f9fd37571ed5",
   "metadata": {
    "tags": []
   },
   "outputs": [],
   "source": [
    "def set_correct_format(results):\n",
    "    # 2. Extract series data into separate columns for 'b'\n",
    "    df = pd.DataFrame(results)\n",
    "    # Extract the coefficients ('b') and t-values ('t')\n",
    "    df_b = df['b'].apply(pd.Series)\n",
    "    df_t = df['t'].apply(pd.Series)\n",
    "    # Rename columns to indicate they contain coefficients or t-values\n",
    "    df_b.columns = [f\"b_{col}\" for col in df_b.columns]\n",
    "    df_t.columns = [f\"t_{col}\" for col in df_t.columns]\n",
    "    df_final = pd.concat([df.drop(['b', 't'], axis=1), df_b, df_t], axis=1)\n",
    "    # Melt the dataframe for betas\n",
    "    df_melted_b = df_final.melt(id_vars=['ind', 'predictor', 'r'], \n",
    "                          value_vars=[col for col in df_final.columns if col.startswith('b_')],\n",
    "                          var_name='b_type', value_name='b')\n",
    "    df_melted_b_filtered = df_melted_b[df_melted_b['b_type'] == 'b_' + df_melted_b['predictor']]\n",
    "    df_melted_b_filtered = df_melted_b_filtered[['ind', 'predictor', 'r', 'b']]\n",
    "    # Melt the dataframe for t-values\n",
    "    df_melted_t = df_final.melt(id_vars=['ind', 'predictor', 'r'], \n",
    "                                value_vars=[col for col in df_final.columns if col.startswith('t_')],\n",
    "                                var_name='t_type', value_name='t')\n",
    "\n",
    "    df_melted_t_filtered = df_melted_t[df_melted_t['t_type'] == 't_' + df_melted_t['predictor']]\n",
    "    df_melted_t_filtered = df_melted_t_filtered[['ind', 'predictor', 't']]\n",
    "    # Merge the two melted dataframes on 'ind' and 'predictor'\n",
    "    df_combined = pd.merge(df_melted_b_filtered, df_melted_t_filtered, on=['ind', 'predictor'])\n",
    "    df_combined['f'] = df['f'].values\n",
    "    df_combined['p'] = df['p'].values\n",
    "    df_combined = df_combined.set_index(['ind', 'predictor'])\n",
    "    return df_combined"
   ]
  },
  {
   "cell_type": "code",
   "execution_count": 647,
   "id": "149a9c6d-300e-4315-8e96-24d82bd3f18f",
   "metadata": {},
   "outputs": [],
   "source": [
    "def run_regression(data, X, y, cluster):\n",
    "    total = []\n",
    "    for ind, df in data.groupby('ind'):\n",
    "        results = []\n",
    "        for predictor in X:\n",
    "            # OLS\n",
    "            X_val = df[[predictor]]\n",
    "            y_val = df[[y]]\n",
    "            X_val = sm.add_constant(X_val)\n",
    "\n",
    "            # Fit model with robust standard errors clustered by calendar year\n",
    "            model_year_clustered = sm.OLS(y_val, X_val).fit(cov_type='cluster', cov_kwds={'groups': df[cluster]})\n",
    "\n",
    "            # Metrics\n",
    "            results.append({\n",
    "                'ind': ind,\n",
    "                'predictor': predictor,\n",
    "                'b': model_year_clustered.params,\n",
    "                't': model_year_clustered.tvalues,\n",
    "                'r': model_year_clustered.rsquared,\n",
    "                'f': model_year_clustered.fvalue,\n",
    "                'p': model_year_clustered.f_pvalue\n",
    "            })\n",
    "        total.append(set_correct_format(results))\n",
    "    total = pd.concat(total, axis=0)\n",
    "    return total"
   ]
  },
  {
   "cell_type": "markdown",
   "id": "27ba469f-0c2d-47ca-b354-b4709981a1b9",
   "metadata": {},
   "source": [
    "### Regression"
   ]
  },
  {
   "cell_type": "code",
   "execution_count": 648,
   "id": "be75650e-55d2-4a62-b603-52bd4f900704",
   "metadata": {
    "tags": []
   },
   "outputs": [],
   "source": [
    "two_regression = pd.concat([get_post_bubble_data(regression, date, ind) for date, ind in bubble_date.index.tolist()])\n",
    "two_regression['Year'] = two_regression.index.get_level_values('date').year"
   ]
  },
  {
   "cell_type": "code",
   "execution_count": 649,
   "id": "26073bc1-5b22-4cc0-8f45-3e887b1b7fc7",
   "metadata": {
    "tags": []
   },
   "outputs": [],
   "source": [
    "characteristics = ['vol_vw', 'vol_vw_change', 'turnover_vw', 'turnover_vw_change', 'age_market_rank', 'age_tilt', 'issuance', 'btm_vwr', 'revenue_market_rank', 'cape', 'acc']"
   ]
  },
  {
   "cell_type": "code",
   "execution_count": 650,
   "id": "14db5793-447d-466b-bd71-0231f47a80d1",
   "metadata": {
    "tags": []
   },
   "outputs": [],
   "source": [
    "raw_regress = run_regression(two_regression, characteristics, 'two_vwr_ind', 'Year')\n",
    "market_regress = run_regression(two_regression, characteristics, 'market_two_vwr_ind', 'Year')\n",
    "rf_regress = run_regression(two_regression, characteristics, 'rf_two_vwr_ind', 'Year')"
   ]
  },
  {
   "cell_type": "markdown",
   "id": "709bf35c-ca01-48a4-bf00-c37e3c31c4f1",
   "metadata": {},
   "source": [
    "### Table"
   ]
  },
  {
   "cell_type": "code",
   "execution_count": 755,
   "id": "735018e4-de12-47dc-bc23-8332e65b668c",
   "metadata": {
    "tags": []
   },
   "outputs": [],
   "source": [
    "def collect_stats(formater, data, col_name):\n",
    "    table_format = formater\n",
    "    collect_r = []\n",
    "    collect_b = [] \n",
    "    collect_t = []\n",
    "    collect_f = []\n",
    "    collect_p = []\n",
    "    for _, df in data.groupby('predictor'):\n",
    "        collect_r.append(df.r.mean())\n",
    "        collect_b.append(df.b.mean())\n",
    "        collect_t.append(df.t.mean())\n",
    "        collect_f.append(df.f.mean())\n",
    "        collect_p.append(df.p.mean())\n",
    "    table_format[f'{col_name} b'] = collect_b\n",
    "    table_format[f'{col_name} [t]'] = collect_t\n",
    "    table_format[f'{col_name} R-squre'] = collect_r\n",
    "    return table_format, np.array(collect_f).mean(), np.array(collect_p).mean()"
   ]
  },
  {
   "cell_type": "code",
   "execution_count": 761,
   "id": "a46b42f6-abf1-46a6-a0e3-8e771ccdc755",
   "metadata": {
    "tags": []
   },
   "outputs": [],
   "source": [
    "format_table6 = pd.DataFrame(index=['Volatility (VW)', 'Volatility (VW)- 1yr-Δ', 'Turnover (VW)',\n",
    "                             'Turnover (VW)- 1yr-Δ', 'Firm Age (VW)', 'Age tilt', ' % Issuers', 'Book to Market (VW)', 'Sales Growth',\n",
    "                             'CAPE', 'Acceleration'])\n",
    "format_rf_table6 = pd.DataFrame(index=['Volatility (VW)', 'Volatility (VW)- 1yr-Δ', 'Turnover (VW)',\n",
    "                             'Turnover (VW)- 1yr-Δ', 'Firm Age (VW)', 'Age tilt', ' % Issuers', 'Book to Market (VW)', 'Sales Growth',\n",
    "                             'CAPE', 'Acceleration'])\n",
    "format_market_table6 = pd.DataFrame(index=['Volatility (VW)', 'Volatility (VW)- 1yr-Δ', 'Turnover (VW)',\n",
    "                             'Turnover (VW)- 1yr-Δ', 'Firm Age (VW)', 'Age tilt', ' % Issuers', 'Book to Market (VW)', 'Sales Growth',\n",
    "                             'CAPE', 'Acceleration'])"
   ]
  },
  {
   "cell_type": "code",
   "execution_count": 762,
   "id": "e178e3ea-8e0a-4404-98a9-19739e4617d0",
   "metadata": {},
   "outputs": [],
   "source": [
    "raw = collect_stats(format_table6, raw_regress, '24mo Raw Return')\n",
    "market = collect_stats(format_market_table6, market_regress, '24mo Net of Market Return')\n",
    "rf = collect_stats(format_rf_table6, rf_regress, '24mo Net of Risk-Free Return')"
   ]
  },
  {
   "cell_type": "code",
   "execution_count": 763,
   "id": "5036f53c-8519-44e2-a8e1-9c5e4bf3e311",
   "metadata": {
    "tags": []
   },
   "outputs": [],
   "source": [
    "table6 = pd.concat([raw[0], rf[0], market[0]], axis=1)"
   ]
  },
  {
   "cell_type": "code",
   "execution_count": 767,
   "id": "5b5d9495-b845-4af7-84f2-147b2c54c09e",
   "metadata": {
    "tags": []
   },
   "outputs": [],
   "source": [
    "table6.loc['Joint F-stat'] = [np.nan, raw[1], np.nan, np.nan, rf[1], np.nan, np.nan, market[1], np.nan]"
   ]
  },
  {
   "cell_type": "code",
   "execution_count": 768,
   "id": "d783d92f-fa98-4afc-b280-3cb43374cb24",
   "metadata": {
    "tags": []
   },
   "outputs": [],
   "source": [
    "table6.loc['p-value (Prob>F)'] = [np.nan, raw[2], np.nan, np.nan, rf[2], np.nan, np.nan, market[2], np.nan]"
   ]
  },
  {
   "cell_type": "code",
   "execution_count": 769,
   "id": "b1af524d-f3e7-48d7-80a8-999ee23a2cb7",
   "metadata": {
    "tags": []
   },
   "outputs": [
    {
     "data": {
      "text/html": [
       "<div>\n",
       "<style scoped>\n",
       "    .dataframe tbody tr th:only-of-type {\n",
       "        vertical-align: middle;\n",
       "    }\n",
       "\n",
       "    .dataframe tbody tr th {\n",
       "        vertical-align: top;\n",
       "    }\n",
       "\n",
       "    .dataframe thead th {\n",
       "        text-align: right;\n",
       "    }\n",
       "</style>\n",
       "<table border=\"1\" class=\"dataframe\">\n",
       "  <thead>\n",
       "    <tr style=\"text-align: right;\">\n",
       "      <th></th>\n",
       "      <th>24mo Raw Return b</th>\n",
       "      <th>24mo Raw Return [t]</th>\n",
       "      <th>24mo Raw Return R-squre</th>\n",
       "      <th>24mo Net of Risk-Free Return b</th>\n",
       "      <th>24mo Net of Risk-Free Return [t]</th>\n",
       "      <th>24mo Net of Risk-Free Return R-squre</th>\n",
       "      <th>24mo Net of Market Return b</th>\n",
       "      <th>24mo Net of Market Return [t]</th>\n",
       "      <th>24mo Net of Market Return R-squre</th>\n",
       "    </tr>\n",
       "  </thead>\n",
       "  <tbody>\n",
       "    <tr>\n",
       "      <th>Volatility (VW)</th>\n",
       "      <td>-0.119365</td>\n",
       "      <td>0.885975</td>\n",
       "      <td>0.213610</td>\n",
       "      <td>-0.119496</td>\n",
       "      <td>1.520143</td>\n",
       "      <td>0.215467</td>\n",
       "      <td>-0.124425</td>\n",
       "      <td>-0.032211</td>\n",
       "      <td>0.192817</td>\n",
       "    </tr>\n",
       "    <tr>\n",
       "      <th>Volatility (VW)- 1yr-Δ</th>\n",
       "      <td>-0.046160</td>\n",
       "      <td>0.202197</td>\n",
       "      <td>0.129266</td>\n",
       "      <td>0.022932</td>\n",
       "      <td>0.200671</td>\n",
       "      <td>0.126220</td>\n",
       "      <td>-0.023278</td>\n",
       "      <td>0.190754</td>\n",
       "      <td>0.125033</td>\n",
       "    </tr>\n",
       "    <tr>\n",
       "      <th>Turnover (VW)</th>\n",
       "      <td>-0.306698</td>\n",
       "      <td>-0.269031</td>\n",
       "      <td>0.040023</td>\n",
       "      <td>-0.327395</td>\n",
       "      <td>-0.396283</td>\n",
       "      <td>0.040048</td>\n",
       "      <td>0.155741</td>\n",
       "      <td>1.537869</td>\n",
       "      <td>0.084189</td>\n",
       "    </tr>\n",
       "    <tr>\n",
       "      <th>Turnover (VW)- 1yr-Δ</th>\n",
       "      <td>-0.973080</td>\n",
       "      <td>-0.034205</td>\n",
       "      <td>0.165947</td>\n",
       "      <td>-0.715200</td>\n",
       "      <td>0.070248</td>\n",
       "      <td>0.163985</td>\n",
       "      <td>-1.357754</td>\n",
       "      <td>0.009834</td>\n",
       "      <td>0.161538</td>\n",
       "    </tr>\n",
       "    <tr>\n",
       "      <th>Firm Age (VW)</th>\n",
       "      <td>-0.030103</td>\n",
       "      <td>-3.519238</td>\n",
       "      <td>0.207721</td>\n",
       "      <td>-0.030098</td>\n",
       "      <td>-2.061497</td>\n",
       "      <td>0.210509</td>\n",
       "      <td>-0.031236</td>\n",
       "      <td>-0.406322</td>\n",
       "      <td>0.213608</td>\n",
       "    </tr>\n",
       "    <tr>\n",
       "      <th>Age tilt</th>\n",
       "      <td>1.148636</td>\n",
       "      <td>0.234167</td>\n",
       "      <td>0.077045</td>\n",
       "      <td>0.942605</td>\n",
       "      <td>0.168645</td>\n",
       "      <td>0.076562</td>\n",
       "      <td>1.560263</td>\n",
       "      <td>0.427479</td>\n",
       "      <td>0.081633</td>\n",
       "    </tr>\n",
       "    <tr>\n",
       "      <th>% Issuers</th>\n",
       "      <td>-28.254872</td>\n",
       "      <td>2.208625</td>\n",
       "      <td>0.179936</td>\n",
       "      <td>-23.626813</td>\n",
       "      <td>2.017198</td>\n",
       "      <td>0.178457</td>\n",
       "      <td>-58.357740</td>\n",
       "      <td>0.593119</td>\n",
       "      <td>0.178802</td>\n",
       "    </tr>\n",
       "    <tr>\n",
       "      <th>Book to Market (VW)</th>\n",
       "      <td>5.061009</td>\n",
       "      <td>1.822173</td>\n",
       "      <td>0.122375</td>\n",
       "      <td>5.146341</td>\n",
       "      <td>1.828863</td>\n",
       "      <td>0.121615</td>\n",
       "      <td>4.556176</td>\n",
       "      <td>1.107208</td>\n",
       "      <td>0.118698</td>\n",
       "    </tr>\n",
       "    <tr>\n",
       "      <th>Sales Growth</th>\n",
       "      <td>-0.035812</td>\n",
       "      <td>-0.007139</td>\n",
       "      <td>0.090569</td>\n",
       "      <td>-0.033765</td>\n",
       "      <td>-0.016808</td>\n",
       "      <td>0.088590</td>\n",
       "      <td>-0.031550</td>\n",
       "      <td>0.022659</td>\n",
       "      <td>0.089829</td>\n",
       "    </tr>\n",
       "    <tr>\n",
       "      <th>CAPE</th>\n",
       "      <td>-0.837421</td>\n",
       "      <td>0.213776</td>\n",
       "      <td>0.066391</td>\n",
       "      <td>-1.015563</td>\n",
       "      <td>0.171153</td>\n",
       "      <td>0.065083</td>\n",
       "      <td>0.218327</td>\n",
       "      <td>0.735241</td>\n",
       "      <td>0.070930</td>\n",
       "    </tr>\n",
       "    <tr>\n",
       "      <th>Acceleration</th>\n",
       "      <td>-0.015043</td>\n",
       "      <td>-0.375274</td>\n",
       "      <td>0.063356</td>\n",
       "      <td>-0.016822</td>\n",
       "      <td>-0.364179</td>\n",
       "      <td>0.063592</td>\n",
       "      <td>-0.001242</td>\n",
       "      <td>-0.334731</td>\n",
       "      <td>0.072188</td>\n",
       "    </tr>\n",
       "    <tr>\n",
       "      <th>Joint F-stat</th>\n",
       "      <td>NaN</td>\n",
       "      <td>49.087589</td>\n",
       "      <td>NaN</td>\n",
       "      <td>NaN</td>\n",
       "      <td>30.693166</td>\n",
       "      <td>NaN</td>\n",
       "      <td>NaN</td>\n",
       "      <td>10.080782</td>\n",
       "      <td>NaN</td>\n",
       "    </tr>\n",
       "    <tr>\n",
       "      <th>p-value (Prob&gt;F)</th>\n",
       "      <td>NaN</td>\n",
       "      <td>0.369749</td>\n",
       "      <td>NaN</td>\n",
       "      <td>NaN</td>\n",
       "      <td>0.372905</td>\n",
       "      <td>NaN</td>\n",
       "      <td>NaN</td>\n",
       "      <td>0.357635</td>\n",
       "      <td>NaN</td>\n",
       "    </tr>\n",
       "  </tbody>\n",
       "</table>\n",
       "</div>"
      ],
      "text/plain": [
       "                        24mo Raw Return b  24mo Raw Return [t]  \\\n",
       "Volatility (VW)                 -0.119365             0.885975   \n",
       "Volatility (VW)- 1yr-Δ          -0.046160             0.202197   \n",
       "Turnover (VW)                   -0.306698            -0.269031   \n",
       "Turnover (VW)- 1yr-Δ            -0.973080            -0.034205   \n",
       "Firm Age (VW)                   -0.030103            -3.519238   \n",
       "Age tilt                         1.148636             0.234167   \n",
       " % Issuers                     -28.254872             2.208625   \n",
       "Book to Market (VW)              5.061009             1.822173   \n",
       "Sales Growth                    -0.035812            -0.007139   \n",
       "CAPE                            -0.837421             0.213776   \n",
       "Acceleration                    -0.015043            -0.375274   \n",
       "Joint F-stat                          NaN            49.087589   \n",
       "p-value (Prob>F)                      NaN             0.369749   \n",
       "\n",
       "                        24mo Raw Return R-squre  \\\n",
       "Volatility (VW)                        0.213610   \n",
       "Volatility (VW)- 1yr-Δ                 0.129266   \n",
       "Turnover (VW)                          0.040023   \n",
       "Turnover (VW)- 1yr-Δ                   0.165947   \n",
       "Firm Age (VW)                          0.207721   \n",
       "Age tilt                               0.077045   \n",
       " % Issuers                             0.179936   \n",
       "Book to Market (VW)                    0.122375   \n",
       "Sales Growth                           0.090569   \n",
       "CAPE                                   0.066391   \n",
       "Acceleration                           0.063356   \n",
       "Joint F-stat                                NaN   \n",
       "p-value (Prob>F)                            NaN   \n",
       "\n",
       "                        24mo Net of Risk-Free Return b  \\\n",
       "Volatility (VW)                              -0.119496   \n",
       "Volatility (VW)- 1yr-Δ                        0.022932   \n",
       "Turnover (VW)                                -0.327395   \n",
       "Turnover (VW)- 1yr-Δ                         -0.715200   \n",
       "Firm Age (VW)                                -0.030098   \n",
       "Age tilt                                      0.942605   \n",
       " % Issuers                                  -23.626813   \n",
       "Book to Market (VW)                           5.146341   \n",
       "Sales Growth                                 -0.033765   \n",
       "CAPE                                         -1.015563   \n",
       "Acceleration                                 -0.016822   \n",
       "Joint F-stat                                       NaN   \n",
       "p-value (Prob>F)                                   NaN   \n",
       "\n",
       "                        24mo Net of Risk-Free Return [t]  \\\n",
       "Volatility (VW)                                 1.520143   \n",
       "Volatility (VW)- 1yr-Δ                          0.200671   \n",
       "Turnover (VW)                                  -0.396283   \n",
       "Turnover (VW)- 1yr-Δ                            0.070248   \n",
       "Firm Age (VW)                                  -2.061497   \n",
       "Age tilt                                        0.168645   \n",
       " % Issuers                                      2.017198   \n",
       "Book to Market (VW)                             1.828863   \n",
       "Sales Growth                                   -0.016808   \n",
       "CAPE                                            0.171153   \n",
       "Acceleration                                   -0.364179   \n",
       "Joint F-stat                                   30.693166   \n",
       "p-value (Prob>F)                                0.372905   \n",
       "\n",
       "                        24mo Net of Risk-Free Return R-squre  \\\n",
       "Volatility (VW)                                     0.215467   \n",
       "Volatility (VW)- 1yr-Δ                              0.126220   \n",
       "Turnover (VW)                                       0.040048   \n",
       "Turnover (VW)- 1yr-Δ                                0.163985   \n",
       "Firm Age (VW)                                       0.210509   \n",
       "Age tilt                                            0.076562   \n",
       " % Issuers                                          0.178457   \n",
       "Book to Market (VW)                                 0.121615   \n",
       "Sales Growth                                        0.088590   \n",
       "CAPE                                                0.065083   \n",
       "Acceleration                                        0.063592   \n",
       "Joint F-stat                                             NaN   \n",
       "p-value (Prob>F)                                         NaN   \n",
       "\n",
       "                        24mo Net of Market Return b  \\\n",
       "Volatility (VW)                           -0.124425   \n",
       "Volatility (VW)- 1yr-Δ                    -0.023278   \n",
       "Turnover (VW)                              0.155741   \n",
       "Turnover (VW)- 1yr-Δ                      -1.357754   \n",
       "Firm Age (VW)                             -0.031236   \n",
       "Age tilt                                   1.560263   \n",
       " % Issuers                               -58.357740   \n",
       "Book to Market (VW)                        4.556176   \n",
       "Sales Growth                              -0.031550   \n",
       "CAPE                                       0.218327   \n",
       "Acceleration                              -0.001242   \n",
       "Joint F-stat                                    NaN   \n",
       "p-value (Prob>F)                                NaN   \n",
       "\n",
       "                        24mo Net of Market Return [t]  \\\n",
       "Volatility (VW)                             -0.032211   \n",
       "Volatility (VW)- 1yr-Δ                       0.190754   \n",
       "Turnover (VW)                                1.537869   \n",
       "Turnover (VW)- 1yr-Δ                         0.009834   \n",
       "Firm Age (VW)                               -0.406322   \n",
       "Age tilt                                     0.427479   \n",
       " % Issuers                                   0.593119   \n",
       "Book to Market (VW)                          1.107208   \n",
       "Sales Growth                                 0.022659   \n",
       "CAPE                                         0.735241   \n",
       "Acceleration                                -0.334731   \n",
       "Joint F-stat                                10.080782   \n",
       "p-value (Prob>F)                             0.357635   \n",
       "\n",
       "                        24mo Net of Market Return R-squre  \n",
       "Volatility (VW)                                  0.192817  \n",
       "Volatility (VW)- 1yr-Δ                           0.125033  \n",
       "Turnover (VW)                                    0.084189  \n",
       "Turnover (VW)- 1yr-Δ                             0.161538  \n",
       "Firm Age (VW)                                    0.213608  \n",
       "Age tilt                                         0.081633  \n",
       " % Issuers                                       0.178802  \n",
       "Book to Market (VW)                              0.118698  \n",
       "Sales Growth                                     0.089829  \n",
       "CAPE                                             0.070930  \n",
       "Acceleration                                     0.072188  \n",
       "Joint F-stat                                          NaN  \n",
       "p-value (Prob>F)                                      NaN  "
      ]
     },
     "execution_count": 769,
     "metadata": {},
     "output_type": "execute_result"
    }
   ],
   "source": [
    "table6"
   ]
  },
  {
   "cell_type": "markdown",
   "id": "72ab0663-2360-4b8d-95b3-06780dc573f9",
   "metadata": {
    "tags": []
   },
   "source": [
    "# Creating Table 4 (Bubbles for Fama)"
   ]
  },
  {
   "cell_type": "code",
   "execution_count": 656,
   "id": "a300c56c-253a-4786-90bc-d2eda2289ba0",
   "metadata": {
    "tags": []
   },
   "outputs": [],
   "source": [
    "all_bubble = regression[regression.index.isin(bubble_date.index)]"
   ]
  },
  {
   "cell_type": "code",
   "execution_count": 657,
   "id": "0c133328-0671-4340-b0fc-3cd32cf887d1",
   "metadata": {
    "tags": []
   },
   "outputs": [],
   "source": [
    "table4 = pd.DataFrame(index=['Past 2-year Return', 'Excess Past 2-year Return', 'Volatility (VW)', 'Volatility (VW)- 1yr-Δ', 'Turnover (VW)',\n",
    "                           'Turnover (VW)- 1yr-Δ', 'Firm Age (VW)', 'Age tilt', ' % Issuers', 'Book to Market (VW)', 'Sales Growth',\n",
    "                           'CAPE', 'Acceleration'])"
   ]
  },
  {
   "cell_type": "code",
   "execution_count": 658,
   "id": "496cf164-e726-447a-ad2d-e623de6b7aaa",
   "metadata": {
    "tags": []
   },
   "outputs": [],
   "source": [
    "column_order = ['two_vwr_ind', 'rf_two_vwr_ind', 'vol_vw', 'vol_vw_change', 'turnover_vw', \n",
    "                'turnover_vw_change', 'age_market_rank', 'age_tilt', 'issuance', 'btm_vwr', \n",
    "                'revenue_market_rank', 'cape', 'acc']"
   ]
  },
  {
   "cell_type": "code",
   "execution_count": 659,
   "id": "ad3e1ed4-c953-4528-9233-0a5b055243f1",
   "metadata": {
    "tags": []
   },
   "outputs": [],
   "source": [
    "all_ind_mean = regression[column_order].mean().values\n",
    "all_ind_std = regression[column_order].std().values\n",
    "table4['All industry-years Mean'] = all_ind_mean\n",
    "table4['All industry-years STD'] = all_ind_std"
   ]
  },
  {
   "cell_type": "code",
   "execution_count": 660,
   "id": "86a85608-b8df-446e-a1d8-8c7b726fcce3",
   "metadata": {
    "tags": []
   },
   "outputs": [],
   "source": [
    "run_up_mean = np.array(all_bubble[column_order].mean())\n",
    "run_up_std = np.array(all_bubble[column_order].std())\n",
    "table4['Run-ups Mean'] = run_up_mean\n",
    "table4['Run-ups STD'] = run_up_std"
   ]
  },
  {
   "cell_type": "markdown",
   "id": "0cff7000-4c3b-4b6f-a9ed-fd264806e28d",
   "metadata": {},
   "source": [
    "### Detecting crashes"
   ]
  },
  {
   "cell_type": "code",
   "execution_count": 661,
   "id": "3967fe17-6e33-4bca-abec-8f273f6aaeb0",
   "metadata": {
    "tags": []
   },
   "outputs": [],
   "source": [
    "# Function to check if a crash occurred\n",
    "def did_crash_occur(data, run_up_date):\n",
    "    two_year_end = run_up_date + pd.DateOffset(years=2)\n",
    "    post_runup_data = data.loc[run_up_date:two_year_end]\n",
    "    \n",
    "    # Calculate cumulative return from run-up date\n",
    "    post_runup_data['cumulative_return'] = (1 + post_runup_data['vwr_ind']).cumprod() - 1\n",
    "\n",
    "    # Check if there was any point where the drawdown from the max was 40% or more\n",
    "    if any(post_runup_data['cumulative_return'] <= (post_runup_data['cumulative_return'].cummax() - 0.4)):\n",
    "        return 1  # Crash occurred\n",
    "    return 0  # No crash"
   ]
  },
  {
   "cell_type": "code",
   "execution_count": 662,
   "id": "6e92350d-bf81-4bdc-b32d-fc04c128f4a1",
   "metadata": {
    "tags": []
   },
   "outputs": [],
   "source": [
    "run_up_check_crash = pd.DataFrame(columns=['date', 'ind', 'crash'])\n",
    "\n",
    "for (run_up_date, industry) in bubble_date.index:\n",
    "    crash = did_crash_occur(regression.xs(industry, level=1), run_up_date)\n",
    "    run_up_check_crash = pd.concat([run_up_check_crash, pd.DataFrame({'date': [run_up_date], 'ind': [industry], 'crash': [crash]})], ignore_index=True)\n",
    "    \n",
    "run_up_check_crash = run_up_check_crash.set_index(['date', 'ind'])\n",
    "no_crash = run_up_check_crash.loc[run_up_check_crash.crash==0]\n",
    "crash = run_up_check_crash.loc[run_up_check_crash.crash==1]"
   ]
  },
  {
   "cell_type": "code",
   "execution_count": 663,
   "id": "16c0469e-6bda-4f6e-80ca-7fb42c443f60",
   "metadata": {
    "tags": []
   },
   "outputs": [],
   "source": [
    "crash_bubble = regression[regression.index.isin(crash.index)]\n",
    "run_up_crash_mean = np.array(crash_bubble[column_order].mean())\n",
    "run_up_crash_std = np.array(crash_bubble[column_order].std())\n",
    "table4['Run-ups with Crash Mean'] = run_up_crash_mean\n",
    "table4['Run-ups with Crash STD'] = run_up_crash_std"
   ]
  },
  {
   "cell_type": "code",
   "execution_count": 664,
   "id": "020fc708-7a6c-4488-a47c-18710427cc71",
   "metadata": {
    "tags": []
   },
   "outputs": [],
   "source": [
    "no_crash_bubble = regression[regression.index.isin(no_crash.index)]\n",
    "run_up_no_crash_mean = np.array(no_crash_bubble[column_order].mean())\n",
    "run_up_no_crash_std = np.array(no_crash_bubble[column_order].std())\n",
    "table4['Run-ups with no Crash Mean'] = run_up_no_crash_mean\n",
    "table4['Run-ups with no Crash STD'] = run_up_no_crash_std"
   ]
  },
  {
   "cell_type": "markdown",
   "id": "36203dfd-81c5-474a-a7bd-e371480724bc",
   "metadata": {},
   "source": [
    "### Regression"
   ]
  },
  {
   "cell_type": "code",
   "execution_count": 665,
   "id": "1306018e-7444-4085-bf75-da9a736ace15",
   "metadata": {
    "tags": []
   },
   "outputs": [],
   "source": [
    "table4['Crash minus no Crash Mean'] = table4['Run-ups with Crash Mean'] - table4['Run-ups with no Crash Mean']"
   ]
  },
  {
   "cell_type": "code",
   "execution_count": 666,
   "id": "185dc4fb-ce26-49cd-a052-5c7e814d9ff8",
   "metadata": {
    "tags": []
   },
   "outputs": [],
   "source": [
    "characteristics = ['two_vwr_ind', 'rf_two_vwr_ind', 'vol_vw', 'vol_vw_change', 'turnover_vw', 'turnover_vw_change', 'age_market_rank', 'age_tilt', 'issuance', 'btm_vwr', 'revenue_market_rank', 'cape', 'acc']"
   ]
  },
  {
   "cell_type": "code",
   "execution_count": 667,
   "id": "62d76fa6-ef08-471e-928e-3ac9e80ef95e",
   "metadata": {
    "tags": []
   },
   "outputs": [],
   "source": [
    "no_crash_regression = pd.concat([get_post_bubble_data(regression, date, ind) for date, ind in no_crash.index.tolist()])\n",
    "no_crash_regression['Year'] = no_crash_regression.index.get_level_values('date').year\n",
    "no_crash_regression['Ind'] = no_crash_regression.index.get_level_values('ind')\n",
    "no_crash_regression['Year_Ind'] = no_crash_regression['Year'].astype(str) + '_' + no_crash_regression['Ind'].astype(str)"
   ]
  },
  {
   "cell_type": "code",
   "execution_count": 668,
   "id": "f243cdbb-8780-4bf6-85d4-fe7b97389901",
   "metadata": {
    "tags": []
   },
   "outputs": [],
   "source": [
    "crash_regression = pd.concat([get_post_bubble_data(regression, date, ind) for date, ind in crash.index.tolist()])\n",
    "crash_regression['Year'] = crash_regression.index.get_level_values('date').year\n",
    "crash_regression['Ind'] = crash_regression.index.get_level_values('ind')\n",
    "crash_regression['Year_Ind'] = crash_regression['Year'].astype(str) + '_' + crash_regression['Ind'].astype(str)"
   ]
  },
  {
   "cell_type": "code",
   "execution_count": 669,
   "id": "3ea53f48-309a-4edc-8aaa-b2cd8bf65508",
   "metadata": {
    "tags": []
   },
   "outputs": [],
   "source": [
    "no_crash_stats = run_regression(no_crash_regression, characteristics, 'vwr_ind', 'Year_Ind')\n",
    "crash_stats = run_regression(crash_regression, characteristics, 'vwr_ind', 'Year_Ind')"
   ]
  },
  {
   "cell_type": "code",
   "execution_count": 670,
   "id": "0c3d802f-4f57-4a9a-8f95-bf28fa854be2",
   "metadata": {
    "tags": []
   },
   "outputs": [],
   "source": [
    "format_table4_no_crash = pd.DataFrame(index=['Past 2-year Return', 'Excess Past 2-year Return', 'Volatility (VW)', 'Volatility (VW)- 1yr-Δ', 'Turnover (VW)',\n",
    "                             'Turnover (VW)- 1yr-Δ', 'Firm Age (VW)', 'Age tilt', ' % Issuers', 'Book to Market (VW)', 'Sales Growth',\n",
    "                             'CAPE', 'Acceleration'])\n",
    "format_table4_crash = pd.DataFrame(index=['Past 2-year Return', 'Excess Past 2-year Return', 'Volatility (VW)', 'Volatility (VW)- 1yr-Δ', 'Turnover (VW)',\n",
    "                             'Turnover (VW)- 1yr-Δ', 'Firm Age (VW)', 'Age tilt', ' % Issuers', 'Book to Market (VW)', 'Sales Growth',\n",
    "                             'CAPE', 'Acceleration'])"
   ]
  },
  {
   "cell_type": "code",
   "execution_count": 671,
   "id": "d281443a-8e81-40ae-9f48-c8813ad278d0",
   "metadata": {
    "tags": []
   },
   "outputs": [],
   "source": [
    "no_crash_output = collect_stats(format_table4_no_crash, no_crash_stats, 'No Crash')\n",
    "crash_output = collect_stats(format_table4_crash, crash_stats, 'Crash')"
   ]
  },
  {
   "cell_type": "code",
   "execution_count": 672,
   "id": "ab9b44be-195a-4d8d-8231-3c005e25be77",
   "metadata": {
    "tags": []
   },
   "outputs": [],
   "source": [
    "table4['Crash minus no Crash [t]'] = crash_output['Crash [t]'] - no_crash_output['No Crash [t]']"
   ]
  },
  {
   "cell_type": "markdown",
   "id": "9c11436d-c811-48fc-a816-7613a7dfdb65",
   "metadata": {},
   "source": [
    "### SUR"
   ]
  },
  {
   "cell_type": "code",
   "execution_count": 733,
   "id": "47d69fa9-3330-4891-99fe-bef0009cf34d",
   "metadata": {
    "tags": []
   },
   "outputs": [],
   "source": [
    "def get_stats(data):\n",
    "    sur_columns = ['two_vwr_ind', 'rf_two_vwr_ind', 'vol_vw', 'vol_vw_change', 'turnover_vw', \n",
    "                   'turnover_vw_change', 'age_market_rank', 'issuance', 'age_tilt', 'btm_vwr', \n",
    "                   'revenue_market_rank', 'cape', 'acc']\n",
    "    f = []\n",
    "    p = []\n",
    "    for col in sur_columns:\n",
    "        y = df['vwr_ind']\n",
    "        X = sm.add_constant(df[col].astype(float))\n",
    "        model = sm.OLS(y, X).fit()\n",
    "        f.append(model.fvalue)\n",
    "        p.append(model.f_pvalue)\n",
    "    return np.array(f).mean(), np.array(p).mean()\n",
    "    \n",
    "def run_sur_all(data):\n",
    "    f_total = []\n",
    "    p_total = []\n",
    "    for ind, df in data.groupby('ind'):\n",
    "        test = get_stats(df)\n",
    "        f_total.append(test[0])\n",
    "        p_total.append(test[1])\n",
    "    return np.array(f_total).mean(), np.array(p_total).mean()"
   ]
  },
  {
   "cell_type": "code",
   "execution_count": 740,
   "id": "5da7cbf4-ecbb-4449-8729-bc66ec203430",
   "metadata": {
    "tags": []
   },
   "outputs": [],
   "source": [
    "# crash_sur_stats = run_sur_all(crash_regression)\n",
    "# no_crash_sur_stats = run_sur_all(crash_regression)\n",
    "joint_stats = run_sur_all(regression)\n",
    "f = joint_stats[0]\n",
    "p = joint_stats[1]"
   ]
  },
  {
   "cell_type": "code",
   "execution_count": 743,
   "id": "0a84ff57-c6cb-41bf-923d-ce04e657f8e3",
   "metadata": {
    "tags": []
   },
   "outputs": [],
   "source": [
    "table4.loc['Joint F-stat'] = [np.nan] * (table4.shape[1]-1) + [f]"
   ]
  },
  {
   "cell_type": "code",
   "execution_count": 745,
   "id": "c73f4a5e-5531-41ed-9ccd-28d3574cb310",
   "metadata": {
    "tags": []
   },
   "outputs": [],
   "source": [
    "table4.loc['p-value (Prob>F)'] = [np.nan] * (table4.shape[1]-1) + [p]"
   ]
  },
  {
   "cell_type": "code",
   "execution_count": 746,
   "id": "26e76be8-cfaf-4e2d-bef3-cecb96c866b6",
   "metadata": {
    "tags": []
   },
   "outputs": [
    {
     "data": {
      "text/html": [
       "<div>\n",
       "<style scoped>\n",
       "    .dataframe tbody tr th:only-of-type {\n",
       "        vertical-align: middle;\n",
       "    }\n",
       "\n",
       "    .dataframe tbody tr th {\n",
       "        vertical-align: top;\n",
       "    }\n",
       "\n",
       "    .dataframe thead th {\n",
       "        text-align: right;\n",
       "    }\n",
       "</style>\n",
       "<table border=\"1\" class=\"dataframe\">\n",
       "  <thead>\n",
       "    <tr style=\"text-align: right;\">\n",
       "      <th></th>\n",
       "      <th>All industry-years Mean</th>\n",
       "      <th>All industry-years STD</th>\n",
       "      <th>Run-ups Mean</th>\n",
       "      <th>Run-ups STD</th>\n",
       "      <th>Run-ups with Crash Mean</th>\n",
       "      <th>Run-ups with Crash STD</th>\n",
       "      <th>Run-ups with no Crash Mean</th>\n",
       "      <th>Run-ups with no Crash STD</th>\n",
       "      <th>Crash minus no Crash Mean</th>\n",
       "      <th>Crash minus no Crash [t]</th>\n",
       "    </tr>\n",
       "  </thead>\n",
       "  <tbody>\n",
       "    <tr>\n",
       "      <th>Past 2-year Return</th>\n",
       "      <td>0.444960</td>\n",
       "      <td>0.509995</td>\n",
       "      <td>0.371353</td>\n",
       "      <td>0.389036</td>\n",
       "      <td>0.288414</td>\n",
       "      <td>0.309515</td>\n",
       "      <td>0.435861</td>\n",
       "      <td>0.438931</td>\n",
       "      <td>-0.147447</td>\n",
       "      <td>2.073163</td>\n",
       "    </tr>\n",
       "    <tr>\n",
       "      <th>Excess Past 2-year Return</th>\n",
       "      <td>0.413020</td>\n",
       "      <td>0.511321</td>\n",
       "      <td>0.324820</td>\n",
       "      <td>0.390064</td>\n",
       "      <td>0.238836</td>\n",
       "      <td>0.310051</td>\n",
       "      <td>0.391696</td>\n",
       "      <td>0.439446</td>\n",
       "      <td>-0.152861</td>\n",
       "      <td>8.028279</td>\n",
       "    </tr>\n",
       "    <tr>\n",
       "      <th>Volatility (VW)</th>\n",
       "      <td>0.021285</td>\n",
       "      <td>0.071431</td>\n",
       "      <td>0.029554</td>\n",
       "      <td>0.014638</td>\n",
       "      <td>0.036379</td>\n",
       "      <td>0.018122</td>\n",
       "      <td>0.024245</td>\n",
       "      <td>0.008450</td>\n",
       "      <td>0.012134</td>\n",
       "      <td>3.653230</td>\n",
       "    </tr>\n",
       "    <tr>\n",
       "      <th>Volatility (VW)- 1yr-Δ</th>\n",
       "      <td>0.124993</td>\n",
       "      <td>3.051425</td>\n",
       "      <td>0.522543</td>\n",
       "      <td>1.410202</td>\n",
       "      <td>0.951792</td>\n",
       "      <td>2.038262</td>\n",
       "      <td>0.188683</td>\n",
       "      <td>0.423865</td>\n",
       "      <td>0.763109</td>\n",
       "      <td>-2.624837</td>\n",
       "    </tr>\n",
       "    <tr>\n",
       "      <th>Turnover (VW)</th>\n",
       "      <td>0.061782</td>\n",
       "      <td>0.082721</td>\n",
       "      <td>0.123920</td>\n",
       "      <td>0.149272</td>\n",
       "      <td>0.186337</td>\n",
       "      <td>0.199062</td>\n",
       "      <td>0.075373</td>\n",
       "      <td>0.068016</td>\n",
       "      <td>0.110964</td>\n",
       "      <td>-0.333665</td>\n",
       "    </tr>\n",
       "    <tr>\n",
       "      <th>Turnover (VW)- 1yr-Δ</th>\n",
       "      <td>0.237634</td>\n",
       "      <td>2.307096</td>\n",
       "      <td>0.528438</td>\n",
       "      <td>0.867438</td>\n",
       "      <td>0.634109</td>\n",
       "      <td>1.038842</td>\n",
       "      <td>0.446249</td>\n",
       "      <td>0.728354</td>\n",
       "      <td>0.187859</td>\n",
       "      <td>-4.028050</td>\n",
       "    </tr>\n",
       "    <tr>\n",
       "      <th>Firm Age (VW)</th>\n",
       "      <td>0.520568</td>\n",
       "      <td>0.319867</td>\n",
       "      <td>0.355696</td>\n",
       "      <td>0.291736</td>\n",
       "      <td>0.304634</td>\n",
       "      <td>0.226744</td>\n",
       "      <td>0.395410</td>\n",
       "      <td>0.334764</td>\n",
       "      <td>-0.090776</td>\n",
       "      <td>4.746137</td>\n",
       "    </tr>\n",
       "    <tr>\n",
       "      <th>Age tilt</th>\n",
       "      <td>-0.012371</td>\n",
       "      <td>0.093780</td>\n",
       "      <td>-0.113523</td>\n",
       "      <td>0.085789</td>\n",
       "      <td>-0.095928</td>\n",
       "      <td>0.099507</td>\n",
       "      <td>-0.127207</td>\n",
       "      <td>0.073454</td>\n",
       "      <td>0.031280</td>\n",
       "      <td>-1.528591</td>\n",
       "    </tr>\n",
       "    <tr>\n",
       "      <th>% Issuers</th>\n",
       "      <td>0.002972</td>\n",
       "      <td>0.012601</td>\n",
       "      <td>0.011646</td>\n",
       "      <td>0.028416</td>\n",
       "      <td>0.013830</td>\n",
       "      <td>0.035214</td>\n",
       "      <td>0.009948</td>\n",
       "      <td>0.022743</td>\n",
       "      <td>0.003882</td>\n",
       "      <td>-1.573267</td>\n",
       "    </tr>\n",
       "    <tr>\n",
       "      <th>Book to Market (VW)</th>\n",
       "      <td>1.034296</td>\n",
       "      <td>5.590733</td>\n",
       "      <td>0.518099</td>\n",
       "      <td>0.864790</td>\n",
       "      <td>0.827575</td>\n",
       "      <td>1.222097</td>\n",
       "      <td>0.277396</td>\n",
       "      <td>0.285349</td>\n",
       "      <td>0.550178</td>\n",
       "      <td>-1.908779</td>\n",
       "    </tr>\n",
       "    <tr>\n",
       "      <th>Sales Growth</th>\n",
       "      <td>0.516236</td>\n",
       "      <td>0.259850</td>\n",
       "      <td>0.522708</td>\n",
       "      <td>0.309701</td>\n",
       "      <td>0.510492</td>\n",
       "      <td>0.331849</td>\n",
       "      <td>0.532210</td>\n",
       "      <td>0.300786</td>\n",
       "      <td>-0.021718</td>\n",
       "      <td>-1.155835</td>\n",
       "    </tr>\n",
       "    <tr>\n",
       "      <th>CAPE</th>\n",
       "      <td>18.691269</td>\n",
       "      <td>7.766011</td>\n",
       "      <td>23.038200</td>\n",
       "      <td>10.360303</td>\n",
       "      <td>25.317251</td>\n",
       "      <td>11.272310</td>\n",
       "      <td>21.265604</td>\n",
       "      <td>9.537212</td>\n",
       "      <td>4.051647</td>\n",
       "      <td>-7.245054</td>\n",
       "    </tr>\n",
       "    <tr>\n",
       "      <th>Acceleration</th>\n",
       "      <td>0.176686</td>\n",
       "      <td>0.728518</td>\n",
       "      <td>0.914369</td>\n",
       "      <td>1.293029</td>\n",
       "      <td>0.704846</td>\n",
       "      <td>0.814752</td>\n",
       "      <td>1.077331</td>\n",
       "      <td>1.573818</td>\n",
       "      <td>-0.372485</td>\n",
       "      <td>-1.098715</td>\n",
       "    </tr>\n",
       "    <tr>\n",
       "      <th>Joint F-stat</th>\n",
       "      <td>NaN</td>\n",
       "      <td>NaN</td>\n",
       "      <td>NaN</td>\n",
       "      <td>NaN</td>\n",
       "      <td>NaN</td>\n",
       "      <td>NaN</td>\n",
       "      <td>NaN</td>\n",
       "      <td>NaN</td>\n",
       "      <td>NaN</td>\n",
       "      <td>8.199489</td>\n",
       "    </tr>\n",
       "    <tr>\n",
       "      <th>p-value (Prob&gt;F)</th>\n",
       "      <td>NaN</td>\n",
       "      <td>NaN</td>\n",
       "      <td>NaN</td>\n",
       "      <td>NaN</td>\n",
       "      <td>NaN</td>\n",
       "      <td>NaN</td>\n",
       "      <td>NaN</td>\n",
       "      <td>NaN</td>\n",
       "      <td>NaN</td>\n",
       "      <td>0.247806</td>\n",
       "    </tr>\n",
       "  </tbody>\n",
       "</table>\n",
       "</div>"
      ],
      "text/plain": [
       "                           All industry-years Mean  All industry-years STD  \\\n",
       "Past 2-year Return                        0.444960                0.509995   \n",
       "Excess Past 2-year Return                 0.413020                0.511321   \n",
       "Volatility (VW)                           0.021285                0.071431   \n",
       "Volatility (VW)- 1yr-Δ                    0.124993                3.051425   \n",
       "Turnover (VW)                             0.061782                0.082721   \n",
       "Turnover (VW)- 1yr-Δ                      0.237634                2.307096   \n",
       "Firm Age (VW)                             0.520568                0.319867   \n",
       "Age tilt                                 -0.012371                0.093780   \n",
       " % Issuers                                0.002972                0.012601   \n",
       "Book to Market (VW)                       1.034296                5.590733   \n",
       "Sales Growth                              0.516236                0.259850   \n",
       "CAPE                                     18.691269                7.766011   \n",
       "Acceleration                              0.176686                0.728518   \n",
       "Joint F-stat                                   NaN                     NaN   \n",
       "p-value (Prob>F)                               NaN                     NaN   \n",
       "\n",
       "                           Run-ups Mean  Run-ups STD  Run-ups with Crash Mean  \\\n",
       "Past 2-year Return             0.371353     0.389036                 0.288414   \n",
       "Excess Past 2-year Return      0.324820     0.390064                 0.238836   \n",
       "Volatility (VW)                0.029554     0.014638                 0.036379   \n",
       "Volatility (VW)- 1yr-Δ         0.522543     1.410202                 0.951792   \n",
       "Turnover (VW)                  0.123920     0.149272                 0.186337   \n",
       "Turnover (VW)- 1yr-Δ           0.528438     0.867438                 0.634109   \n",
       "Firm Age (VW)                  0.355696     0.291736                 0.304634   \n",
       "Age tilt                      -0.113523     0.085789                -0.095928   \n",
       " % Issuers                     0.011646     0.028416                 0.013830   \n",
       "Book to Market (VW)            0.518099     0.864790                 0.827575   \n",
       "Sales Growth                   0.522708     0.309701                 0.510492   \n",
       "CAPE                          23.038200    10.360303                25.317251   \n",
       "Acceleration                   0.914369     1.293029                 0.704846   \n",
       "Joint F-stat                        NaN          NaN                      NaN   \n",
       "p-value (Prob>F)                    NaN          NaN                      NaN   \n",
       "\n",
       "                           Run-ups with Crash STD  Run-ups with no Crash Mean  \\\n",
       "Past 2-year Return                       0.309515                    0.435861   \n",
       "Excess Past 2-year Return                0.310051                    0.391696   \n",
       "Volatility (VW)                          0.018122                    0.024245   \n",
       "Volatility (VW)- 1yr-Δ                   2.038262                    0.188683   \n",
       "Turnover (VW)                            0.199062                    0.075373   \n",
       "Turnover (VW)- 1yr-Δ                     1.038842                    0.446249   \n",
       "Firm Age (VW)                            0.226744                    0.395410   \n",
       "Age tilt                                 0.099507                   -0.127207   \n",
       " % Issuers                               0.035214                    0.009948   \n",
       "Book to Market (VW)                      1.222097                    0.277396   \n",
       "Sales Growth                             0.331849                    0.532210   \n",
       "CAPE                                    11.272310                   21.265604   \n",
       "Acceleration                             0.814752                    1.077331   \n",
       "Joint F-stat                                  NaN                         NaN   \n",
       "p-value (Prob>F)                              NaN                         NaN   \n",
       "\n",
       "                           Run-ups with no Crash STD  \\\n",
       "Past 2-year Return                          0.438931   \n",
       "Excess Past 2-year Return                   0.439446   \n",
       "Volatility (VW)                             0.008450   \n",
       "Volatility (VW)- 1yr-Δ                      0.423865   \n",
       "Turnover (VW)                               0.068016   \n",
       "Turnover (VW)- 1yr-Δ                        0.728354   \n",
       "Firm Age (VW)                               0.334764   \n",
       "Age tilt                                    0.073454   \n",
       " % Issuers                                  0.022743   \n",
       "Book to Market (VW)                         0.285349   \n",
       "Sales Growth                                0.300786   \n",
       "CAPE                                        9.537212   \n",
       "Acceleration                                1.573818   \n",
       "Joint F-stat                                     NaN   \n",
       "p-value (Prob>F)                                 NaN   \n",
       "\n",
       "                           Crash minus no Crash Mean  Crash minus no Crash [t]  \n",
       "Past 2-year Return                         -0.147447                  2.073163  \n",
       "Excess Past 2-year Return                  -0.152861                  8.028279  \n",
       "Volatility (VW)                             0.012134                  3.653230  \n",
       "Volatility (VW)- 1yr-Δ                      0.763109                 -2.624837  \n",
       "Turnover (VW)                               0.110964                 -0.333665  \n",
       "Turnover (VW)- 1yr-Δ                        0.187859                 -4.028050  \n",
       "Firm Age (VW)                              -0.090776                  4.746137  \n",
       "Age tilt                                    0.031280                 -1.528591  \n",
       " % Issuers                                  0.003882                 -1.573267  \n",
       "Book to Market (VW)                         0.550178                 -1.908779  \n",
       "Sales Growth                               -0.021718                 -1.155835  \n",
       "CAPE                                        4.051647                 -7.245054  \n",
       "Acceleration                               -0.372485                 -1.098715  \n",
       "Joint F-stat                                     NaN                  8.199489  \n",
       "p-value (Prob>F)                                 NaN                  0.247806  "
      ]
     },
     "execution_count": 746,
     "metadata": {},
     "output_type": "execute_result"
    }
   ],
   "source": [
    "table4"
   ]
  },
  {
   "cell_type": "code",
   "execution_count": null,
   "id": "9ae282a7-34a2-4e90-8b52-5c419e504ae9",
   "metadata": {},
   "outputs": [],
   "source": []
  }
 ],
 "metadata": {
  "kernelspec": {
   "display_name": "bubblefacto",
   "language": "python",
   "name": "bubblefacto"
  },
  "language_info": {
   "codemirror_mode": {
    "name": "ipython",
    "version": 3
   },
   "file_extension": ".py",
   "mimetype": "text/x-python",
   "name": "python",
   "nbconvert_exporter": "python",
   "pygments_lexer": "ipython3",
   "version": "3.10.12"
  }
 },
 "nbformat": 4,
 "nbformat_minor": 5
}
