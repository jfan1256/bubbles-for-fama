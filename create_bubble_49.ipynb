{
 "cells": [
  {
   "cell_type": "code",
   "execution_count": 347,
   "id": "initial_id",
   "metadata": {
    "ExecuteTime": {
     "end_time": "2023-09-13T00:17:21.773621200Z",
     "start_time": "2023-09-13T00:17:20.961266200Z"
    },
    "tags": []
   },
   "outputs": [],
   "source": [
    "import pandas as pd\n",
    "import numpy as np\n",
    "import os\n",
    "import re\n",
    "import pandas_datareader.data as web\n",
    "\n",
    "from pathlib import Path\n",
    "from IPython.display import display\n",
    "from scipy.stats import pearsonr\n",
    "import matplotlib.pyplot as plt\n",
    "\n",
    "import warnings\n",
    "warnings.filterwarnings('ignore')"
   ]
  },
  {
   "cell_type": "code",
   "execution_count": 348,
   "id": "6aadb5c8",
   "metadata": {
    "tags": []
   },
   "outputs": [],
   "source": [
    "# Remove all data without at least 5 years worth of data\n",
    "def set_length(data, year):\n",
    "    counts = data.groupby('permno').size()\n",
    "    to_exclude = counts[counts < (year * 12)].index\n",
    "    mask = ~data.index.get_level_values('permno').isin(to_exclude)\n",
    "    data = data[mask]\n",
    "    return data\n",
    "\n",
    "# Get ticker data\n",
    "def get_permno_data(data, permno):\n",
    "    idx = pd.IndexSlice\n",
    "    desired_data = data.loc[idx[:, permno, :], :]\n",
    "    return desired_data\n",
    "\n",
    "# Get ticker data\n",
    "def get_ind_data(data, ind):\n",
    "    idx = pd.IndexSlice\n",
    "    desired_data = data.loc[idx[ind, :, :], :]\n",
    "    return desired_data\n",
    "\n",
    "# Assign industry based off range\n",
    "def assign_label(df, column_name, sic_ranges, label):\n",
    "    df['sic_temp_crsp'] = df['sic_crsp']\n",
    "    df['sic_temp_comp'] = df['sic_comp']\n",
    "    \n",
    "    for r in sic_ranges:\n",
    "        if isinstance(r, tuple):\n",
    "            df.loc[(df['sic_temp_crsp'] >= r[0]) & (df['sic_temp_crsp'] <= r[1]), f'{column_name}_crsp'] = label\n",
    "            df.loc[(df['sic_temp_comp'] >= r[0]) & (df['sic_temp_comp'] <= r[1]), f'{column_name}_comp'] = label\n",
    "        else:\n",
    "            df.loc[df['sic_temp_crsp'] == r, f'{column_name}_crsp'] = label\n",
    "            df.loc[df['sic_temp_comp'] == r, f'{column_name}_comp'] = label\n",
    "    \n",
    "    df = df.drop(columns=['sic_temp_crsp', 'sic_temp_comp'])\n",
    "    \n",
    "    return df"
   ]
  },
  {
   "cell_type": "code",
   "execution_count": 349,
   "id": "dab2ee899fa51ee",
   "metadata": {
    "tags": []
   },
   "outputs": [],
   "source": [
    "root = Path(os.getcwd())"
   ]
  },
  {
   "cell_type": "code",
   "execution_count": 350,
   "id": "f4d7bdd1",
   "metadata": {
    "tags": []
   },
   "outputs": [],
   "source": [
    "comp = pd.read_csv(root / 'data' / 'comp_price.csv')\n",
    "crsp_comp = pd.read_csv(root / 'data' / 'crsp_comp_price.csv')\n",
    "crsp = pd.read_csv(root / 'data' / 'crsp_price.csv')"
   ]
  },
  {
   "cell_type": "code",
   "execution_count": 351,
   "id": "b061e2b8",
   "metadata": {
    "tags": []
   },
   "outputs": [],
   "source": [
    "comp['datadate'] = pd.to_datetime(comp['datadate']).dt.to_period(\"M\").dt.to_timestamp(\"M\")\n",
    "comp = comp.rename(columns={'tic': 'ticker', 'prccm':'close', 'cshom': 'out_share', 'datadate': 'date'}\n",
    "                              ).set_index(['ticker', 'date']).drop(['iid', 'gvkey'], axis=1)"
   ]
  },
  {
   "cell_type": "code",
   "execution_count": 352,
   "id": "a541fe14",
   "metadata": {
    "tags": []
   },
   "outputs": [],
   "source": [
    "crsp_comp['datadate'] = pd.to_datetime(crsp_comp['datadate']).dt.to_period(\"M\").dt.to_timestamp(\"M\")\n",
    "crsp_comp = crsp_comp.rename(columns={'tic': 'ticker', 'prccm':'close', 'cshoq': 'out_share', 'datadate': 'date'\n",
    "                                     , 'LPERMNO':'permno', 'sic':'sic_comp'}\n",
    "                              ).set_index(['permno', 'date']).drop(['iid', 'GVKEY', 'ticker', 'out_share', 'close'], axis=1)\n",
    "crsp_comp = crsp_comp.sort_index(level=['permno','date'])"
   ]
  },
  {
   "cell_type": "code",
   "execution_count": 353,
   "id": "3bac0b00",
   "metadata": {
    "tags": []
   },
   "outputs": [],
   "source": [
    "crsp['date'] = pd.to_datetime(crsp['date']).dt.to_period(\"M\").dt.to_timestamp(\"M\")\n",
    "\n",
    "crsp = crsp.rename(columns={'TICKER': 'ticker', 'PRC':'close', 'VOL':'volume', \n",
    "                                        'SHROUT': 'out_share', 'FACSHR': 'adj_share', 'ISSUNO':'nasdaq',\n",
    "                                        'SHRCD': 'share_code', 'PERMNO':'permno', 'SICCD':'sic_crsp', 'RET':'ret_01'}\n",
    "                              ).set_index(['permno', 'date']).drop('PERMCO', axis=1)\n",
    "\n",
    "crsp = crsp.sort_index(level=['permno', 'date'])\n",
    "\n",
    "crsp = crsp[crsp.index.get_level_values('permno').notna()]\n",
    "\n",
    "crsp['sic_crsp'] = pd.to_numeric(crsp['sic_crsp'], errors='coerce', downcast='integer')\n",
    "\n",
    "crsp = crsp.dropna(subset=['sic_crsp'])"
   ]
  },
  {
   "cell_type": "code",
   "execution_count": 354,
   "id": "dc4ae378",
   "metadata": {
    "tags": []
   },
   "outputs": [],
   "source": [
    "combined = pd.merge(crsp, crsp_comp, left_index=True, right_index=True, how='outer')\n",
    "combined = combined[~combined.index.duplicated(keep='first')]"
   ]
  },
  {
   "cell_type": "code",
   "execution_count": 355,
   "id": "72435c8b",
   "metadata": {
    "tags": []
   },
   "outputs": [],
   "source": [
    "# Make a permno's industry the same across all dates\n",
    "# def first_non_na(series):\n",
    "#     return series.dropna().iloc[0] if not series.dropna().empty else np.nan\n",
    "\n",
    "# combined['sic_crsp'] = combined.groupby('permno')['sic_crsp'].transform(first_non_na)\n",
    "# combined['sic_comp'] = combined.groupby('permno')['sic_comp'].transform(first_non_na)"
   ]
  },
  {
   "cell_type": "code",
   "execution_count": 356,
   "id": "8642b518",
   "metadata": {
    "tags": []
   },
   "outputs": [],
   "source": [
    "# combined = set_length(combined, 2)"
   ]
  },
  {
   "cell_type": "markdown",
   "id": "9961cc35",
   "metadata": {},
   "source": [
    "# Create Ind"
   ]
  },
  {
   "cell_type": "code",
   "execution_count": 357,
   "id": "79d1a9a8",
   "metadata": {
    "tags": []
   },
   "outputs": [],
   "source": [
    "ind = {\n",
    "    'agric': [(100, 199), (200, 299), (700, 799), (910, 919), 2048],\n",
    "    'food': [(2000, 2009), (2010, 2019), (2020, 2029), (2030, 2039), (2040, 2046), (2050, 2059), (2060, 2063), (2070, 2079), (2090, 2092), 2095, (2098, 2099)],\n",
    "    'soda': [(2064, 2068), 2086, 2087, 2096, 2097],\n",
    "    'beer': [2080, 2082, 2083, 2084, 2085],\n",
    "    'smoke': [(2100, 2199)],\n",
    "    'toys': [(920, 999), (3650, 3651), 3652, 3732, (3930, 3931), (3940, 3949)],\n",
    "    'fun': [(7800, 7829), (7830, 7833), (7840, 7841), 7900, (7910, 7911), (7920, 7929), (7930, 7933), (7940, 7949), 7980, (7990, 7999)],\n",
    "    'books': [(2700, 2709), (2710, 2719), (2720, 2729), (2730, 2739), (2740, 2749), (2770, 2771), (2780, 2789), (2790, 2799)],\n",
    "    'hshld': [2047, (2391, 2392), (2510, 2519), (2590, 2599), (2840, 2843), 2844, (3160, 3161), (3170, 3171), 3172, (3190, 3199), 3229, 3260, (3262, 3263), 3269, (3230, 3231), (3630, 3639), (3750, 3751), 3800, (3860, 3861), (3870, 3873), (3910, 3911), 3914, 3915, (3960, 3962), 3991, 3995],\n",
    "    'clths': [(2300, 2390), (3020, 3021), (3100, 3111), (3130, 3131), (3140, 3149), (3150, 3151), (3963, 3965)],\n",
    "    'hlth': [(8000, 8099)],\n",
    "    'medeq': [3693, (3840, 3849), (3850, 3851)],\n",
    "    'drugs': [2830, 2831, 2833, 2834, 2835, 2836],\n",
    "    'chems': [(2800, 2809), (2810, 2819), (2820, 2829), (2850, 2859), (2860, 2869), (2870, 2879), (2890, 2899)],\n",
    "    'rubbr': [3031, 3041, (3050, 3053), (3060, 3069), (3070, 3079), (3080, 3089), (3090, 3099)],\n",
    "    'txtls': [(2200, 2269), (2270, 2279), (2280, 2284), (2290, 2295), 2297, 2298, 2299, (2393, 2395), (2397, 2399)],\n",
    "    'bldmt': [(800, 899), (2400, 2439), (2450, 2459), (2490, 2499), (2660, 2661), (2950, 2952), 3200, (3210, 3211), (3240, 3241), (3250, 3259), 3261, 3264, (3270, 3275), (3280, 3281), (3290, 3293), (3295, 3299), (3420, 3429), (3430, 3433), (3440, 3441), 3442, 3446, 3448, 3449, (3450, 3451), 3452, (3490, 3499), 3996],\n",
    "    'cnstr': [(1500, 1511), (1520, 1529), (1530, 1539), (1540, 1549), (1600, 1699), (1700, 1799)],\n",
    "    'steel': [3300, (3310, 3317), (3320, 3325), (3330, 3339), (3340, 3341), (3350, 3357), (3360, 3369), (3370, 3379), (3390, 3399)],\n",
    "    'fabpr': [3400, 3443, 3444, (3460, 3469), (3470, 3479)],\n",
    "    'mach': [(3510, 3519), (3520, 3529), 3530, 3531, 3532, 3533, 3534, 3535, 3536, 3538, (3540, 3549), (3550, 3559), (3560, 3569), 3580, 3581, 3582, 3585, 3586, 3589, (3590, 3599)],\n",
    "    'elceq': [3600, (3610, 3613), (3620, 3621), (3623, 3629), (3640, 3644), 3645, 3646, (3648, 3649), 3660, 3690, (3691, 3692), 3699],\n",
    "    'autos': [2296, 2396, (3010, 3011), 3537, 3647, 3694, 3700, 3710, 3711, 3713, 3714, 3715, 3716, 3792, (3790, 3791), 3799],\n",
    "    'aero': [3720, 3721, (3723, 3724), 3725, (3728, 3729)],\n",
    "    'ships': [(3730, 3731), (3740, 3743)],\n",
    "    'guns': [(3760, 3769), 3795, (3480, 3489)],\n",
    "    'gold': [(1040, 1049)],\n",
    "    'mines': [(1000, 1009), (1010, 1019), (1020, 1029), (1030, 1039), (1050, 1059), (1060, 1069), (1070, 1079), (1080, 1089), (1090, 1099), (1100, 1119), (1400, 1499)],\n",
    "    'coal': [(1200, 1299)],\n",
    "    'oil': [1300, (1310, 1319), (1320, 1329), (1330, 1339), (1370, 1379), 1380, 1381, 1382, 1389, (2900, 2912), (2990, 2999)],\n",
    "    'util': [4900, (4910, 4911), (4920, 4922), 4923, (4924, 4925), (4930, 4931), 4932, 4939, (4940, 4942)],\n",
    "    'telcm': [4800, (4810, 4813), (4820, 4822), (4830, 4839), (4840, 4841), 4880, 4890, 4891, 4892, 4899],\n",
    "    'persv': [(7020, 7021), (7030, 7033), 7200, (7210, 7212), 7214, (7215, 7216), 7217, 7219, (7220, 7221), (7230, 7231), (7240, 7241), (7250, 7251), (7260, 7269), (7270, 7290), 7291, (7292, 7299), 7395, 7500, (7520, 7529), (7530, 7539), (7540, 7549), 7600, 7620, 7622, 7623, 7629, 7630, 7640, (7690, 7699), (8100, 8199), (8200, 8299), (8300, 8399), (8400, 8499), (8600, 8699), (8800, 8899), (7510, 7515)],\n",
    "    'bussv': [(2750, 2759), 3993, 7218, 7300, (7310, 7319), (7320, 7329), (7330, 7339), (7340, 7342), 7349, (7350, 7351), 7352, 7353, 7359, (7360, 7369), 7374, 7376, 7377, 7378, 7379, 7380, (7381, 7382), 7383, 7384, 7385, 7389, 7390, 7391, (7392, 7392), 7393, 7394, 7396, 7397, 7399, (7519, 7519), 8700, (8710, 8713), (8720, 8721), (8730, 8734), (8740, 8748), (8900, 8910), 8911, (8920, 8999), (4220, 4229)],\n",
    "    'hardw': [(3570, 3579), 3680, 3681, 3682, 3683, 3684, 3685, 3686, 3687, 3688, 3689, 3695],\n",
    "    'softw': [(7370, 7372), 7375, 7373],\n",
    "    'chips': [3622, 3661, (3662, 3662), 3663, 3664, 3665, 3666, 3669, (3670, 3679), (3810, 3810), (3812, 3812)],\n",
    "    'labeq': [3811, 3820, 3821, 3822, 3823, 3824, 3825, 3826, 3827, 3829, (3830, 3839)],\n",
    "    'paper': [(2520, 2549), (2600, 2639), (2670, 2699), (2760, 2761), (3950, 3955)],\n",
    "    'boxes': [(2440, 2449), (2640, 2659), (3220, 3221), (3410, 3412)],\n",
    "    'trans': [(4000, 4013), (4040, 4049), 4100, (4110, 4119), (4120, 4121), (4130, 4131), (4140, 4142), (4150, 4151), (4170, 4173), (4190, 4199), 4200, (4210, 4219), (4230, 4231), (4240, 4249), (4400, 4499), (4500, 4599), (4600, 4699), 4700, (4710, 4712), (4720, 4729), (4730, 4739), (4740, 4749), 4780, 4782, 4783, 4784, 4785, 4789],\n",
    "    'whlsl': [5000, (5010, 5015), (5020, 5023), (5030, 5039), (5040, 5042), 5043, 5044, 5045, 5046, 5047, 5048, 5049, (5050, 5059), 5060, 5063, 5064, 5065, (5070, 5078), 5080, 5081, 5082, 5083, 5084, 5085, (5086, 5087), 5088, 5090, (5091, 5092), 5093, 5094, 5099, 5100, (5110, 5113), (5120, 5122), (5130, 5139), (5140, 5149), (5150, 5159), (5160, 5169), (5170, 5172), (5180, 5182), (5190, 5199)],\n",
    "    'rtail': [5200, (5210, 5219), (5220, 5229), (5230, 5231), (5250, 5251), (5260, 5261), (5270, 5271), 5300, 5310, 5320, (5330, 5331), 5334, (5340, 5349), (5390, 5399), 5400, (5410, 5411), 5412, (5420, 5429), (5430, 5439), (5440, 5449), (5450, 5459), (5460, 5469), (5490, 5499), 5500, (5510, 5529), (5530, 5539), (5540, 5549), (5550, 5559), (5560, 5569), (5570, 5579), (5590, 5599), (5600, 5699), 5700, (5710, 5719), (5720, 5722), (5730, 5733), 5734, 5735, 5736, (5750, 5799), 5900, (5910, 5912), (5920, 5929), (5930, 5932), 5940, 5941, 5942, 5943, 5944, 5945, 5946, 5947, 5948, 5949, (5950, 5959), (5960, 5969), (5970, 5979), (5980, 5989), 5990, 5992, 5993, 5994, 5995, 5999],\n",
    "    'meals': [(5800, 5819), (5820, 5829), (5890, 5899), 7000, (7010, 7019), (7040, 7049), 7213],\n",
    "    'banks': [6000, (6010, 6019), 6020, 6021, 6022, 6023, 6025, 6026, 6027, (6028, 6029), (6030, 6036), (6040, 6059), (6060, 6062), (6080, 6082), (6090, 6099), 6100, (6110, 6111), (6112, 6113), (6120, 6129), (6130, 6139), (6140, 6149), (6150, 6159), (6160, 6169), (6170, 6179), (6190, 6199)],\n",
    "    'insur': [6300, (6310, 6319), (6320, 6329), (6330, 6331), (6350, 6351), (6360, 6361), (6370, 6379), (6390, 6399), (6400, 6411)],\n",
    "    'rlest': [6500, 6510, 6512, 6513, 6514, 6515, (6517, 6519), (6520, 6529), (6530, 6531), 6532, (6540, 6541), (6550, 6553), (6590, 6599), (6610, 6611)],\n",
    "    'fin': [(6200, 6299), 6700, (6710, 6719), (6720, 6722), 6723, 6724, 6725, 6726, (6730, 6733), (6740, 6779), 6790, 6791, 6792, 6793, 6794, 6795, 6798, 6799],\n",
    "    'other': [(4950, 4959), (4960, 4961), (4970, 4971), (4990, 4991)]\n",
    "}"
   ]
  },
  {
   "cell_type": "code",
   "execution_count": 358,
   "id": "4138381a",
   "metadata": {
    "tags": []
   },
   "outputs": [
    {
     "name": "stdout",
     "output_type": "stream",
     "text": [
      "------------------------------------------------------------\n",
      "agric\n",
      "------------------------------------------------------------\n",
      "food\n",
      "------------------------------------------------------------\n",
      "soda\n",
      "------------------------------------------------------------\n",
      "beer\n",
      "------------------------------------------------------------\n",
      "smoke\n",
      "------------------------------------------------------------\n",
      "toys\n",
      "------------------------------------------------------------\n",
      "fun\n",
      "------------------------------------------------------------\n",
      "books\n",
      "------------------------------------------------------------\n",
      "hshld\n",
      "------------------------------------------------------------\n",
      "clths\n",
      "------------------------------------------------------------\n",
      "hlth\n",
      "------------------------------------------------------------\n",
      "medeq\n",
      "------------------------------------------------------------\n",
      "drugs\n",
      "------------------------------------------------------------\n",
      "chems\n",
      "------------------------------------------------------------\n",
      "rubbr\n",
      "------------------------------------------------------------\n",
      "txtls\n",
      "------------------------------------------------------------\n",
      "bldmt\n",
      "------------------------------------------------------------\n",
      "cnstr\n",
      "------------------------------------------------------------\n",
      "steel\n",
      "------------------------------------------------------------\n",
      "fabpr\n",
      "------------------------------------------------------------\n",
      "mach\n",
      "------------------------------------------------------------\n",
      "elceq\n",
      "------------------------------------------------------------\n",
      "autos\n",
      "------------------------------------------------------------\n",
      "aero\n",
      "------------------------------------------------------------\n",
      "ships\n",
      "------------------------------------------------------------\n",
      "guns\n",
      "------------------------------------------------------------\n",
      "gold\n",
      "------------------------------------------------------------\n",
      "mines\n",
      "------------------------------------------------------------\n",
      "coal\n",
      "------------------------------------------------------------\n",
      "oil\n",
      "------------------------------------------------------------\n",
      "util\n",
      "------------------------------------------------------------\n",
      "telcm\n",
      "------------------------------------------------------------\n",
      "persv\n",
      "------------------------------------------------------------\n",
      "bussv\n",
      "------------------------------------------------------------\n",
      "hardw\n",
      "------------------------------------------------------------\n",
      "softw\n",
      "------------------------------------------------------------\n",
      "chips\n",
      "------------------------------------------------------------\n",
      "labeq\n",
      "------------------------------------------------------------\n",
      "paper\n",
      "------------------------------------------------------------\n",
      "boxes\n",
      "------------------------------------------------------------\n",
      "trans\n",
      "------------------------------------------------------------\n",
      "whlsl\n",
      "------------------------------------------------------------\n",
      "rtail\n",
      "------------------------------------------------------------\n",
      "meals\n",
      "------------------------------------------------------------\n",
      "banks\n",
      "------------------------------------------------------------\n",
      "insur\n",
      "------------------------------------------------------------\n",
      "rlest\n",
      "------------------------------------------------------------\n",
      "fin\n",
      "------------------------------------------------------------\n",
      "other\n"
     ]
    }
   ],
   "source": [
    "for name, ranges in ind.items():\n",
    "    print('-'*60)\n",
    "    print(name)\n",
    "    combined = assign_label(combined, 'ind', ranges, name)"
   ]
  },
  {
   "cell_type": "code",
   "execution_count": 359,
   "id": "0f1ad1f2",
   "metadata": {
    "tags": []
   },
   "outputs": [],
   "source": [
    "combined['ind'] = combined['ind_comp'].combine_first(combined['ind_crsp'])"
   ]
  },
  {
   "cell_type": "markdown",
   "id": "098e2752",
   "metadata": {},
   "source": [
    "# Ind Data"
   ]
  },
  {
   "cell_type": "code",
   "execution_count": 360,
   "id": "ee817b8e",
   "metadata": {
    "tags": []
   },
   "outputs": [],
   "source": [
    "ind_data = combined.dropna(subset=['ind'])\n",
    "ind_data = ind_data.reset_index()\n",
    "ind_data = ind_data.set_index(['ind', 'permno', 'date'])\n",
    "store = ind_data.copy(deep=True)"
   ]
  },
  {
   "cell_type": "code",
   "execution_count": 361,
   "id": "3024bfd7",
   "metadata": {
    "tags": []
   },
   "outputs": [],
   "source": [
    "# # Remove all industries with no more than 10 firms\n",
    "# ind_count = ind_data.groupby('permno')['ind'].first().value_counts()\n",
    "# valid_ind = ind_count[ind_count >= 10].index.tolist()\n",
    "# ind_data = ind_data[ind_data['ind'].isin(valid_ind)]"
   ]
  },
  {
   "cell_type": "markdown",
   "id": "d53853f9-befb-4b5f-917a-280b027f13ae",
   "metadata": {},
   "source": [
    "### Clean"
   ]
  },
  {
   "cell_type": "code",
   "execution_count": 362,
   "id": "5cb34aac",
   "metadata": {},
   "outputs": [],
   "source": [
    "ind_data = store\n",
    "ind_data['ret_01'] = pd.to_numeric(ind_data['ret_01'], errors='coerce')\n",
    "# Drop all permno/date pairs that have negative closing price data\n",
    "ind_data = ind_data[ind_data['close'] >= 0]\n",
    "ind_data = ind_data.sort_index(level = ['ind', 'permno', 'date'])"
   ]
  },
  {
   "cell_type": "markdown",
   "id": "7e7092d5",
   "metadata": {
    "tags": []
   },
   "source": [
    "# Acceleration"
   ]
  },
  {
   "cell_type": "markdown",
   "id": "c6c7fe55-2840-43f7-9730-bd678a90dd02",
   "metadata": {},
   "source": [
    "### Compound"
   ]
  },
  {
   "cell_type": "code",
   "execution_count": 363,
   "id": "1b699f50",
   "metadata": {},
   "outputs": [],
   "source": [
    "# def calculate_acceleration(data):\n",
    "#     data = data.reset_index(level=['ind', 'permno'], drop=True)\n",
    "#     data['1t24'] = (data['ret_01'] + 1).rolling(24).apply(np.prod, raw=True) - 1\n",
    "#     data['12t24'] = (data['ret_01'] + 1).shift(12).rolling(12).apply(np.prod, raw=True) - 1\n",
    "#     data['acc'] = data['1t24'] - data['12t24']\n",
    "#     return data\n",
    "\n",
    "# ind_data = ind_data.groupby(level=['ind', 'permno']).apply(calculate_acceleration)\n",
    "# ind_data = ind_data.sort_index(level=['permno', 'date'])"
   ]
  },
  {
   "cell_type": "markdown",
   "id": "e879c044-263d-4a68-af43-c2639e351c8a",
   "metadata": {},
   "source": [
    "### Pct Change"
   ]
  },
  {
   "cell_type": "code",
   "execution_count": 364,
   "id": "c915d1fb-c4ef-47db-8974-d3bfefa0a682",
   "metadata": {
    "tags": []
   },
   "outputs": [],
   "source": [
    "def calculate_acceleration(group):\n",
    "    group['1t24'] = group['close'].pct_change(periods=24)\n",
    "    group['12t24'] = group['close'].pct_change(periods=12).shift(12)\n",
    "    group['acc'] = group['1t24'] - group['12t24']\n",
    "    return group\n",
    "\n",
    "ind_data = ind_data.groupby(level=['ind', 'permno']).apply(calculate_acceleration).reset_index(level=[0, 1], drop=True)\n",
    "ind_data = ind_data.sort_index(level=['ind', 'permno', 'date'])"
   ]
  },
  {
   "cell_type": "markdown",
   "id": "fd984aa0",
   "metadata": {},
   "source": [
    "# Value-Weighted Returns"
   ]
  },
  {
   "cell_type": "code",
   "execution_count": 365,
   "id": "86cc0bc7",
   "metadata": {
    "tags": []
   },
   "outputs": [],
   "source": [
    "ind_data['value_permno'] = ind_data['close'] * ind_data['out_share'] * 1000\n",
    "ind_data['value_ind'] = ind_data.groupby(['ind', 'date'])['value_permno'].transform('sum')\n",
    "ind_data['vwr_weight'] = ind_data['value_permno'] / ind_data['value_ind']\n",
    "ind_data['vwr_permno'] = ind_data['vwr_weight'] * ind_data['ret_01']\n",
    "ind_data['vwr_ind'] = ind_data.groupby(['ind', 'date'])['vwr_permno'].transform('sum')"
   ]
  },
  {
   "cell_type": "markdown",
   "id": "9456087c",
   "metadata": {},
   "source": [
    "# Volatility"
   ]
  },
  {
   "cell_type": "code",
   "execution_count": 366,
   "id": "3231a413",
   "metadata": {
    "tags": []
   },
   "outputs": [],
   "source": [
    "daily = pd.read_csv(root / 'data' / 'daily_price.csv')\n",
    "daily = daily.rename(columns={'PERMNO':'permno', 'PRC':'close'})\n",
    "daily = daily[daily['close'] >= 0]\n",
    "daily['ret_01'] = daily.groupby('permno')['close'].pct_change()\n",
    "daily['date'] = pd.to_datetime(daily['date'])\n",
    "daily['month'] = daily['date'].dt.to_period('M')"
   ]
  },
  {
   "cell_type": "code",
   "execution_count": 367,
   "id": "6d03094a",
   "metadata": {
    "tags": []
   },
   "outputs": [],
   "source": [
    "month_vol = daily.groupby(['permno', 'month'])['ret_01'].std().reset_index()\n",
    "month_vol = month_vol.rename(columns={'month':'date', 'ret_01':'vol'})\n",
    "month_vol['date'] = month_vol['date'].astype(str)\n",
    "month_vol['date'] = pd.to_datetime(month_vol['date'])\n",
    "month_vol['date'] = month_vol['date'].dt.to_period('M').dt.to_timestamp('M')\n",
    "month_vol = month_vol.set_index(['permno', 'date'])"
   ]
  },
  {
   "cell_type": "code",
   "execution_count": 368,
   "id": "a28d6f07",
   "metadata": {
    "tags": []
   },
   "outputs": [],
   "source": [
    "ind_data = ind_data.reset_index().set_index(['permno', 'date'])\n",
    "ind_data = pd.merge(ind_data, month_vol, left_index=True, right_index=True, how='left')\n",
    "ind_data = ind_data.reset_index().set_index(['ind', 'permno', 'date'])\n",
    "ind_data['vol_ind_rank'] = ind_data.groupby('ind')['vol'].rank(pct=True)\n",
    "ind_data['vol_value'] = ind_data['vol_ind_rank'] * ind_data['value_permno']\n",
    "ind_data['vol_ind'] = ind_data.groupby(['ind', 'date'])['vol_value'].transform('sum') / ind_data.groupby(['ind', 'date'])['value_permno'].transform('sum')\n",
    "ind_data['vol_market_rank'] = ind_data.groupby('date')['vol_ind'].rank(pct=True)\n",
    "ind_data['vol_weight'] = ind_data['vol'] * ind_data['value_permno']\n",
    "ind_data['vol_vw'] = ind_data.groupby(['ind', 'date'])['vol_weight'].transform('sum') / ind_data.groupby(['ind', 'date'])['value_permno'].transform('sum')\n",
    "ind_data['vol_vw_change'] = ind_data.groupby('ind')['vol_vw'].transform(lambda x: (x - x.shift(12)) / x.shift(12))"
   ]
  },
  {
   "cell_type": "markdown",
   "id": "740cc5f1",
   "metadata": {},
   "source": [
    "# Turnover"
   ]
  },
  {
   "cell_type": "code",
   "execution_count": 369,
   "id": "d4a8b993",
   "metadata": {
    "tags": []
   },
   "outputs": [],
   "source": [
    "outstanding = np.where(ind_data['nasdaq'] != 0, 2 * ind_data['out_share'], ind_data['out_share'])\n",
    "ind_data['turnover'] = (ind_data['volume'] * 100) / (outstanding * 1000)\n",
    "ind_data['turnover_ind_rank'] = ind_data.groupby('ind')['turnover'].rank(pct=True)\n",
    "ind_data['turnover_value'] = ind_data['turnover'] * ind_data['value_permno']\n",
    "ind_data['turnover_vw'] = ind_data.groupby(['ind', 'date'])['turnover_value'].transform('sum') / ind_data.groupby(['ind', 'date'])['value_permno'].transform('sum')\n",
    "ind_data['turnover_market_rank'] = ind_data.groupby('date')['turnover_vw'].rank(pct=True)\n",
    "ind_data['turnover_vw_change'] = ind_data.groupby('ind')['turnover_vw'].transform(lambda x: (x - x.shift(12)) / x.shift(12))"
   ]
  },
  {
   "cell_type": "markdown",
   "id": "6f4db108",
   "metadata": {},
   "source": [
    "# Age"
   ]
  },
  {
   "cell_type": "code",
   "execution_count": 370,
   "id": "37cbd7eb",
   "metadata": {},
   "outputs": [],
   "source": [
    "first_date = ind_data.reset_index().groupby('permno')['date'].min()\n",
    "ind_data['first_date'] = ind_data.index.get_level_values('permno').map(first_date)\n",
    "ind_data_date = ind_data.index.get_level_values('date')\n",
    "ind_data['age'] = ((ind_data_date.year - ind_data['first_date'].dt.year) * 12 + ind_data_date.month - ind_data['first_date'].dt.month) // 12\n",
    "ind_data['age_ind_rank'] = ind_data.groupby('date')['age'].rank(pct=True)\n",
    "ind_data['age_value'] = ind_data['age_ind_rank'] * ind_data['value_permno']\n",
    "ind_data['age_ind'] = ind_data.groupby(['ind', 'date'])['age_value'].transform('sum') / ind_data.groupby(['ind', 'date'])['value_permno'].transform('sum')\n",
    "ind_data['age_market_rank'] = ind_data.groupby('date')['age_ind'].rank(pct=True)"
   ]
  },
  {
   "cell_type": "markdown",
   "id": "8c5ef880",
   "metadata": {},
   "source": [
    "# Age Tilt"
   ]
  },
  {
   "cell_type": "code",
   "execution_count": 371,
   "id": "ffb17be8",
   "metadata": {},
   "outputs": [],
   "source": [
    "ind_data['ewr_ind'] = ind_data.groupby(['ind', 'date'])['ret_01'].transform('mean')\n",
    "ind_data['age_weight'] = ind_data.groupby(['ind', 'date'])['age'].transform(lambda x: x / x.sum())\n",
    "ind_data['awr_permno'] = ind_data['ret_01'] * ind_data['age_weight']\n",
    "ind_data['awr_ind'] = ind_data.groupby(['ind', 'date'])['awr_permno'].transform('sum')\n",
    "ind_data['age_tilt'] = ind_data['awr_ind'] - ind_data['ewr_ind']"
   ]
  },
  {
   "cell_type": "markdown",
   "id": "6c3f2a66",
   "metadata": {
    "jp-MarkdownHeadingCollapsed": true,
    "tags": []
   },
   "source": [
    "# Sanity Check"
   ]
  },
  {
   "cell_type": "code",
   "execution_count": 372,
   "id": "22d26ad5",
   "metadata": {},
   "outputs": [],
   "source": [
    "# def check(ind, firm):\n",
    "#     x = ind.loc['1926-07-31':'2022-12-31']\n",
    "#     y = firm.loc['1926-07-31':'2022-12-31']\n",
    "#     display(x.head(5))\n",
    "#     display(y.head(5))\n",
    "\n",
    "#     collect = []\n",
    "#     for i in x.columns:\n",
    "#         print('-'*60)\n",
    "#         print(i)\n",
    "#         corr = x[i].corr(y[i])\n",
    "#         collect.append(corr)\n",
    "#         print(corr)\n",
    "#     print('-'*60)\n",
    "#     print(f'Total Mean: {sum(collect) / len(collect)}')"
   ]
  },
  {
   "cell_type": "markdown",
   "id": "1da4cd52",
   "metadata": {
    "tags": []
   },
   "source": [
    "### Check Firm Size"
   ]
  },
  {
   "cell_type": "code",
   "execution_count": 373,
   "id": "660229ad",
   "metadata": {},
   "outputs": [],
   "source": [
    "# fama_firm = pd.read_csv(root / 'data' / 'fama_firm_49.csv')\n",
    "\n",
    "# fama_firm['date'] = pd.to_datetime(fama_firm['date'].astype(str), format='%Y%m').dt.to_period(\"M\").dt.to_timestamp(\"M\")\n",
    "# fama_firm.columns = [c.strip() for c in fama_firm.columns]\n",
    "\n",
    "# date = fama_firm['date']\n",
    "# fama_firm = fama_firm.drop(columns=['date'])\n",
    "# fama_firm.columns = [col.lower() for col in fama_firm.columns]\n",
    "# # fama_firm = fama_firm.drop(columns=['other'])\n",
    "# fama_firm = fama_firm.sort_index(axis=1)\n",
    "# fama_firm = pd.concat([date, fama_firm], axis=1).set_index('date')"
   ]
  },
  {
   "cell_type": "code",
   "execution_count": 374,
   "id": "be785038",
   "metadata": {},
   "outputs": [],
   "source": [
    "# temp_df = ind_data.reset_index()\n",
    "# ind_firm = temp_df.groupby(['date', 'ind']).permno.nunique().unstack()\n",
    "# ind_firm = ind_firm.sort_index(axis=1)\n",
    "# ind_firm = ind_firm.fillna(0)"
   ]
  },
  {
   "cell_type": "code",
   "execution_count": 375,
   "id": "4b971762",
   "metadata": {
    "scrolled": true,
    "tags": []
   },
   "outputs": [],
   "source": [
    "# check(ind_firm, fama_firm)"
   ]
  },
  {
   "cell_type": "markdown",
   "id": "84048731",
   "metadata": {
    "tags": []
   },
   "source": [
    "### Check VWR"
   ]
  },
  {
   "cell_type": "code",
   "execution_count": 376,
   "id": "5e672018",
   "metadata": {},
   "outputs": [],
   "source": [
    "# fama_vwr = pd.read_csv(root / 'data' / 'fama_vwr_49.csv')\n",
    "\n",
    "# fama_vwr['date'] = pd.to_datetime(fama_vwr['date'].astype(str), format='%Y%m').dt.to_period(\"M\").dt.to_timestamp(\"M\")\n",
    "# fama_vwr.columns = [c.strip() for c in fama_vwr.columns]\n",
    "\n",
    "# date = fama_vwr['date']\n",
    "# fama_vwr = fama_vwr.drop(columns=['date'])\n",
    "# fama_vwr.columns = [col.lower() for col in fama_vwr.columns]\n",
    "# # fama_vwr = fama_vwr.drop(columns=['other'])\n",
    "# fama_vwr = fama_vwr.sort_index(axis=1)\n",
    "# fama_vwr = pd.concat([date, fama_vwr], axis=1).set_index('date')\n",
    "# fama_vwr = fama_vwr/100"
   ]
  },
  {
   "cell_type": "code",
   "execution_count": 377,
   "id": "1bdfe207",
   "metadata": {},
   "outputs": [],
   "source": [
    "# collect = []\n",
    "# for industry, df in ind_data.groupby('ind'):\n",
    "#     df = df[['vwr_ind']]\n",
    "#     x = df.unstack('permno')\n",
    "#     x.columns = x.columns.get_level_values(0)\n",
    "#     x = x.reset_index().drop('ind', axis=1).set_index('date')\n",
    "#     x[industry] = x.apply(lambda row: row.dropna().iloc[0] if not row.dropna().empty else np.nan, axis=1)\n",
    "#     collect.append(x[[industry]])\n",
    "\n",
    "# ind_vwr = pd.concat(collect, axis=1)"
   ]
  },
  {
   "cell_type": "code",
   "execution_count": 378,
   "id": "c8f0e7a2",
   "metadata": {
    "scrolled": true,
    "tags": []
   },
   "outputs": [],
   "source": [
    "# check(ind_vwr, fama_vwr)"
   ]
  },
  {
   "cell_type": "markdown",
   "id": "d887d973",
   "metadata": {
    "tags": []
   },
   "source": [
    "### Check EWR Size"
   ]
  },
  {
   "cell_type": "code",
   "execution_count": 379,
   "id": "209fdeeb",
   "metadata": {},
   "outputs": [],
   "source": [
    "# fama_ewr = pd.read_csv(root / 'data' / 'fama_ewr_49.csv')\n",
    "\n",
    "# fama_ewr['date'] = pd.to_datetime(fama_ewr['date'].astype(str), format='%Y%m').dt.to_period(\"M\").dt.to_timestamp(\"M\")\n",
    "# fama_ewr.columns = [c.strip() for c in fama_ewr.columns]\n",
    "\n",
    "# date = fama_ewr['date']\n",
    "# fama_ewr = fama_ewr.drop(columns=['date'])\n",
    "# fama_ewr.columns = [col.lower() for col in fama_ewr.columns]\n",
    "# # fama_ewr = fama_ewr.drop(columns=['other'])\n",
    "# fama_ewr = fama_ewr.sort_index(axis=1)\n",
    "# fama_ewr = pd.concat([date, fama_ewr], axis=1).set_index('date')\n",
    "# fama_ewr = fama_ewr.replace(-99.99, np.NaN)\n",
    "# fama_ewr = fama_ewr/100"
   ]
  },
  {
   "cell_type": "code",
   "execution_count": 380,
   "id": "74642497",
   "metadata": {},
   "outputs": [],
   "source": [
    "# collect = []\n",
    "# for industry, df in ind_data.groupby('ind'):\n",
    "#     df = df[['ewr_ind']]\n",
    "#     x = df.unstack('permno')\n",
    "#     x.columns = x.columns.get_level_values(0)\n",
    "#     x = x.reset_index().drop('ind', axis=1).set_index('date')\n",
    "#     x[industry] = x.apply(lambda row: row.dropna().iloc[0] if not row.dropna().empty else np.nan, axis=1)\n",
    "#     collect.append(x[[industry]])\n",
    "# ind_ewr = pd.concat(collect, axis=1)"
   ]
  },
  {
   "cell_type": "code",
   "execution_count": 381,
   "id": "660445d2",
   "metadata": {
    "tags": []
   },
   "outputs": [],
   "source": [
    "# check(ind_ewr, fama_ewr)"
   ]
  },
  {
   "cell_type": "markdown",
   "id": "7cdf611c",
   "metadata": {},
   "source": [
    "# Issuance"
   ]
  },
  {
   "cell_type": "code",
   "execution_count": 382,
   "id": "a2c861d7-5d9a-431f-a1d6-c930181521a3",
   "metadata": {
    "tags": []
   },
   "outputs": [],
   "source": [
    "ind_data['adj_share_pct'] = ind_data.groupby('permno')['adj_share'].pct_change(periods=12)\n",
    "ind_data['issued_equity'] = (ind_data['adj_share_pct'] >= 0.05).astype(int)\n",
    "ind_data['issuance'] = ind_data.groupby(['ind', 'date'])['issued_equity'].transform('mean')"
   ]
  },
  {
   "cell_type": "markdown",
   "id": "95391685",
   "metadata": {},
   "source": [
    "# Book to Market"
   ]
  },
  {
   "cell_type": "markdown",
   "id": "1ba9cca5",
   "metadata": {},
   "source": [
    "### Fama"
   ]
  },
  {
   "cell_type": "code",
   "execution_count": 383,
   "id": "3fa277ee",
   "metadata": {},
   "outputs": [],
   "source": [
    "with open(root / 'data' / 'fama_be.txt', 'r') as file:\n",
    "    lines = file.readlines()\n",
    "    \n",
    "full_text = ''.join(lines)\n",
    "records = re.split(r'(\\d{5} )', full_text)[1:]\n",
    "records = [records[i] + records[i + 1] for i in range(0, len(records), 2)]\n",
    "data = []\n",
    "\n",
    "for record in records:\n",
    "    data.append(record.split())\n",
    "be_pre  = pd.DataFrame(data)"
   ]
  },
  {
   "cell_type": "code",
   "execution_count": 384,
   "id": "a372f2e3",
   "metadata": {},
   "outputs": [],
   "source": [
    "all_rows = []\n",
    "\n",
    "for _, row in be_pre.iterrows():\n",
    "    permno = row[0]\n",
    "    start_date = int(row[1])\n",
    "    end_date = int(row[2])\n",
    "    for year in range(start_date, end_date + 1):\n",
    "        new_row = row.copy()\n",
    "        new_row[1] = year\n",
    "        all_rows.append(new_row)\n",
    "\n",
    "be_pre = pd.DataFrame(all_rows)\n",
    "\n",
    "# Set the multi-index\n",
    "be_pre = be_pre.set_index([0, 1])\n",
    "be_pre.index.names = ['permno', 'date']\n",
    "be_pre = be_pre.drop(2, axis=1)"
   ]
  },
  {
   "cell_type": "code",
   "execution_count": 385,
   "id": "d35c3b50",
   "metadata": {},
   "outputs": [],
   "source": [
    "collect = []\n",
    "for _, df in be_pre.groupby('permno'):\n",
    "    df['btm']=df.values[0][:len(df)]\n",
    "    collect.append(df[['btm']])\n",
    "\n",
    "be_pre = pd.concat(collect, axis = 0)\n",
    "be_pre = be_pre.reset_index().set_index('date')\n",
    "be_pre['permno'] = be_pre['permno'].astype(int)"
   ]
  },
  {
   "cell_type": "code",
   "execution_count": 386,
   "id": "b497b98a-ead5-41b6-8861-4d98af15e594",
   "metadata": {
    "tags": []
   },
   "outputs": [],
   "source": [
    "be_pre['btm'] = be_pre['btm'].astype(float)\n",
    "be_pre['btm'] = be_pre['btm']/100\n",
    "be_pre = be_pre.sort_index()\n",
    "be_pre.loc[be_pre.btm == be_pre.btm.iloc[-1], 'btm'] = np.nan\n",
    "be_pre = be_pre.loc['1926':'1960']\n",
    "be_pre = be_pre.dropna()"
   ]
  },
  {
   "cell_type": "markdown",
   "id": "3a4cc0c6",
   "metadata": {},
   "source": [
    "### CRSP"
   ]
  },
  {
   "cell_type": "code",
   "execution_count": 387,
   "id": "4f3dbc51",
   "metadata": {},
   "outputs": [],
   "source": [
    "be_curr = pd.read_csv(root / 'data' / 'curr_be.csv')\n",
    "be_curr['btm'] = (be_curr['atq']-be_curr['ltq'])/(be_curr['prccq']*be_curr['cshoq'])\n",
    "be_curr = be_curr.rename(columns={'LPERMNO':'permno', 'datadate':'date'})\n",
    "be_curr['date'] = pd.to_datetime(be_curr['date'])\n",
    "be_curr = be_curr.set_index('date')\n",
    "be_curr = be_curr[['permno', 'btm']]"
   ]
  },
  {
   "cell_type": "markdown",
   "id": "25588c76",
   "metadata": {},
   "source": [
    "### Combined"
   ]
  },
  {
   "cell_type": "code",
   "execution_count": 388,
   "id": "d9eebef0-2ac1-404c-ac4e-df0cdf410e6b",
   "metadata": {},
   "outputs": [],
   "source": [
    "def convert_date(x):\n",
    "    if len(str(x)) == 4:\n",
    "        return pd.to_datetime(x, format='%Y')\n",
    "    else:\n",
    "        return pd.to_datetime(x)"
   ]
  },
  {
   "cell_type": "code",
   "execution_count": 389,
   "id": "c34caaaa",
   "metadata": {},
   "outputs": [],
   "source": [
    "be_total = pd.concat([be_pre, be_curr], axis=0)\n",
    "be_total = be_total.reset_index('date').set_index(['permno', 'date'])\n",
    "be_total = be_total.sort_index(level=['permno', 'date'])\n",
    "btm = be_total.reset_index()"
   ]
  },
  {
   "cell_type": "code",
   "execution_count": 390,
   "id": "967f262e",
   "metadata": {},
   "outputs": [],
   "source": [
    "btm['date'] = btm['date'].apply(convert_date)\n",
    "btm = btm.drop_duplicates(subset=['permno', 'date'], keep='first')\n",
    "btm = btm.set_index('date')\n",
    "btm = btm.groupby('permno').apply(lambda group: group.resample('M').ffill())\n",
    "btm = btm.drop('permno', axis=1)"
   ]
  },
  {
   "cell_type": "markdown",
   "id": "b1311e74",
   "metadata": {},
   "source": [
    "### Add to ind_data"
   ]
  },
  {
   "cell_type": "code",
   "execution_count": 391,
   "id": "747e9b3f",
   "metadata": {},
   "outputs": [],
   "source": [
    "ind_data = ind_data.reset_index().set_index(['permno', 'date'])\n",
    "ind_data = pd.merge(ind_data, btm, left_index=True, right_index=True, how='left')\n",
    "ind_data = ind_data.reset_index()\n",
    "ind_data['ind'] = ind_data.groupby('permno')['ind'].ffill()\n",
    "ind_data = ind_data.set_index(['ind', 'permno', 'date'])\n",
    "ind_data['btm'] = ind_data['btm'].astype(float)\n",
    "ind_data['btm_weight'] = ind_data['btm'] * ind_data['value_permno']\n",
    "ind_data['btm_vwr'] = ind_data.groupby(['ind', 'date'])['btm_weight'].transform('sum') / ind_data.groupby(['ind', 'date'])['value_permno'].transform('sum')"
   ]
  },
  {
   "cell_type": "markdown",
   "id": "6e2cfb68",
   "metadata": {},
   "source": [
    "# Sales Growth"
   ]
  },
  {
   "cell_type": "code",
   "execution_count": 392,
   "id": "97ebb0ed",
   "metadata": {},
   "outputs": [],
   "source": [
    "revenue = pd.read_csv(root / 'data' / 'revenue.csv')\n",
    "revenue = revenue.rename(columns={'LPERMNO':'permno', 'datadate':'date', 'revt':'revenue'})\n",
    "revenue = revenue[['permno', 'date', 'revenue']]\n",
    "revenue['date'] = pd.to_datetime(revenue['date'])\n",
    "revenue = revenue.sort_values(by=['permno','date'])\n",
    "revenue['revenue'] = revenue.groupby('permno')['revenue'].pct_change()\n",
    "revenue = revenue.set_index('date')\n",
    "revenue = revenue.groupby('permno').apply(lambda group: group.resample('M').ffill())\n",
    "revenue = revenue.drop('permno', axis=1)"
   ]
  },
  {
   "cell_type": "code",
   "execution_count": 393,
   "id": "390e7a14",
   "metadata": {},
   "outputs": [],
   "source": [
    "ind_data = ind_data.reset_index().set_index(['permno', 'date'])\n",
    "ind_data = pd.merge(ind_data, revenue, left_index=True, right_index=True, how='left')\n",
    "ind_data = ind_data.reset_index().set_index(['ind', 'permno', 'date'])\n",
    "ind_data['revenue_ind_rank'] = ind_data.groupby('ind')['revenue'].rank(pct=True)\n",
    "ind_data['revenue_value'] = ind_data['revenue_ind_rank'] * ind_data['value_permno']\n",
    "ind_data['revenue_ind'] = ind_data.groupby(['ind', 'date'])['revenue_value'].transform('sum') / ind_data.groupby(['ind', 'date'])['value_permno'].transform('sum')\n",
    "ind_data['revenue_market_rank'] = ind_data.groupby('date')['revenue_ind'].rank(pct=True)"
   ]
  },
  {
   "cell_type": "markdown",
   "id": "221c25c7",
   "metadata": {},
   "source": [
    "# CAPE"
   ]
  },
  {
   "cell_type": "code",
   "execution_count": 394,
   "id": "c8798746",
   "metadata": {},
   "outputs": [],
   "source": [
    "cape = pd.read_csv(root / 'data' / 'cape.csv')\n",
    "series = cape.date\n",
    "years = series.astype(int)\n",
    "months = ((series - years) * 100).round().astype(int)\n",
    "datetimes = pd.to_datetime(years.astype(str) + '-' + months.astype(str) + '-01')\n",
    "cape['date'] = datetimes\n",
    "cape['date'] = cape['date'].dt.to_period(\"M\").dt.to_timestamp(\"M\")\n",
    "ind_data = ind_data.reset_index().merge(cape.reset_index(), on='date', how='left').set_index(['ind', 'permno', 'date'])"
   ]
  },
  {
   "cell_type": "markdown",
   "id": "9de4be72-a46c-4e12-8961-fa1195646bd8",
   "metadata": {},
   "source": [
    "# Total Market Return"
   ]
  },
  {
   "cell_type": "code",
   "execution_count": 395,
   "id": "9bf380b9-12be-4e1e-b617-3c39ab3eb319",
   "metadata": {
    "tags": []
   },
   "outputs": [],
   "source": [
    "ind_data['permno_weighted'] = ind_data['value_permno'] * ind_data['ret_01']\n",
    "total_weighted_return = ind_data.groupby('date')['permno_weighted'].transform('sum')\n",
    "total_market_value = ind_data.groupby('date')['value_permno'].transform('sum')\n",
    "ind_data['market_return'] = total_weighted_return / total_market_value"
   ]
  },
  {
   "cell_type": "markdown",
   "id": "a499fb11-ea2c-4605-afe8-6679649f080d",
   "metadata": {},
   "source": [
    "# 2 Year Return"
   ]
  },
  {
   "cell_type": "code",
   "execution_count": 396,
   "id": "63b247bc-d483-4321-b2c0-4e0d9489447c",
   "metadata": {
    "tags": []
   },
   "outputs": [],
   "source": [
    "ind_data['two_vwr_ind'] = ind_data.groupby('ind')['vwr_ind'].rolling(window=24).apply(lambda x: (x + 1).prod() - 1, raw=True).values"
   ]
  },
  {
   "cell_type": "markdown",
   "id": "01332ee2-55f5-4b95-9fec-49fc9a2144aa",
   "metadata": {},
   "source": [
    "# Risk Free Rate"
   ]
  },
  {
   "cell_type": "code",
   "execution_count": 397,
   "id": "90591e19-db47-4589-a3e7-3ea0dc7bf9f7",
   "metadata": {
    "tags": []
   },
   "outputs": [],
   "source": [
    "rf = pd.read_csv(root / 'data' / 'risk_free.csv')\n",
    "rf = rf.drop('KYTREASNOX', axis=1)\n",
    "rf.columns = ['date', 'rf']\n",
    "rf['date'] = pd.to_datetime(rf['date'])\n",
    "rf = rf.set_index('date')\n",
    "rf = rf.loc[~rf.index.duplicated(keep='first')]\n",
    "rf = rf.dropna()"
   ]
  },
  {
   "cell_type": "markdown",
   "id": "6eaceef1",
   "metadata": {},
   "source": [
    "# Retrieving paper predictors"
   ]
  },
  {
   "cell_type": "code",
   "execution_count": 398,
   "id": "18f0c4b0",
   "metadata": {},
   "outputs": [
    {
     "data": {
      "text/plain": [
       "Index(['share_code', 'sic_crsp', 'ticker', 'nasdaq', 'adj_share', 'close',\n",
       "       'volume', 'ret_01', 'out_share', 'sic_comp', 'ind_crsp', 'ind_comp',\n",
       "       '1t24', '12t24', 'acc', 'value_permno', 'value_ind', 'vwr_weight',\n",
       "       'vwr_permno', 'vwr_ind', 'vol', 'vol_ind_rank', 'vol_value', 'vol_ind',\n",
       "       'vol_market_rank', 'vol_weight', 'vol_vw', 'vol_vw_change', 'turnover',\n",
       "       'turnover_ind_rank', 'turnover_value', 'turnover_vw',\n",
       "       'turnover_market_rank', 'turnover_vw_change', 'first_date', 'age',\n",
       "       'age_ind_rank', 'age_value', 'age_ind', 'age_market_rank', 'ewr_ind',\n",
       "       'age_weight', 'awr_permno', 'awr_ind', 'age_tilt', 'adj_share_pct',\n",
       "       'issued_equity', 'issuance', 'btm', 'btm_weight', 'btm_vwr', 'revenue',\n",
       "       'revenue_ind_rank', 'revenue_value', 'revenue_ind',\n",
       "       'revenue_market_rank', 'index', 'cape', 'permno_weighted',\n",
       "       'market_return', 'two_vwr_ind'],\n",
       "      dtype='object')"
      ]
     },
     "execution_count": 398,
     "metadata": {},
     "output_type": "execute_result"
    }
   ],
   "source": [
    "ind_data.columns"
   ]
  },
  {
   "cell_type": "code",
   "execution_count": 399,
   "id": "7a8fefe6",
   "metadata": {},
   "outputs": [],
   "source": [
    "final = ind_data.drop(['share_code', 'sic_crsp', 'ticker', 'nasdaq', 'adj_share', 'close', 'volume', 'ret_01', 'out_share',\n",
    "                       'sic_comp', 'ind_crsp', 'ind_comp', 'value_ind', 'value_permno', 'value_ind', 'vwr_weight', \n",
    "                       'vwr_permno', 'vol_ind_rank', 'vol_value', 'vol_ind', 'vol_market_rank',\n",
    "                       'turnover_ind_rank', 'turnover_value', 'btm_weight', 'vol_weight', 'btm',\n",
    "                       'first_date', 'age', 'ewr_ind', 'age_ind_rank', 'age_value', 'age_ind', 'age_weight',\n",
    "                       'awr_permno', 'awr_ind', 'adj_share_pct', 'issued_equity', 'revenue', 'revenue_ind_rank', \n",
    "                       'revenue_value', 'revenue_ind', 'index', '1t24', '12t24', 'vol', 'turnover', 'turnover_market_rank', 'permno_weighted'], axis=1)"
   ]
  },
  {
   "cell_type": "code",
   "execution_count": 400,
   "id": "eab3ca4d",
   "metadata": {
    "tags": []
   },
   "outputs": [
    {
     "data": {
      "text/plain": [
       "Index(['acc', 'vwr_ind', 'vol_vw', 'vol_vw_change', 'turnover_vw',\n",
       "       'turnover_vw_change', 'age_market_rank', 'age_tilt', 'issuance',\n",
       "       'btm_vwr', 'revenue_market_rank', 'cape', 'market_return',\n",
       "       'two_vwr_ind'],\n",
       "      dtype='object')"
      ]
     },
     "execution_count": 400,
     "metadata": {},
     "output_type": "execute_result"
    }
   ],
   "source": [
    "final.columns"
   ]
  },
  {
   "cell_type": "markdown",
   "id": "a4aa0b58-728b-45cb-a4ed-fe21ad5ab25b",
   "metadata": {},
   "source": [
    "# Convert to Date/Ind Pair"
   ]
  },
  {
   "cell_type": "code",
   "execution_count": 401,
   "id": "82fb2fa0-e416-4655-b653-d22fa54f3832",
   "metadata": {
    "tags": []
   },
   "outputs": [],
   "source": [
    "def convert(data, column):\n",
    "    collect = []\n",
    "    for industry, df in data.groupby('ind'):\n",
    "        df = df[[column]]\n",
    "        x = df.unstack('permno')\n",
    "        x.columns = x.columns.get_level_values(0)\n",
    "        x = x.reset_index().drop('ind', axis=1).set_index('date')\n",
    "        x[industry] = x.apply(lambda row: row.dropna().iloc[0] if not row.dropna().empty else np.nan, axis=1)\n",
    "        collect.append(x[[industry]])\n",
    "\n",
    "    data = pd.concat(collect, axis=1)\n",
    "    data = data.stack().to_frame()\n",
    "    data.index.names = ['date', 'ind']\n",
    "    data = data.rename(columns={0:column})\n",
    "\n",
    "    return data"
   ]
  },
  {
   "cell_type": "code",
   "execution_count": 402,
   "id": "9ed21a7e-2963-4fea-84eb-8871c38427e7",
   "metadata": {
    "tags": []
   },
   "outputs": [
    {
     "name": "stdout",
     "output_type": "stream",
     "text": [
      "-----------------------------\n",
      "acc\n",
      "-----------------------------\n",
      "vwr_ind\n",
      "-----------------------------\n",
      "vol_vw\n",
      "-----------------------------\n",
      "vol_vw_change\n",
      "-----------------------------\n",
      "turnover_vw\n",
      "-----------------------------\n",
      "turnover_vw_change\n",
      "-----------------------------\n",
      "age_market_rank\n",
      "-----------------------------\n",
      "age_tilt\n",
      "-----------------------------\n",
      "issuance\n",
      "-----------------------------\n",
      "btm_vwr\n",
      "-----------------------------\n",
      "revenue_market_rank\n",
      "-----------------------------\n",
      "cape\n",
      "-----------------------------\n",
      "market_return\n",
      "-----------------------------\n",
      "two_vwr_ind\n"
     ]
    }
   ],
   "source": [
    "collect = []\n",
    "for col in final.columns:\n",
    "    print('-----------------------------')\n",
    "    print(col)\n",
    "    collect.append(convert(final, col))\n",
    "collect = pd.concat(collect, axis = 1)"
   ]
  },
  {
   "cell_type": "code",
   "execution_count": 403,
   "id": "28ccbb35-43dd-4269-b05a-f5d7864b4d8d",
   "metadata": {
    "tags": []
   },
   "outputs": [],
   "source": [
    "def create_multi_index(data, stock):\n",
    "    all_dates = data.index.repeat(len(stock))\n",
    "    all_stocks = pd.Series(stock * len(data)).values\n",
    "\n",
    "    multi_index = pd.MultiIndex.from_tuples(list(zip(all_dates, all_stocks)), names=['date', 'ind'])\n",
    "    df_multi = pd.DataFrame(data.values.repeat(len(stock), axis=0), index=multi_index, columns=data.columns)\n",
    "    \n",
    "    return df_multi\n",
    "\n",
    "def get_stock_idx(data):\n",
    "    return [stock for stock, df in data.groupby(data.index.names[1], group_keys=False)]"
   ]
  },
  {
   "cell_type": "code",
   "execution_count": 404,
   "id": "e01c1dad-cf0e-4fe1-9ed8-1191be8700b6",
   "metadata": {
    "tags": []
   },
   "outputs": [],
   "source": [
    "risk = create_multi_index(rf, get_stock_idx(collect))\n",
    "output = collect.merge(risk, left_index=True, right_index=True, how='left')\n",
    "output = output.replace([np.inf, -np.inf], np.nan)\n",
    "output.to_parquet(root / 'data' / 'predictors.parquet.brotli', compression='brotli')"
   ]
  }
 ],
 "metadata": {
  "kernelspec": {
   "display_name": "bubblefacto",
   "language": "python",
   "name": "bubblefacto"
  },
  "language_info": {
   "codemirror_mode": {
    "name": "ipython",
    "version": 3
   },
   "file_extension": ".py",
   "mimetype": "text/x-python",
   "name": "python",
   "nbconvert_exporter": "python",
   "pygments_lexer": "ipython3",
   "version": "3.10.12"
  }
 },
 "nbformat": 4,
 "nbformat_minor": 5
}
