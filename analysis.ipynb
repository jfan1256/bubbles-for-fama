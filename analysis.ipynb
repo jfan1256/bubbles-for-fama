{
 "cells": [
  {
   "cell_type": "code",
   "execution_count": 1,
   "id": "8c20f939-db19-4b65-91ff-6860ec54ad2f",
   "metadata": {
    "tags": []
   },
   "outputs": [],
   "source": [
    "import pandas as pd\n",
    "import numpy as np\n",
    "import os\n",
    "import re\n",
    "\n",
    "from pathlib import Path\n",
    "from IPython.display import display\n",
    "from scipy.stats import pearsonr\n",
    "import matplotlib.pyplot as plt\n",
    "\n",
    "import warnings\n",
    "warnings.filterwarnings('ignore')"
   ]
  },
  {
   "cell_type": "code",
   "execution_count": 2,
   "id": "20834d1a-1dda-4797-a29c-e66634efbb2c",
   "metadata": {
    "tags": []
   },
   "outputs": [],
   "source": [
    "# Remove all data without at least 5 years worth of data\n",
    "def set_length(data, year):\n",
    "    counts = data.groupby('permno').size()\n",
    "    to_exclude = counts[counts < (year * 12)].index\n",
    "    mask = ~data.index.get_level_values('permno').isin(to_exclude)\n",
    "    data = data[mask]\n",
    "    return data\n",
    "\n",
    "# Get ticker data\n",
    "def get_permno_data(data, permno):\n",
    "    idx = pd.IndexSlice\n",
    "    desired_data = data.loc[idx[:, permno, :], :]\n",
    "    return desired_data\n",
    "\n",
    "# Get ticker data\n",
    "def get_ind_data(data, ind):\n",
    "    idx = pd.IndexSlice\n",
    "    desired_data = data.loc[idx[ind, :, :], :]\n",
    "    return desired_data\n",
    "\n",
    "# Assign industry based off range\n",
    "def assign_label(df, column_name, sic_ranges, label):\n",
    "    df['sic_temp_crsp'] = df['sic_crsp']\n",
    "    df['sic_temp_comp'] = df['sic_comp']\n",
    "    \n",
    "    for r in sic_ranges:\n",
    "        if isinstance(r, tuple):\n",
    "            df.loc[(df['sic_temp_crsp'] >= r[0]) & (df['sic_temp_crsp'] <= r[1]), f'{column_name}_crsp'] = label\n",
    "            df.loc[(df['sic_temp_comp'] >= r[0]) & (df['sic_temp_comp'] <= r[1]), f'{column_name}_comp'] = label\n",
    "        else:\n",
    "            df.loc[df['sic_temp_crsp'] == r, f'{column_name}_crsp'] = label\n",
    "            df.loc[df['sic_temp_comp'] == r, f'{column_name}_comp'] = label\n",
    "    \n",
    "    df = df.drop(columns=['sic_temp_crsp', 'sic_temp_comp'])\n",
    "    \n",
    "    return df\n",
    "\n",
    "def convert(data, column):\n",
    "    collect = []\n",
    "    for industry, df in data.groupby('ind'):\n",
    "        df = df[[column]]\n",
    "        x = df.unstack('permno')\n",
    "        x.columns = x.columns.get_level_values(0)\n",
    "        x = x.reset_index().drop('ind', axis=1).set_index('date')\n",
    "        x[industry] = x.apply(lambda row: row.dropna().iloc[0] if not row.dropna().empty else np.nan, axis=1)\n",
    "        collect.append(x[[industry]])\n",
    "\n",
    "    data = pd.concat(collect, axis=1)\n",
    "    data = data.stack().to_frame()\n",
    "    data.index.names = ['date', 'ind']\n",
    "    data = data.rename(columns={0:column})\n",
    "\n",
    "    return data"
   ]
  },
  {
   "cell_type": "code",
   "execution_count": 3,
   "id": "353d74c5-133b-45ae-bb40-4726a85046ba",
   "metadata": {
    "tags": []
   },
   "outputs": [],
   "source": [
    "root = Path(os.getcwd())"
   ]
  },
  {
   "cell_type": "code",
   "execution_count": null,
   "id": "ae12c667-152c-4890-b059-2f8310cf8d13",
   "metadata": {
    "tags": []
   },
   "outputs": [],
   "source": [
    "comp = pd.read_csv(root / 'data' / 'comp_price.csv')"
   ]
  },
  {
   "cell_type": "code",
   "execution_count": null,
   "id": "208671c8-1f2b-4b2a-81f9-56a9bcd2657e",
   "metadata": {
    "tags": []
   },
   "outputs": [],
   "source": [
    "crsp_comp = pd.read_csv(root / 'data' / 'crsp_comp_price.csv')"
   ]
  },
  {
   "cell_type": "code",
   "execution_count": null,
   "id": "8a821444-9be2-44cb-a971-258ac588502b",
   "metadata": {
    "tags": []
   },
   "outputs": [],
   "source": [
    "crsp = pd.read_csv(root / 'data' / 'crsp_price.csv')"
   ]
  },
  {
   "cell_type": "code",
   "execution_count": null,
   "id": "93a53ea7-ff24-440c-b040-784e3fe2fe7a",
   "metadata": {
    "tags": []
   },
   "outputs": [],
   "source": [
    "comp['datadate'] = pd.to_datetime(comp['datadate']).dt.to_period(\"M\").dt.to_timestamp(\"M\")\n",
    "comp = comp.rename(columns={'tic': 'ticker', 'prccm':'close', 'cshom': 'out_share', 'datadate': 'date'}\n",
    "                              ).set_index(['ticker', 'date']).drop(['iid', 'gvkey'], axis=1)"
   ]
  },
  {
   "cell_type": "code",
   "execution_count": null,
   "id": "2a43eb0d-f49a-439c-8ca2-f74c90ca137e",
   "metadata": {
    "tags": []
   },
   "outputs": [],
   "source": [
    "crsp_comp['datadate'] = pd.to_datetime(crsp_comp['datadate']).dt.to_period(\"M\").dt.to_timestamp(\"M\")\n",
    "crsp_comp = crsp_comp.rename(columns={'tic': 'ticker', 'prccm':'close', 'cshoq': 'out_share', 'datadate': 'date'\n",
    "                                     , 'LPERMNO':'permno', 'sic':'sic_comp'}\n",
    "                              ).set_index(['permno', 'date']).drop(['iid', 'GVKEY', 'ticker', 'out_share', 'close'], axis=1)\n",
    "crsp_comp = crsp_comp.sort_index(level=['permno','date'])"
   ]
  },
  {
   "cell_type": "code",
   "execution_count": null,
   "id": "0b6d2f8d-19ad-4493-afe4-f3179d9bae75",
   "metadata": {
    "tags": []
   },
   "outputs": [],
   "source": [
    "crsp['date'] = pd.to_datetime(crsp['date']).dt.to_period(\"M\").dt.to_timestamp(\"M\")\n",
    "\n",
    "crsp = crsp.rename(columns={'TICKER': 'ticker', 'PRC':'close', 'VOL':'volume', \n",
    "                                        'SHROUT': 'out_share', 'FACSHR': 'adj_share', 'ISSUNO':'nasdaq',\n",
    "                                        'SHRCD': 'share_code', 'PERMNO':'permno', 'SICCD':'sic_crsp', 'RET':'ret_01'}\n",
    "                              ).set_index(['permno', 'date']).drop('PERMCO', axis=1)\n",
    "\n",
    "crsp = crsp.sort_index(level=['permno', 'date'])\n",
    "\n",
    "crsp = crsp[crsp.index.get_level_values('permno').notna()]\n",
    "\n",
    "crsp['sic_crsp'] = pd.to_numeric(crsp['sic_crsp'], errors='coerce', downcast='integer')\n",
    "\n",
    "crsp = crsp.dropna(subset=['sic_crsp'])"
   ]
  },
  {
   "cell_type": "code",
   "execution_count": null,
   "id": "f519657f-4fab-43b5-be21-866990401986",
   "metadata": {
    "tags": []
   },
   "outputs": [],
   "source": [
    "combined = pd.merge(crsp, crsp_comp, left_index=True, right_index=True, how='outer')"
   ]
  },
  {
   "cell_type": "code",
   "execution_count": null,
   "id": "16b0c4b6-5b4e-495b-a841-8cfb80311163",
   "metadata": {
    "tags": []
   },
   "outputs": [],
   "source": [
    "combined = combined[~combined.index.duplicated(keep='first')]"
   ]
  },
  {
   "cell_type": "code",
   "execution_count": null,
   "id": "acd95260-9cb2-46e5-8574-1ccb9497b5ab",
   "metadata": {
    "tags": []
   },
   "outputs": [],
   "source": [
    "# Make a permno's industry the same across all dates\n",
    "# def first_non_na(series):\n",
    "#     return series.dropna().iloc[0] if not series.dropna().empty else np.nan\n",
    "\n",
    "# combined['sic_crsp'] = combined.groupby('permno')['sic_crsp'].transform(first_non_na)\n",
    "# combined['sic_comp'] = combined.groupby('permno')['sic_comp'].transform(first_non_na)"
   ]
  },
  {
   "cell_type": "code",
   "execution_count": null,
   "id": "06811991-9e05-4d6f-9701-37bf52a6fe1c",
   "metadata": {
    "tags": []
   },
   "outputs": [],
   "source": [
    "# combined = set_length(combined, 2)"
   ]
  },
  {
   "cell_type": "markdown",
   "id": "f3f5218f-e687-43f3-8375-b7f1a59f73bc",
   "metadata": {},
   "source": [
    "# Create Ind"
   ]
  },
  {
   "cell_type": "code",
   "execution_count": null,
   "id": "a3c95977-9e26-4a9a-b65e-475d6e7da304",
   "metadata": {
    "tags": []
   },
   "outputs": [],
   "source": [
    "ind = {\n",
    "'agric' : [(100, 199), (200, 299), (700, 799), (910, 919), 2048],\n",
    "'food' : [(2000, 2009), (2010, 2019), (2020, 2029), (2030, 2039), (2040, 2046), (2050, 2059), (2060, 2063), (2070, 2079),(2090, 2092), 2095, (2098, 2099)],\n",
    "'soda' : [(2064, 2068), 2086, 2087, 2096, 2097],\n",
    "'beer' : [2080, 2082, 2083, 2084, 2085],\n",
    "'smoke' : [(2100, 2199)],\n",
    "'toys' : [(920, 999), (3650, 3651), 3652, 3732, (3930, 3931), (3940, 3949)],\n",
    "'fun' : [(7800, 7829), (7830, 7833), (7840, 7841), 7900, (7910, 7911),(7920, 7929), (7930, 7933), (7940, 7949), 7980, (7990, 7999)],\n",
    "'books' : [(2700, 2709), (2710, 2719), (2720, 2729), (2730, 2739), (2740, 2749), (2770, 2771), (2780, 2789), (2790, 2799)],\n",
    "'hshld' : [2047, (2391, 2392), (2510, 2519), (2590, 2599), (2840, 2843), 2844, (3160, 3161), (3170, 3171), 3172, (3190, 3199), 3229, 3260, (3262, 3263), 3269, (3230, 3231), (3630, 3639), (3750, 3751), 3800, (3860, 3861), (3870, 3873), (3910, 3911), 3914, 3915, (3960, 3962), 3991, 3995],\n",
    "'clths' : [(2300, 2390), (3020, 3021), (3100, 3111), (3130, 3131), (3140, 3149), (3150, 3151), (3963, 3965)],\n",
    "'hlth' : [(8000, 8099)],\n",
    "'medeq' : [3693, (3840, 3849), (3850, 3851)],\n",
    "'drugs' : [2830, 2831, 2833, 2834, 2835, 2836],\n",
    "'chems' : [(2800, 2809), (2810, 2819), (2820, 2829), (2850, 2859), (2860, 2869), (2870, 2879), (2890, 2899)],\n",
    "'rubbr' : [3031, 3041, (3050, 3053), (3060, 3069), (3070, 3079), (3080, 3089), (3090, 3099)],\n",
    "'txtls' : [(2200, 2269), (2270, 2279), (2280, 2284), (2290, 2295), 2297, 2298, 2299, (2393, 2395), (2397, 2399)],\n",
    "'bldmt' : [(800, 899), (2400, 2439), (2450, 2459), (2490, 2499), (2660, 2661), (2950, 2952), 3200, (3210, 3211), (3240, 3241), (3250, 3259), 3261, 3264, (3270, 3275), (3280, 3281), (3290, 3293), (3295, 3299), (3420, 3429), (3430, 3433), (3440, 3441), 3442, 3446, 3448, 3449, (3450, 3451), 3452, (3490, 3499), 3996],\n",
    "'cnstr' : [(1500, 1511), (1520, 1529), (1530, 1539), (1540, 1549), (1600, 1699), (1700, 1799)],\n",
    "'steel' : [(3300, 3300), (3310, 3317), (3320, 3325), (3330, 3339), (3340, 3341), (3350, 3357), (3360, 3369), (3370, 3379), (3390, 3399)],\n",
    "'fabpr' : [(3400, 3400), (3443, 3443), (3444, 3444), (3460, 3469), (3470, 3479)],\n",
    "'mach' : [(3510, 3519), (3520, 3529), (3530, 3530), (3531, 3531), (3532, 3532), (3533, 3533), (3534, 3534), (3535, 3535), (3536, 3536), (3538, 3538), (3540, 3549), (3550, 3559), (3560, 3569), (3580, 3580), (3581, 3581), (3582, 3582), (3585, 3585), (3586, 3586), (3589, 3589), (3590, 3599)],\n",
    "'elceq' : [(3600, 3600), (3610, 3613), (3620, 3621), (3623, 3629), (3640, 3644), (3645, 3645), (3646, 3646), (3648, 3649), (3660, 3660), (3690, 3690), (3691, 3692), (3699, 3699)],\n",
    "'autos' : [(2296, 2296), (2396, 2396), (3010, 3011), (3537, 3537), (3647, 3647), (3694, 3694), (3700, 3700), (3710, 3710), (3711, 3711), (3713, 3713), (3714, 3714), (3715, 3715), (3716, 3716), (3792, 3792), (3790, 3791), (3799, 3799)],\n",
    "'aero' : [(3720, 3720), (3721, 3721), (3723, 3724), (3725, 3725), (3728, 3729)],\n",
    "'ships' : [(3730, 3731), (3740, 3743)],\n",
    "'guns' : [(3760, 3769), (3795, 3795), (3480, 3489)],\n",
    "'gold' : [(1040, 1049)],\n",
    "'mines' : [(1000, 1009), (1010, 1019), (1020, 1029), (1030, 1039), (1050, 1059), (1060, 1069), (1070, 1079), (1080, 1089), (1090, 1099), (1100, 1119), (1400, 1499)],\n",
    "'coal' : [(1200, 1299)],\n",
    "'oil' : [(1300, 1300), (1310, 1319), (1320, 1329), (1330, 1339), (1370, 1379), (1380, 1380), (1381, 1381), (1382, 1382), (1389, 1389), (2900, 2912), (2990, 2999)],\n",
    "'util' : [(4900, 4900), (4910, 4911), (4920, 4922), (4923, 4923), (4924, 4925), (4930, 4931), (4932, 4932), (4939, 4939), (4940, 4942)],\n",
    "'telcm' : [(4800, 4800), (4810, 4813), (4820, 4822), (4830, 4839), (4840, 4841), (4880, 4889), (4890, 4890), (4891, 4891), (4892, 4892), (4899, 4899)],\n",
    "'persv' : [(7020, 7021), (7030, 7033), (7200, 7200), (7210, 7212), (7214, 7214), (7215, 7216), (7217, 7217), (7219, 7219), (7220, 7221), (7230, 7231), (7240, 7241), (7250, 7251), (7260, 7269), (7270, 7290), (7291, 7291), (7292, 7299), (7395, 7395), (7500, 7500), (7520, 7529), (7530, 7539), (7540, 7549), (7600, 7600), (7620, 7620), (7622, 7622), (7623, 7623), (7629, 7629), (7630, 7631), (7640, 7641), (7690, 7699), (8100, 8199), (8200, 8299), (8300, 8399), (8400, 8499), (8600, 8699), (8800, 8899), (7510, 7515)],\n",
    "'bussv' : [(2750, 2759), (3993, 3993), (7218, 7218), (7300, 7300), (7310, 7319), (7320, 7329), (7330, 7339),(7340, 7342), (7349, 7349), (7350, 7351), (7352, 7352), (7353, 7353), (7359, 7359), (7360, 7369),(7370, 7372), (7374, 7374), (7375, 7375), (7376, 7376), (7377, 7377), (7378, 7378), (7379, 7379),(7380, 7380), (7381, 7382), (7383, 7383), (7384, 7384), (7385, 7385), (7389, 7390), (7391, 7391),(7392, 7392), (7393, 7393), (7394, 7394), (7396, 7396), (7397, 7397), (7399, 7399), (7519, 7519),(8700, 8700), (8710, 8713), (8720, 8721), (8730, 8734), (8740, 8748), (8900, 8910), (8911, 8911),(8920, 8999), (4220, 4229)],\n",
    "'comps' : [(3570, 3579), (3680, 3680), (3681, 3681), (3682, 3682), (3683, 3683), (3684, 3684), (3685, 3685),(3686, 3686), (3687, 3687), (3688, 3688), (3689, 3689), (3695, 3695), (7373, 7373)],\n",
    "'chips' : [(3622, 3622), (3661, 3661), (3662, 3662), (3663, 3663), (3664, 3664), (3665, 3665), (3666, 3666),(3669, 3669), (3670, 3679), (3810, 3810), (3812, 3812)],\n",
    "'labeq' : [(3811, 3811), (3820, 3820), (3821, 3821), (3822, 3822), (3823, 3823), (3824, 3824), (3825, 3825),(3826, 3826), (3827, 3827), (3829, 3829), (3830, 3839)],\n",
    "'paper' : [(2520, 2549), (2600, 2639), (2670, 2699), (2760, 2761), (3950, 3955)],\n",
    "'boxes' : [(2440, 2449), (2640, 2659), (3220, 3221), (3410, 3412)],\n",
    "'whlsl' : [(5000, 5000), (5010, 5015), (5020, 5023), (5030, 5039), (5040, 5042), (5043, 5043), (5044, 5044), (5045, 5045), (5046, 5046), (5047, 5047), (5048, 5048), (5049, 5049), (5050, 5059), (5060, 5060), (5063, 5063), (5064, 5064), (5065, 5065), (5070, 5078), (5080, 5080), (5081, 5081), (5082, 5082), (5083, 5083), (5084, 5084), (5085, 5085), (5086, 5087), (5088, 5088), (5090, 5090), (5091, 5092), (5093, 5093), (5094, 5094), (5099, 5099), (5100, 5100), (5110, 5113), (5120, 5122), (5130, 5139), (5140, 5149), (5150, 5159), (5160, 5169), (5170, 5172), (5180, 5182), (5190, 5199)],\n",
    "'trans' : [(4000, 4013), (4040, 4049), (4100, 4100), (4110, 4119), (4120, 4121), (4130, 4131), (4140, 4142),(4150, 4151), (4170, 4173), (4190, 4199), (4200, 4200), (4210, 4219), (4230, 4231), (4240, 4249),(4400, 4499), (4500, 4599), (4600, 4699), (4700, 4700), (4710, 4712), (4720, 4729), (4730, 4739),(4740, 4749), (4780, 4780), (4782, 4782), (4783, 4783), (4784, 4784)],\n",
    "'rtail' : [(5200, 5200), (5210, 5219), (5220, 5229), (5230, 5231), (5250, 5251), (5260, 5261), (5270, 5271), (5300, 5300), (5310, 5311), (5320, 5320), (5330, 5331), (5334, 5334), (5340, 5349), (5390, 5399), (5400, 5400), (5410, 5411), (5412, 5412), (5420, 5429), (5430, 5439), (5440, 5449), (5450, 5459), (5460, 5469), (5490, 5499), (5500, 5500), (5510, 5529), (5530, 5539), (5540, 5549), (5550, 5559), (5560, 5569), (5570, 5579), (5590, 5599), (5600, 5699), (5700, 5700), (5710, 5719), (5720, 5722), (5730, 5733), (5734, 5734), (5735, 5735), (5736, 5736), (5750, 5799), (5900, 5900), (5910, 5912), (5920, 5929), (5930, 5932), (5940, 5940), (5941, 5941), (5942, 5942), (5943, 5943), (5944, 5944), (5945, 5945), (5946, 5946), (5947, 5947), (5948, 5948), (5949, 5949), (5950, 5959), (5960, 5969), (5970, 5979), (5980, 5989), (5990, 5990), (5992, 5992), (5993, 5993), (5994, 5994), (5995, 5995), (5999, 5999)],\n",
    "'meals' : [(5800, 5819), (5820, 5829), (5890, 5899), (7000, 7000), (7010, 7019), (7040, 7049), (7213, 7213)],\n",
    "'banks' : [(6000, 6000), (6010, 6019), (6020, 6020), (6021, 6021), (6022, 6022), (6023, 6024), (6025, 6025), (6026, 6026), (6027, 6027), (6028, 6029), (6030, 6036), (6040, 6059), (6060, 6062), (6080, 6082), (6090, 6099), (6100, 6100), (6110, 6111), (6112, 6113), (6120, 6129), (6130, 6139), (6140, 6149), (6150, 6159), (6160, 6169), (6170, 6179), (6190, 6199)],\n",
    "'insur' : [(6300, 6300), (6310, 6319), (6320, 6329), (6330, 6331), (6350, 6351), (6360, 6361), (6370, 6379), (6390, 6399), (6400, 6411)],\n",
    "'rlest' : [(6500, 6500), (6510, 6510), (6512, 6512), (6513, 6513), (6514, 6514), (6515, 6515), (6517, 6519), (6520, 6529), (6530, 6531), (6532, 6532), (6540, 6541), (6550, 6553), (6590, 6599), (6610, 6611)],\n",
    "'fin' : [(6200, 6299), (6700, 6700), (6710, 6719), (6720, 6722), (6723, 6723), (6724, 6724), (6725, 6725), (6726, 6726), (6730, 6733), (6740, 6779), (6790, 6791), (6792, 6792), (6793, 6793), (6794, 6794), (6795, 6795), (6798, 6798), (6799, 6799)]\n",
    "# 'other' : [(4950, 4959), (4960, 4961), (4970, 4971), (4990, 4991)]\n",
    "}"
   ]
  },
  {
   "cell_type": "code",
   "execution_count": null,
   "id": "16de22e8-0232-4adf-a643-544090d10e07",
   "metadata": {
    "tags": []
   },
   "outputs": [],
   "source": [
    "for name, ranges in ind.items():\n",
    "    print('-'*60)\n",
    "    print(name)\n",
    "    combined = assign_label(combined, 'ind', ranges, name)"
   ]
  },
  {
   "cell_type": "code",
   "execution_count": null,
   "id": "ab571bf7-895e-4388-aae5-c33ba7fc446d",
   "metadata": {
    "tags": []
   },
   "outputs": [],
   "source": [
    "combined['ind'] = combined['ind_comp'].combine_first(combined['ind_crsp'])"
   ]
  },
  {
   "cell_type": "markdown",
   "id": "4868ad3b-4823-4b90-a58f-061e9ce67057",
   "metadata": {},
   "source": [
    "# Ind Data"
   ]
  },
  {
   "cell_type": "code",
   "execution_count": null,
   "id": "37cd610d-18d1-4383-a6e4-79e62ac80a31",
   "metadata": {
    "tags": []
   },
   "outputs": [],
   "source": [
    "ind_data = combined.dropna(subset=['ind'])"
   ]
  },
  {
   "cell_type": "code",
   "execution_count": null,
   "id": "86b8768c-66d5-43b7-b946-57d19d44852c",
   "metadata": {
    "tags": []
   },
   "outputs": [],
   "source": [
    "ind_data = ind_data.reset_index()\n",
    "ind_data = ind_data.set_index(['ind', 'permno', 'date'])"
   ]
  },
  {
   "cell_type": "code",
   "execution_count": null,
   "id": "9d754fa2-da7e-4478-a924-de021e72c12e",
   "metadata": {
    "tags": []
   },
   "outputs": [],
   "source": [
    "store = ind_data.copy(deep=True)"
   ]
  },
  {
   "cell_type": "markdown",
   "id": "37dd0136-3eb9-478e-b70d-24a51aadeddf",
   "metadata": {},
   "source": [
    "### Clean"
   ]
  },
  {
   "cell_type": "code",
   "execution_count": null,
   "id": "be8c99a4-7c5c-442a-afe7-be8277ca7987",
   "metadata": {},
   "outputs": [],
   "source": [
    "ind_data = store"
   ]
  },
  {
   "cell_type": "code",
   "execution_count": null,
   "id": "41c4c5ce-64f0-4ac6-bbe9-afdedbdebf38",
   "metadata": {
    "tags": []
   },
   "outputs": [],
   "source": [
    "ind_data['ret_01'] = pd.to_numeric(ind_data['ret_01'], errors='coerce')"
   ]
  },
  {
   "cell_type": "code",
   "execution_count": null,
   "id": "5522e22c-f422-4ae8-8fbc-72b968c57695",
   "metadata": {
    "tags": []
   },
   "outputs": [],
   "source": [
    "# Drop all permno/date pairs that have negative closing price data\n",
    "ind_data = ind_data[ind_data['close'] >= 0]"
   ]
  },
  {
   "cell_type": "code",
   "execution_count": null,
   "id": "56f2eccf-bd3b-4957-a716-afeb858a0955",
   "metadata": {
    "tags": []
   },
   "outputs": [],
   "source": [
    "# Remove permnos with less than 2 years worth of data"
   ]
  },
  {
   "cell_type": "code",
   "execution_count": null,
   "id": "5ac179e2-352e-4d4e-af2d-724cff966a18",
   "metadata": {
    "tags": []
   },
   "outputs": [],
   "source": [
    "ind_data = set_length(ind_data, 5)"
   ]
  },
  {
   "cell_type": "code",
   "execution_count": null,
   "id": "065a2292-6c95-4875-b3a3-6962fd01646e",
   "metadata": {
    "tags": []
   },
   "outputs": [],
   "source": [
    "ind_data"
   ]
  },
  {
   "cell_type": "markdown",
   "id": "9874fad9-fd68-4117-936b-ba31b74b14f1",
   "metadata": {},
   "source": [
    "# Value-Weighted Returns"
   ]
  },
  {
   "cell_type": "code",
   "execution_count": null,
   "id": "8e4c5c29-b7fb-4d9c-9f1a-a541f1d420cf",
   "metadata": {
    "tags": []
   },
   "outputs": [],
   "source": [
    "ind_data['value_permno'] = ind_data['close'] * ind_data['out_share'] * 1000"
   ]
  },
  {
   "cell_type": "code",
   "execution_count": null,
   "id": "4d6fb8f6-e876-4128-86de-5075a7db352d",
   "metadata": {
    "tags": []
   },
   "outputs": [],
   "source": [
    "ind_data['value_ind'] = ind_data.groupby(['ind', 'date'])['value_permno'].transform('sum')"
   ]
  },
  {
   "cell_type": "code",
   "execution_count": null,
   "id": "9be64476-e558-4214-8eac-251bc7d9b097",
   "metadata": {
    "tags": []
   },
   "outputs": [],
   "source": [
    "ind_data['vwr_weight'] = ind_data['value_permno'] / ind_data['value_ind']"
   ]
  },
  {
   "cell_type": "code",
   "execution_count": null,
   "id": "bb43fd20-123f-4e4e-841a-3617cfcf992a",
   "metadata": {
    "tags": []
   },
   "outputs": [],
   "source": [
    "ind_data['vwr_permno'] = ind_data['vwr_weight'] * ind_data['ret_01']"
   ]
  },
  {
   "cell_type": "code",
   "execution_count": null,
   "id": "786d0878-9e02-47fc-8ef9-1bd9c6ba3af0",
   "metadata": {
    "tags": []
   },
   "outputs": [],
   "source": [
    "ind_data['vwr_ind'] = ind_data.groupby(['ind', 'date'])['vwr_permno'].transform('sum')"
   ]
  },
  {
   "cell_type": "code",
   "execution_count": null,
   "id": "bbcc3e43-6114-468b-91a3-77995b84d80f",
   "metadata": {
    "tags": []
   },
   "outputs": [],
   "source": [
    "ind_data['value_market'] = ind_data.groupby('date')['value_permno'].transform('sum')\n",
    "ind_data['market_weight'] = ind_data['value_permno'] / ind_data['value_market']\n",
    "ind_data['market_permno'] = ind_data['market_weight'] * ind_data['ret_01']\n",
    "ind_data['market_total'] = ind_data.groupby('date')['market_permno'].transform('sum')"
   ]
  },
  {
   "cell_type": "code",
   "execution_count": null,
   "id": "95032fc2-47d3-4caf-9a9f-431e21f96880",
   "metadata": {
    "tags": []
   },
   "outputs": [],
   "source": [
    "temp_df = ind_data.reset_index()\n",
    "firm = temp_df.groupby(['date', 'ind']).permno.nunique().unstack()\n",
    "firm = firm.sort_index(axis=1)\n",
    "firm = firm.fillna(0)\n",
    "firm = firm.stack().to_frame()\n",
    "firm.index.names = ['date', 'ind']\n",
    "firm = firm.rename(columns={0:'size'})\n",
    "firm = firm.astype(int)"
   ]
  },
  {
   "cell_type": "code",
   "execution_count": null,
   "id": "9a9e850e-2169-4dae-a55a-3f8550ae7344",
   "metadata": {
    "tags": []
   },
   "outputs": [],
   "source": [
    "vwr = convert(ind_data, 'vwr_ind')"
   ]
  },
  {
   "cell_type": "code",
   "execution_count": null,
   "id": "cee198a2-990e-4a9d-9fd8-c53d6a497af0",
   "metadata": {
    "tags": []
   },
   "outputs": [],
   "source": [
    "total = convert(ind_data, 'market_total')"
   ]
  },
  {
   "cell_type": "code",
   "execution_count": null,
   "id": "dc7b3a09-40a4-4a25-bdfe-ee349113e52f",
   "metadata": {
    "tags": []
   },
   "outputs": [],
   "source": [
    "run = pd.merge(vwr, total, left_index=True, right_index=True, how='left').merge(firm, left_index=True, right_index=True, how='left')"
   ]
  },
  {
   "cell_type": "code",
   "execution_count": null,
   "id": "d852686f-5ed7-4051-99fc-f400c36c61e9",
   "metadata": {
    "tags": []
   },
   "outputs": [],
   "source": [
    "# Drop all date/ind pairs that have size less than 10\n",
    "run = run.loc[run['size'] >= 10]"
   ]
  },
  {
   "cell_type": "code",
   "execution_count": null,
   "id": "8190ab7b-8f7d-495e-b2a8-1a3085ee726f",
   "metadata": {
    "tags": []
   },
   "outputs": [],
   "source": [
    "run = run.sort_index()\n",
    "\n",
    "# 1. Industry experienced value-weighted returns of 100% or more in the past two years (raw)\n",
    "two_year_cumulative = run['vwr_ind'].groupby('ind').rolling(24 + 1).apply(lambda x: (x + 1).prod() - 1).droplevel(0)\n",
    "cond1 = two_year_cumulative >= 1.0\n",
    "\n",
    "# 2. 100% or more in the past two years (net of market)\n",
    "two_year_market_cumulative = run['market_total'].rolling(24 + 1).apply(lambda x: (x + 1).prod() - 1)\n",
    "net_two_year_cumulative = two_year_cumulative - two_year_market_cumulative\n",
    "cond2 = net_two_year_cumulative >= 1.0\n",
    "\n",
    "# 3. 50% or more raw return over the past five years\n",
    "five_year_cumulative = run['vwr_ind'].groupby('ind').rolling(60 + 1).apply(lambda x: (x + 1).prod() - 1).droplevel(0)\n",
    "cond3 = five_year_cumulative >= 0.5\n",
    "\n",
    "# Combine conditions and filter\n",
    "final_cond = cond1 & cond2 & cond3\n",
    "episodes = run[final_cond]"
   ]
  },
  {
   "cell_type": "code",
   "execution_count": null,
   "id": "b1aadf93-e729-4696-a355-8170186d9bc0",
   "metadata": {
    "tags": []
   },
   "outputs": [],
   "source": [
    "episodes.loc[episodes.index.get_level_values(1)=='steel'].head(50)"
   ]
  },
  {
   "cell_type": "code",
   "execution_count": null,
   "id": "5c7d2ef7-b45d-46e2-adf9-86c54e8e0f9d",
   "metadata": {},
   "outputs": [],
   "source": []
  }
 ],
 "metadata": {
  "kernelspec": {
   "display_name": "bubblefacto",
   "language": "python",
   "name": "bubblefacto"
  },
  "language_info": {
   "codemirror_mode": {
    "name": "ipython",
    "version": 3
   },
   "file_extension": ".py",
   "mimetype": "text/x-python",
   "name": "python",
   "nbconvert_exporter": "python",
   "pygments_lexer": "ipython3",
   "version": "3.10.12"
  }
 },
 "nbformat": 4,
 "nbformat_minor": 5
}
