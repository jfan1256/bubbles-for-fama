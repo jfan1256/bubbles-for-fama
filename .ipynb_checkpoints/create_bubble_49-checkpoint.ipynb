{
 "cells": [
  {
   "cell_type": "code",
   "execution_count": 1,
   "id": "initial_id",
   "metadata": {
    "ExecuteTime": {
     "end_time": "2023-09-13T00:17:21.773621200Z",
     "start_time": "2023-09-13T00:17:20.961266200Z"
    },
    "tags": []
   },
   "outputs": [],
   "source": [
    "import pandas as pd\n",
    "import numpy as np\n",
    "import os\n",
    "import re\n",
    "import pandas_datareader.data as web\n",
    "\n",
    "from pathlib import Path\n",
    "from IPython.display import display\n",
    "from scipy.stats import pearsonr\n",
    "import matplotlib.pyplot as plt\n",
    "\n",
    "import warnings\n",
    "warnings.filterwarnings('ignore')"
   ]
  },
  {
   "cell_type": "code",
   "execution_count": 2,
   "id": "6aadb5c8",
   "metadata": {
    "tags": []
   },
   "outputs": [],
   "source": [
    "# Remove all data without at least 5 years worth of data\n",
    "def set_length(data, year):\n",
    "    counts = data.groupby('permno').size()\n",
    "    to_exclude = counts[counts < (year * 12)].index\n",
    "    mask = ~data.index.get_level_values('permno').isin(to_exclude)\n",
    "    data = data[mask]\n",
    "    return data\n",
    "\n",
    "# Get ticker data\n",
    "def get_permno_data(data, permno):\n",
    "    idx = pd.IndexSlice\n",
    "    desired_data = data.loc[idx[:, permno, :], :]\n",
    "    return desired_data\n",
    "\n",
    "# Get ticker data\n",
    "def get_ind_data(data, ind):\n",
    "    idx = pd.IndexSlice\n",
    "    desired_data = data.loc[idx[ind, :, :], :]\n",
    "    return desired_data\n",
    "\n",
    "# Assign industry based off range\n",
    "def assign_label(df, column_name, sic_ranges, label):\n",
    "    df['sic_temp_crsp'] = df['sic_crsp']\n",
    "    df['sic_temp_comp'] = df['sic_comp']\n",
    "    \n",
    "    for r in sic_ranges:\n",
    "        if isinstance(r, tuple):\n",
    "            df.loc[(df['sic_temp_crsp'] >= r[0]) & (df['sic_temp_crsp'] <= r[1]), f'{column_name}_crsp'] = label\n",
    "            df.loc[(df['sic_temp_comp'] >= r[0]) & (df['sic_temp_comp'] <= r[1]), f'{column_name}_comp'] = label\n",
    "        else:\n",
    "            df.loc[df['sic_temp_crsp'] == r, f'{column_name}_crsp'] = label\n",
    "            df.loc[df['sic_temp_comp'] == r, f'{column_name}_comp'] = label\n",
    "    \n",
    "    df = df.drop(columns=['sic_temp_crsp', 'sic_temp_comp'])\n",
    "    \n",
    "    return df"
   ]
  },
  {
   "cell_type": "code",
   "execution_count": 3,
   "id": "dab2ee899fa51ee",
   "metadata": {
    "tags": []
   },
   "outputs": [],
   "source": [
    "root = Path(os.getcwd())"
   ]
  },
  {
   "cell_type": "code",
   "execution_count": 4,
   "id": "f4d7bdd1",
   "metadata": {
    "tags": []
   },
   "outputs": [],
   "source": [
    "comp = pd.read_csv(root / 'data' / 'comp_price.csv')"
   ]
  },
  {
   "cell_type": "code",
   "execution_count": 5,
   "id": "308508e0",
   "metadata": {
    "tags": []
   },
   "outputs": [],
   "source": [
    "crsp_comp = pd.read_csv(root / 'data' / 'crsp_comp_price.csv')"
   ]
  },
  {
   "cell_type": "code",
   "execution_count": 6,
   "id": "fc680b56",
   "metadata": {
    "tags": []
   },
   "outputs": [],
   "source": [
    "crsp = pd.read_csv(root / 'data' / 'crsp_price.csv')"
   ]
  },
  {
   "cell_type": "code",
   "execution_count": 7,
   "id": "b061e2b8",
   "metadata": {
    "tags": []
   },
   "outputs": [],
   "source": [
    "comp['datadate'] = pd.to_datetime(comp['datadate']).dt.to_period(\"M\").dt.to_timestamp(\"M\")\n",
    "comp = comp.rename(columns={'tic': 'ticker', 'prccm':'close', 'cshom': 'out_share', 'datadate': 'date'}\n",
    "                              ).set_index(['ticker', 'date']).drop(['iid', 'gvkey'], axis=1)"
   ]
  },
  {
   "cell_type": "code",
   "execution_count": 8,
   "id": "a541fe14",
   "metadata": {
    "tags": []
   },
   "outputs": [],
   "source": [
    "crsp_comp['datadate'] = pd.to_datetime(crsp_comp['datadate']).dt.to_period(\"M\").dt.to_timestamp(\"M\")\n",
    "crsp_comp = crsp_comp.rename(columns={'tic': 'ticker', 'prccm':'close', 'cshoq': 'out_share', 'datadate': 'date'\n",
    "                                     , 'LPERMNO':'permno', 'sic':'sic_comp'}\n",
    "                              ).set_index(['permno', 'date']).drop(['iid', 'GVKEY', 'ticker', 'out_share', 'close'], axis=1)\n",
    "crsp_comp = crsp_comp.sort_index(level=['permno','date'])"
   ]
  },
  {
   "cell_type": "code",
   "execution_count": 9,
   "id": "3bac0b00",
   "metadata": {
    "tags": []
   },
   "outputs": [],
   "source": [
    "crsp['date'] = pd.to_datetime(crsp['date']).dt.to_period(\"M\").dt.to_timestamp(\"M\")\n",
    "\n",
    "crsp = crsp.rename(columns={'TICKER': 'ticker', 'PRC':'close', 'VOL':'volume', \n",
    "                                        'SHROUT': 'out_share', 'FACSHR': 'adj_share', 'ISSUNO':'nasdaq',\n",
    "                                        'SHRCD': 'share_code', 'PERMNO':'permno', 'SICCD':'sic_crsp', 'RET':'ret_01'}\n",
    "                              ).set_index(['permno', 'date']).drop('PERMCO', axis=1)\n",
    "\n",
    "crsp = crsp.sort_index(level=['permno', 'date'])\n",
    "\n",
    "crsp = crsp[crsp.index.get_level_values('permno').notna()]\n",
    "\n",
    "crsp['sic_crsp'] = pd.to_numeric(crsp['sic_crsp'], errors='coerce', downcast='integer')\n",
    "\n",
    "crsp = crsp.dropna(subset=['sic_crsp'])"
   ]
  },
  {
   "cell_type": "code",
   "execution_count": 10,
   "id": "dc4ae378",
   "metadata": {
    "tags": []
   },
   "outputs": [],
   "source": [
    "combined = pd.merge(crsp, crsp_comp, left_index=True, right_index=True, how='outer')"
   ]
  },
  {
   "cell_type": "code",
   "execution_count": 11,
   "id": "7f033277",
   "metadata": {
    "tags": []
   },
   "outputs": [],
   "source": [
    "combined = combined[~combined.index.duplicated(keep='first')]"
   ]
  },
  {
   "cell_type": "code",
   "execution_count": 12,
   "id": "72435c8b",
   "metadata": {
    "tags": []
   },
   "outputs": [],
   "source": [
    "# Make a permno's industry the same across all dates\n",
    "# def first_non_na(series):\n",
    "#     return series.dropna().iloc[0] if not series.dropna().empty else np.nan\n",
    "\n",
    "# combined['sic_crsp'] = combined.groupby('permno')['sic_crsp'].transform(first_non_na)\n",
    "# combined['sic_comp'] = combined.groupby('permno')['sic_comp'].transform(first_non_na)"
   ]
  },
  {
   "cell_type": "code",
   "execution_count": 13,
   "id": "8642b518",
   "metadata": {
    "tags": []
   },
   "outputs": [],
   "source": [
    "# combined = set_length(combined, 2)"
   ]
  },
  {
   "cell_type": "markdown",
   "id": "9961cc35",
   "metadata": {},
   "source": [
    "# Create Ind"
   ]
  },
  {
   "cell_type": "code",
   "execution_count": 15,
   "id": "79d1a9a8",
   "metadata": {
    "tags": []
   },
   "outputs": [],
   "source": [
    "ind = {\n",
    "    'agric': [(100, 199), (200, 299), (700, 799), (910, 919), 2048],\n",
    "    'food': [(2000, 2009), (2010, 2019), (2020, 2029), (2030, 2039), (2040, 2046), (2050, 2059), (2060, 2063), (2070, 2079), (2090, 2092), 2095, (2098, 2099)],\n",
    "    'soda': [(2064, 2068), 2086, 2087, 2096, 2097],\n",
    "    'beer': [2080, 2082, 2083, 2084, 2085],\n",
    "    'smoke': [(2100, 2199)],\n",
    "    'toys': [(920, 999), (3650, 3651), 3652, 3732, (3930, 3931), (3940, 3949)],\n",
    "    'fun': [(7800, 7829), (7830, 7833), (7840, 7841), 7900, (7910, 7911), (7920, 7929), (7930, 7933), (7940, 7949), 7980, (7990, 7999)],\n",
    "    'books': [(2700, 2709), (2710, 2719), (2720, 2729), (2730, 2739), (2740, 2749), (2770, 2771), (2780, 2789), (2790, 2799)],\n",
    "    'hshld': [2047, (2391, 2392), (2510, 2519), (2590, 2599), (2840, 2843), 2844, (3160, 3161), (3170, 3171), 3172, (3190, 3199), 3229, 3260, (3262, 3263), 3269, (3230, 3231), (3630, 3639), (3750, 3751), 3800, (3860, 3861), (3870, 3873), (3910, 3911), 3914, 3915, (3960, 3962), 3991, 3995],\n",
    "    'clths': [(2300, 2390), (3020, 3021), (3100, 3111), (3130, 3131), (3140, 3149), (3150, 3151), (3963, 3965)],\n",
    "    'hlth': [(8000, 8099)],\n",
    "    'medeq': [3693, (3840, 3849), (3850, 3851)],\n",
    "    'drugs': [2830, 2831, 2833, 2834, 2835, 2836],\n",
    "    'chems': [(2800, 2809), (2810, 2819), (2820, 2829), (2850, 2859), (2860, 2869), (2870, 2879), (2890, 2899)],\n",
    "    'rubbr': [3031, 3041, (3050, 3053), (3060, 3069), (3070, 3079), (3080, 3089), (3090, 3099)],\n",
    "    'txtls': [(2200, 2269), (2270, 2279), (2280, 2284), (2290, 2295), 2297, 2298, 2299, (2393, 2395), (2397, 2399)],\n",
    "    'bldmt': [(800, 899), (2400, 2439), (2450, 2459), (2490, 2499), (2660, 2661), (2950, 2952), 3200, (3210, 3211), (3240, 3241), (3250, 3259), 3261, 3264, (3270, 3275), (3280, 3281), (3290, 3293), (3295, 3299), (3420, 3429), (3430, 3433), (3440, 3441), 3442, 3446, 3448, 3449, (3450, 3451), 3452, (3490, 3499), 3996],\n",
    "    'cnstr': [(1500, 1511), (1520, 1529), (1530, 1539), (1540, 1549), (1600, 1699), (1700, 1799)],\n",
    "    'steel': [3300, (3310, 3317), (3320, 3325), (3330, 3339), (3340, 3341), (3350, 3357), (3360, 3369), (3370, 3379), (3390, 3399)],\n",
    "    'fabpr': [3400, 3443, 3444, (3460, 3469), (3470, 3479)],\n",
    "    'mach': [(3510, 3519), (3520, 3529), 3530, 3531, 3532, 3533, 3534, 3535, 3536, 3538, (3540, 3549), (3550, 3559), (3560, 3569), 3580, 3581, 3582, 3585, 3586, 3589, (3590, 3599)],\n",
    "    'elceq': [3600, (3610, 3613), (3620, 3621), (3623, 3629), (3640, 3644), 3645, 3646, (3648, 3649), 3660, 3690, (3691, 3692), 3699],\n",
    "    'autos': [2296, 2396, (3010, 3011), 3537, 3647, 3694, 3700, 3710, 3711, 3713, 3714, 3715, 3716, 3792, (3790, 3791), 3799],\n",
    "    'aero': [3720, 3721, (3723, 3724), 3725, (3728, 3729)],\n",
    "    'ships': [(3730, 3731), (3740, 3743)],\n",
    "    'guns': [(3760, 3769), 3795, (3480, 3489)],\n",
    "    'gold': [(1040, 1049)],\n",
    "    'mines': [(1000, 1009), (1010, 1019), (1020, 1029), (1030, 1039), (1050, 1059), (1060, 1069), (1070, 1079), (1080, 1089), (1090, 1099), (1100, 1119), (1400, 1499)],\n",
    "    'coal': [(1200, 1299)],\n",
    "    'oil': [1300, (1310, 1319), (1320, 1329), (1330, 1339), (1370, 1379), 1380, 1381, 1382, 1389, (2900, 2912), (2990, 2999)],\n",
    "    'util': [4900, (4910, 4911), (4920, 4922), 4923, (4924, 4925), (4930, 4931), 4932, 4939, (4940, 4942)],\n",
    "    'telcm': [4800, (4810, 4813), (4820, 4822), (4830, 4839), (4840, 4841), 4880, 4890, 4891, 4892, 4899],\n",
    "    'persv': [(7020, 7021), (7030, 7033), 7200, (7210, 7212), 7214, (7215, 7216), 7217, 7219, (7220, 7221), (7230, 7231), (7240, 7241), (7250, 7251), (7260, 7269), (7270, 7290), 7291, (7292, 7299), 7395, 7500, (7520, 7529), (7530, 7539), (7540, 7549), 7600, 7620, 7622, 7623, 7629, 7630, 7640, (7690, 7699), (8100, 8199), (8200, 8299), (8300, 8399), (8400, 8499), (8600, 8699), (8800, 8899), (7510, 7515)],\n",
    "    'bussv': [(2750, 2759), 3993, 7218, 7300, (7310, 7319), (7320, 7329), (7330, 7339), (7340, 7342), 7349, (7350, 7351), 7352, 7353, 7359, (7360, 7369), 7374, 7376, 7377, 7378, 7379, 7380, (7381, 7382), 7383, 7384, 7385, 7389, 7390, 7391, (7392, 7392), 7393, 7394, 7396, 7397, 7399, (7519, 7519), 8700, (8710, 8713), (8720, 8721), (8730, 8734), (8740, 8748), (8900, 8910), 8911, (8920, 8999), (4220, 4229)],\n",
    "    'hardw': [(3570, 3579), 3680, 3681, 3682, 3683, 3684, 3685, 3686, 3687, 3688, 3689, 3695],\n",
    "    'softw': [(7370, 7372), 7375, 7373],\n",
    "    'chips': [3622, 3661, (3662, 3662), 3663, 3664, 3665, 3666, 3669, (3670, 3679), (3810, 3810), (3812, 3812)],\n",
    "    'labeq': [3811, 3820, 3821, 3822, 3823, 3824, 3825, 3826, 3827, 3829, (3830, 3839)],\n",
    "    'paper': [(2520, 2549), (2600, 2639), (2670, 2699), (2760, 2761), (3950, 3955)],\n",
    "    'boxes': [(2440, 2449), (2640, 2659), (3220, 3221), (3410, 3412)],\n",
    "    'trans': [(4000, 4013), (4040, 4049), 4100, (4110, 4119), (4120, 4121), (4130, 4131), (4140, 4142), (4150, 4151), (4170, 4173), (4190, 4199), 4200, (4210, 4219), (4230, 4231), (4240, 4249), (4400, 4499), (4500, 4599), (4600, 4699), 4700, (4710, 4712), (4720, 4729), (4730, 4739), (4740, 4749), 4780, 4782, 4783, 4784, 4785, 4789],\n",
    "    'whlsl': [5000, (5010, 5015), (5020, 5023), (5030, 5039), (5040, 5042), 5043, 5044, 5045, 5046, 5047, 5048, 5049, (5050, 5059), 5060, 5063, 5064, 5065, (5070, 5078), 5080, 5081, 5082, 5083, 5084, 5085, (5086, 5087), 5088, 5090, (5091, 5092), 5093, 5094, 5099, 5100, (5110, 5113), (5120, 5122), (5130, 5139), (5140, 5149), (5150, 5159), (5160, 5169), (5170, 5172), (5180, 5182), (5190, 5199)],\n",
    "    'rtail': [5200, (5210, 5219), (5220, 5229), (5230, 5231), (5250, 5251), (5260, 5261), (5270, 5271), 5300, 5310, 5320, (5330, 5331), 5334, (5340, 5349), (5390, 5399), 5400, (5410, 5411), 5412, (5420, 5429), (5430, 5439), (5440, 5449), (5450, 5459), (5460, 5469), (5490, 5499), 5500, (5510, 5529), (5530, 5539), (5540, 5549), (5550, 5559), (5560, 5569), (5570, 5579), (5590, 5599), (5600, 5699), 5700, (5710, 5719), (5720, 5722), (5730, 5733), 5734, 5735, 5736, (5750, 5799), 5900, (5910, 5912), (5920, 5929), (5930, 5932), 5940, 5941, 5942, 5943, 5944, 5945, 5946, 5947, 5948, 5949, (5950, 5959), (5960, 5969), (5970, 5979), (5980, 5989), 5990, 5992, 5993, 5994, 5995, 5999],\n",
    "    'meals': [(5800, 5819), (5820, 5829), (5890, 5899), 7000, (7010, 7019), (7040, 7049), 7213],\n",
    "    'banks': [6000, (6010, 6019), 6020, 6021, 6022, 6023, 6025, 6026, 6027, (6028, 6029), (6030, 6036), (6040, 6059), (6060, 6062), (6080, 6082), (6090, 6099), 6100, (6110, 6111), (6112, 6113), (6120, 6129), (6130, 6139), (6140, 6149), (6150, 6159), (6160, 6169), (6170, 6179), (6190, 6199)],\n",
    "    'insur': [6300, (6310, 6319), (6320, 6329), (6330, 6331), (6350, 6351), (6360, 6361), (6370, 6379), (6390, 6399), (6400, 6411)],\n",
    "    'rlest': [6500, 6510, 6512, 6513, 6514, 6515, (6517, 6519), (6520, 6529), (6530, 6531), 6532, (6540, 6541), (6550, 6553), (6590, 6599), (6610, 6611)],\n",
    "    'fin': [(6200, 6299), 6700, (6710, 6719), (6720, 6722), 6723, 6724, 6725, 6726, (6730, 6733), (6740, 6779), 6790, 6791, 6792, 6793, 6794, 6795, 6798, 6799],\n",
    "    'other': [(4950, 4959), (4960, 4961), (4970, 4971), (4990, 4991)]\n",
    "}"
   ]
  },
  {
   "cell_type": "code",
   "execution_count": 16,
   "id": "4138381a",
   "metadata": {
    "tags": []
   },
   "outputs": [
    {
     "name": "stdout",
     "output_type": "stream",
     "text": [
      "------------------------------------------------------------\n",
      "agric\n",
      "------------------------------------------------------------\n",
      "food\n",
      "------------------------------------------------------------\n",
      "soda\n",
      "------------------------------------------------------------\n",
      "beer\n",
      "------------------------------------------------------------\n",
      "smoke\n",
      "------------------------------------------------------------\n",
      "toys\n",
      "------------------------------------------------------------\n",
      "fun\n",
      "------------------------------------------------------------\n",
      "books\n",
      "------------------------------------------------------------\n",
      "hshld\n",
      "------------------------------------------------------------\n",
      "clths\n",
      "------------------------------------------------------------\n",
      "hlth\n",
      "------------------------------------------------------------\n",
      "medeq\n",
      "------------------------------------------------------------\n",
      "drugs\n",
      "------------------------------------------------------------\n",
      "chems\n",
      "------------------------------------------------------------\n",
      "rubbr\n",
      "------------------------------------------------------------\n",
      "txtls\n",
      "------------------------------------------------------------\n",
      "bldmt\n",
      "------------------------------------------------------------\n",
      "cnstr\n",
      "------------------------------------------------------------\n",
      "steel\n",
      "------------------------------------------------------------\n",
      "fabpr\n",
      "------------------------------------------------------------\n",
      "mach\n",
      "------------------------------------------------------------\n",
      "elceq\n",
      "------------------------------------------------------------\n",
      "autos\n",
      "------------------------------------------------------------\n",
      "aero\n",
      "------------------------------------------------------------\n",
      "ships\n",
      "------------------------------------------------------------\n",
      "guns\n",
      "------------------------------------------------------------\n",
      "gold\n",
      "------------------------------------------------------------\n",
      "mines\n",
      "------------------------------------------------------------\n",
      "coal\n",
      "------------------------------------------------------------\n",
      "oil\n",
      "------------------------------------------------------------\n",
      "util\n",
      "------------------------------------------------------------\n",
      "telcm\n",
      "------------------------------------------------------------\n",
      "persv\n",
      "------------------------------------------------------------\n",
      "bussv\n",
      "------------------------------------------------------------\n",
      "hardw\n",
      "------------------------------------------------------------\n",
      "softw\n",
      "------------------------------------------------------------\n",
      "chips\n",
      "------------------------------------------------------------\n",
      "labeq\n",
      "------------------------------------------------------------\n",
      "paper\n",
      "------------------------------------------------------------\n",
      "boxes\n",
      "------------------------------------------------------------\n",
      "trans\n",
      "------------------------------------------------------------\n",
      "whlsl\n",
      "------------------------------------------------------------\n",
      "rtail\n",
      "------------------------------------------------------------\n",
      "meals\n",
      "------------------------------------------------------------\n",
      "banks\n",
      "------------------------------------------------------------\n",
      "insur\n",
      "------------------------------------------------------------\n",
      "rlest\n",
      "------------------------------------------------------------\n",
      "fin\n",
      "------------------------------------------------------------\n",
      "other\n"
     ]
    }
   ],
   "source": [
    "for name, ranges in ind.items():\n",
    "    print('-'*60)\n",
    "    print(name)\n",
    "    combined = assign_label(combined, 'ind', ranges, name)"
   ]
  },
  {
   "cell_type": "code",
   "execution_count": 17,
   "id": "0f1ad1f2",
   "metadata": {
    "tags": []
   },
   "outputs": [],
   "source": [
    "combined['ind'] = combined['ind_comp'].combine_first(combined['ind_crsp'])"
   ]
  },
  {
   "cell_type": "markdown",
   "id": "098e2752",
   "metadata": {},
   "source": [
    "# Ind Data"
   ]
  },
  {
   "cell_type": "code",
   "execution_count": 18,
   "id": "ee817b8e",
   "metadata": {
    "tags": []
   },
   "outputs": [],
   "source": [
    "ind_data = combined.dropna(subset=['ind'])"
   ]
  },
  {
   "cell_type": "code",
   "execution_count": 19,
   "id": "3024bfd7",
   "metadata": {
    "tags": []
   },
   "outputs": [],
   "source": [
    "# # Remove all industries with no more than 10 firms\n",
    "# ind_count = ind_data.groupby('permno')['ind'].first().value_counts()\n",
    "# valid_ind = ind_count[ind_count >= 10].index.tolist()\n",
    "# ind_data = ind_data[ind_data['ind'].isin(valid_ind)]"
   ]
  },
  {
   "cell_type": "code",
   "execution_count": 20,
   "id": "178647df",
   "metadata": {
    "tags": []
   },
   "outputs": [],
   "source": [
    "ind_data = ind_data.reset_index()\n",
    "ind_data = ind_data.set_index(['ind', 'permno', 'date'])"
   ]
  },
  {
   "cell_type": "code",
   "execution_count": 21,
   "id": "13048772",
   "metadata": {
    "tags": []
   },
   "outputs": [],
   "source": [
    "store = ind_data.copy(deep=True)"
   ]
  },
  {
   "cell_type": "markdown",
   "id": "d53853f9-befb-4b5f-917a-280b027f13ae",
   "metadata": {},
   "source": [
    "### Clean"
   ]
  },
  {
   "cell_type": "code",
   "execution_count": 22,
   "id": "5cb34aac",
   "metadata": {},
   "outputs": [],
   "source": [
    "ind_data = store"
   ]
  },
  {
   "cell_type": "code",
   "execution_count": 23,
   "id": "570c1d64",
   "metadata": {
    "tags": []
   },
   "outputs": [],
   "source": [
    "ind_data['ret_01'] = pd.to_numeric(ind_data['ret_01'], errors='coerce')"
   ]
  },
  {
   "cell_type": "code",
   "execution_count": 24,
   "id": "46d42a71",
   "metadata": {
    "tags": []
   },
   "outputs": [],
   "source": [
    "# def create_return(df, windows):\n",
    "#     by_permno = df.groupby('permno')\n",
    "#     for t in windows:\n",
    "#         df[f'ret_{t:02}'] = by_permno.close.pct_change(t)\n",
    "#     return df\n",
    "\n",
    "# ind_data = create_return(ind_data, [1])"
   ]
  },
  {
   "cell_type": "code",
   "execution_count": 25,
   "id": "45753f87-954b-483a-bac5-9d188ff92823",
   "metadata": {
    "tags": []
   },
   "outputs": [],
   "source": [
    "# Drop all permno/date pairs that have negative closing price data\n",
    "ind_data = ind_data[ind_data['close'] >= 0]"
   ]
  },
  {
   "cell_type": "code",
   "execution_count": 26,
   "id": "437d0d56-4955-4bbf-9291-2630921f2214",
   "metadata": {
    "tags": []
   },
   "outputs": [],
   "source": [
    "# # Compute the number of firms for each ('ind', 'date') group and broadcast it to the original shape\n",
    "# counts = ind_data.groupby(['ind', 'date']).transform('size')\n",
    "\n",
    "# # Use boolean masking to set values to NaN where the count is less than 10\n",
    "# mask = counts < 10\n",
    "# ind_data[mask] = np.nan"
   ]
  },
  {
   "cell_type": "markdown",
   "id": "fd984aa0",
   "metadata": {},
   "source": [
    "# Value-Weighted Returns"
   ]
  },
  {
   "cell_type": "code",
   "execution_count": 27,
   "id": "86cc0bc7",
   "metadata": {
    "tags": []
   },
   "outputs": [],
   "source": [
    "ind_data['value_permno'] = ind_data['close'] * ind_data['out_share'] * 1000"
   ]
  },
  {
   "cell_type": "code",
   "execution_count": 28,
   "id": "1cfaa957",
   "metadata": {
    "tags": []
   },
   "outputs": [],
   "source": [
    "ind_data['value_ind'] = ind_data.groupby(['ind', 'date'])['value_permno'].transform('sum')"
   ]
  },
  {
   "cell_type": "code",
   "execution_count": 29,
   "id": "8621d4ca",
   "metadata": {
    "tags": []
   },
   "outputs": [],
   "source": [
    "ind_data['vwr_weight'] = ind_data['value_permno'] / ind_data['value_ind']"
   ]
  },
  {
   "cell_type": "code",
   "execution_count": 30,
   "id": "3761d28a",
   "metadata": {
    "tags": []
   },
   "outputs": [],
   "source": [
    "ind_data['vwr_permno'] = ind_data['vwr_weight'] * ind_data['ret_01']"
   ]
  },
  {
   "cell_type": "code",
   "execution_count": 31,
   "id": "bf84c50a",
   "metadata": {
    "tags": []
   },
   "outputs": [],
   "source": [
    "ind_data['vwr_ind'] = ind_data.groupby(['ind', 'date'])['vwr_permno'].transform('sum')"
   ]
  },
  {
   "cell_type": "markdown",
   "id": "9456087c",
   "metadata": {},
   "source": [
    "# Volatility"
   ]
  },
  {
   "cell_type": "code",
   "execution_count": 32,
   "id": "3231a413",
   "metadata": {
    "tags": []
   },
   "outputs": [],
   "source": [
    "daily = pd.read_csv(root / 'data' / 'daily_price.csv')"
   ]
  },
  {
   "cell_type": "code",
   "execution_count": 33,
   "id": "60cd9ad7",
   "metadata": {
    "tags": []
   },
   "outputs": [],
   "source": [
    "daily = daily.rename(columns={'PERMNO':'permno', 'PRC':'close'})"
   ]
  },
  {
   "cell_type": "code",
   "execution_count": 34,
   "id": "a6902459-4e6e-499c-9dd3-18b320c726de",
   "metadata": {
    "tags": []
   },
   "outputs": [],
   "source": [
    "daily = daily[daily['close'] >= 0]"
   ]
  },
  {
   "cell_type": "code",
   "execution_count": 35,
   "id": "f40a8704",
   "metadata": {
    "tags": []
   },
   "outputs": [],
   "source": [
    "daily['ret_01'] = daily.groupby('permno')['close'].pct_change()"
   ]
  },
  {
   "cell_type": "code",
   "execution_count": 36,
   "id": "bed98b40",
   "metadata": {
    "tags": []
   },
   "outputs": [],
   "source": [
    "daily['date'] = pd.to_datetime(daily['date'])"
   ]
  },
  {
   "cell_type": "code",
   "execution_count": 37,
   "id": "6d03094a",
   "metadata": {
    "tags": []
   },
   "outputs": [],
   "source": [
    "daily['month'] = daily['date'].dt.to_period('M')"
   ]
  },
  {
   "cell_type": "code",
   "execution_count": 38,
   "id": "a28d6f07",
   "metadata": {
    "tags": []
   },
   "outputs": [],
   "source": [
    "month_vol = daily.groupby(['permno', 'month'])['ret_01'].std().reset_index()"
   ]
  },
  {
   "cell_type": "code",
   "execution_count": 39,
   "id": "0193afd3",
   "metadata": {
    "tags": []
   },
   "outputs": [],
   "source": [
    "month_vol = month_vol.rename(columns={'month':'date', 'ret_01':'vol'})"
   ]
  },
  {
   "cell_type": "code",
   "execution_count": 40,
   "id": "05328782",
   "metadata": {
    "tags": []
   },
   "outputs": [],
   "source": [
    "month_vol['date'] = month_vol['date'].astype(str)"
   ]
  },
  {
   "cell_type": "code",
   "execution_count": 41,
   "id": "152cb681",
   "metadata": {
    "tags": []
   },
   "outputs": [],
   "source": [
    "month_vol['date'] = pd.to_datetime(month_vol['date'])"
   ]
  },
  {
   "cell_type": "code",
   "execution_count": 42,
   "id": "445eb243",
   "metadata": {
    "tags": []
   },
   "outputs": [],
   "source": [
    "month_vol['date'] = month_vol['date'].dt.to_period('M').dt.to_timestamp('M')"
   ]
  },
  {
   "cell_type": "code",
   "execution_count": 43,
   "id": "7ae8d77f",
   "metadata": {
    "tags": []
   },
   "outputs": [],
   "source": [
    "month_vol = month_vol.set_index(['permno', 'date'])"
   ]
  },
  {
   "cell_type": "code",
   "execution_count": 44,
   "id": "c7871d7d",
   "metadata": {
    "tags": []
   },
   "outputs": [],
   "source": [
    "ind_data = ind_data.reset_index().set_index(['permno', 'date'])"
   ]
  },
  {
   "cell_type": "code",
   "execution_count": 45,
   "id": "2c711d36",
   "metadata": {
    "tags": []
   },
   "outputs": [],
   "source": [
    "ind_data = pd.merge(ind_data, month_vol, left_index=True, right_index=True, how='left')"
   ]
  },
  {
   "cell_type": "code",
   "execution_count": 46,
   "id": "c67c62c9",
   "metadata": {
    "tags": []
   },
   "outputs": [],
   "source": [
    "ind_data = ind_data.reset_index().set_index(['ind', 'permno', 'date'])"
   ]
  },
  {
   "cell_type": "code",
   "execution_count": 47,
   "id": "12dcf618",
   "metadata": {
    "tags": []
   },
   "outputs": [],
   "source": [
    "ind_data['vol_ind_rank'] = ind_data.groupby('ind')['vol'].rank(pct=True)"
   ]
  },
  {
   "cell_type": "code",
   "execution_count": 48,
   "id": "fce486ac",
   "metadata": {
    "tags": []
   },
   "outputs": [],
   "source": [
    "ind_data['vol_value'] = ind_data['vol_ind_rank'] * ind_data['value_permno']"
   ]
  },
  {
   "cell_type": "code",
   "execution_count": 49,
   "id": "14e80839",
   "metadata": {
    "tags": []
   },
   "outputs": [],
   "source": [
    "ind_data['vol_ind'] = ind_data.groupby(['ind', 'date'])['vol_value'].transform('sum') / ind_data.groupby(['ind', 'date'])['value_permno'].transform('sum')"
   ]
  },
  {
   "cell_type": "code",
   "execution_count": 50,
   "id": "867db8bd",
   "metadata": {
    "tags": []
   },
   "outputs": [],
   "source": [
    "ind_data['vol_market_rank'] = ind_data.groupby('date')['vol_ind'].rank(pct=True)"
   ]
  },
  {
   "cell_type": "code",
   "execution_count": 51,
   "id": "d9c1ea39-363b-4fda-ab01-64bd4f04e656",
   "metadata": {
    "tags": []
   },
   "outputs": [],
   "source": [
    "ind_data['vol_weight'] = ind_data['vol'] * ind_data['value_permno']"
   ]
  },
  {
   "cell_type": "code",
   "execution_count": 52,
   "id": "709bd90d-2639-4aff-bf92-466e00966135",
   "metadata": {
    "tags": []
   },
   "outputs": [],
   "source": [
    "ind_data['vol_vw'] = ind_data.groupby(['ind', 'date'])['vol_weight'].transform('sum') / ind_data.groupby(['ind', 'date'])['value_permno'].transform('sum')"
   ]
  },
  {
   "cell_type": "code",
   "execution_count": 261,
   "id": "c7d86014-8d27-45e8-9c30-26191be5446e",
   "metadata": {
    "tags": []
   },
   "outputs": [],
   "source": [
    "ind_data['vol_vw_change'] = ind_data.groupby('ind')['vol_vw'].transform(lambda x: (x - x.shift(12)) / x.shift(12))"
   ]
  },
  {
   "cell_type": "markdown",
   "id": "740cc5f1",
   "metadata": {},
   "source": [
    "# Turnover"
   ]
  },
  {
   "cell_type": "code",
   "execution_count": 54,
   "id": "d4a8b993",
   "metadata": {
    "tags": []
   },
   "outputs": [],
   "source": [
    "outstanding = np.where(ind_data['nasdaq'] != 0, 2 * ind_data['out_share'], ind_data['out_share'])\n",
    "ind_data['turnover'] = (ind_data['volume'] * 100) / (outstanding * 1000)"
   ]
  },
  {
   "cell_type": "code",
   "execution_count": 55,
   "id": "f2f2d034",
   "metadata": {
    "tags": []
   },
   "outputs": [],
   "source": [
    "ind_data['turnover_ind_rank'] = ind_data.groupby('ind')['turnover'].rank(pct=True)"
   ]
  },
  {
   "cell_type": "code",
   "execution_count": 56,
   "id": "30cca74f",
   "metadata": {
    "tags": []
   },
   "outputs": [],
   "source": [
    "ind_data['turnover_value'] = ind_data['turnover'] * ind_data['value_permno']"
   ]
  },
  {
   "cell_type": "code",
   "execution_count": 57,
   "id": "3c63f362",
   "metadata": {
    "tags": []
   },
   "outputs": [],
   "source": [
    "ind_data['turnover_vw'] = ind_data.groupby(['ind', 'date'])['turnover_value'].transform('sum') / ind_data.groupby(['ind', 'date'])['value_permno'].transform('sum')"
   ]
  },
  {
   "cell_type": "code",
   "execution_count": 58,
   "id": "b57f5e03",
   "metadata": {
    "tags": []
   },
   "outputs": [],
   "source": [
    "ind_data['turnover_market_rank'] = ind_data.groupby('date')['turnover_vw'].rank(pct=True)"
   ]
  },
  {
   "cell_type": "code",
   "execution_count": 262,
   "id": "d8133f0b-8a52-47fe-b694-84d5b85efa90",
   "metadata": {
    "tags": []
   },
   "outputs": [],
   "source": [
    "ind_data['turnover_vw_change'] = ind_data.groupby('ind')['turnover_vw'].transform(lambda x: (x - x.shift(12)) / x.shift(12))"
   ]
  },
  {
   "cell_type": "markdown",
   "id": "6f4db108",
   "metadata": {},
   "source": [
    "# Age"
   ]
  },
  {
   "cell_type": "code",
   "execution_count": 60,
   "id": "37cbd7eb",
   "metadata": {},
   "outputs": [],
   "source": [
    "first_date = ind_data.reset_index().groupby('permno')['date'].min()\n",
    "ind_data['first_date'] = ind_data.index.get_level_values('permno').map(first_date)\n",
    "ind_data_date = ind_data.index.get_level_values('date')\n",
    "ind_data['age'] = ((ind_data_date.year - ind_data['first_date'].dt.year) * 12 + ind_data_date.month - ind_data['first_date'].dt.month) // 12"
   ]
  },
  {
   "cell_type": "code",
   "execution_count": 61,
   "id": "1e33c85a",
   "metadata": {},
   "outputs": [],
   "source": [
    "ind_data['age_ind_rank'] = ind_data.groupby('date')['age'].rank(pct=True)"
   ]
  },
  {
   "cell_type": "code",
   "execution_count": 62,
   "id": "0df39c0c",
   "metadata": {},
   "outputs": [],
   "source": [
    "ind_data['age_value'] = ind_data['age_ind_rank'] * ind_data['value_permno']"
   ]
  },
  {
   "cell_type": "code",
   "execution_count": 63,
   "id": "f10e3927",
   "metadata": {},
   "outputs": [],
   "source": [
    "ind_data['age_ind'] = ind_data.groupby(['ind', 'date'])['age_value'].transform('sum') / ind_data.groupby(['ind', 'date'])['value_permno'].transform('sum')"
   ]
  },
  {
   "cell_type": "code",
   "execution_count": 64,
   "id": "2582b318",
   "metadata": {},
   "outputs": [],
   "source": [
    "ind_data['age_market_rank'] = ind_data.groupby('date')['age_ind'].rank(pct=True)"
   ]
  },
  {
   "cell_type": "markdown",
   "id": "8c5ef880",
   "metadata": {},
   "source": [
    "# Age Tilt"
   ]
  },
  {
   "cell_type": "code",
   "execution_count": 65,
   "id": "ffb17be8",
   "metadata": {},
   "outputs": [],
   "source": [
    "ind_data['ewr_ind'] = ind_data.groupby(['ind', 'date'])['ret_01'].transform('mean')"
   ]
  },
  {
   "cell_type": "code",
   "execution_count": 66,
   "id": "dd7266f7",
   "metadata": {},
   "outputs": [],
   "source": [
    "ind_data['age_weight'] = ind_data.groupby('ind')['age'].transform(lambda x: x / x.sum())"
   ]
  },
  {
   "cell_type": "code",
   "execution_count": 67,
   "id": "0e49e89d",
   "metadata": {},
   "outputs": [],
   "source": [
    "ind_data['awr_permno'] = ind_data['ret_01'] * ind_data['age_weight']"
   ]
  },
  {
   "cell_type": "code",
   "execution_count": 68,
   "id": "5e213c56",
   "metadata": {},
   "outputs": [],
   "source": [
    "ind_data['awr_ind'] = ind_data.groupby(['ind', 'date'])['awr_permno'].transform('sum')"
   ]
  },
  {
   "cell_type": "code",
   "execution_count": 69,
   "id": "20adcbc0",
   "metadata": {},
   "outputs": [],
   "source": [
    "ind_data['age_tilt'] = ind_data['awr_ind'] - ind_data['ewr_ind']"
   ]
  },
  {
   "cell_type": "markdown",
   "id": "6c3f2a66",
   "metadata": {
    "jp-MarkdownHeadingCollapsed": true,
    "tags": []
   },
   "source": [
    "# Sanity Check"
   ]
  },
  {
   "cell_type": "code",
   "execution_count": 70,
   "id": "22d26ad5",
   "metadata": {},
   "outputs": [],
   "source": [
    "def check(ind, firm):\n",
    "    x = ind.loc['1926-07-31':'2022-12-31']\n",
    "    y = firm.loc['1926-07-31':'2022-12-31']\n",
    "    display(x.head(5))\n",
    "    display(y.head(5))\n",
    "\n",
    "    collect = []\n",
    "    for i in x.columns:\n",
    "        print('-'*60)\n",
    "        print(i)\n",
    "        corr = x[i].corr(y[i])\n",
    "        collect.append(corr)\n",
    "        print(corr)\n",
    "    print('-'*60)\n",
    "    print(f'Total Mean: {sum(collect) / len(collect)}')"
   ]
  },
  {
   "cell_type": "markdown",
   "id": "1da4cd52",
   "metadata": {
    "tags": []
   },
   "source": [
    "### Check Firm Size"
   ]
  },
  {
   "cell_type": "code",
   "execution_count": 74,
   "id": "660229ad",
   "metadata": {},
   "outputs": [],
   "source": [
    "fama_firm = pd.read_csv(root / 'data' / 'fama_firm_49.csv')\n",
    "\n",
    "fama_firm['date'] = pd.to_datetime(fama_firm['date'].astype(str), format='%Y%m').dt.to_period(\"M\").dt.to_timestamp(\"M\")\n",
    "fama_firm.columns = [c.strip() for c in fama_firm.columns]\n",
    "\n",
    "date = fama_firm['date']\n",
    "fama_firm = fama_firm.drop(columns=['date'])\n",
    "fama_firm.columns = [col.lower() for col in fama_firm.columns]\n",
    "# fama_firm = fama_firm.drop(columns=['other'])\n",
    "fama_firm = fama_firm.sort_index(axis=1)\n",
    "fama_firm = pd.concat([date, fama_firm], axis=1).set_index('date')"
   ]
  },
  {
   "cell_type": "code",
   "execution_count": 75,
   "id": "be785038",
   "metadata": {},
   "outputs": [],
   "source": [
    "temp_df = ind_data.reset_index()\n",
    "ind_firm = temp_df.groupby(['date', 'ind']).permno.nunique().unstack()\n",
    "ind_firm = ind_firm.sort_index(axis=1)\n",
    "ind_firm = ind_firm.fillna(0)"
   ]
  },
  {
   "cell_type": "code",
   "execution_count": 76,
   "id": "4b971762",
   "metadata": {
    "scrolled": true,
    "tags": []
   },
   "outputs": [
    {
     "data": {
      "text/html": [
       "<div>\n",
       "<style scoped>\n",
       "    .dataframe tbody tr th:only-of-type {\n",
       "        vertical-align: middle;\n",
       "    }\n",
       "\n",
       "    .dataframe tbody tr th {\n",
       "        vertical-align: top;\n",
       "    }\n",
       "\n",
       "    .dataframe thead th {\n",
       "        text-align: right;\n",
       "    }\n",
       "</style>\n",
       "<table border=\"1\" class=\"dataframe\">\n",
       "  <thead>\n",
       "    <tr style=\"text-align: right;\">\n",
       "      <th>ind</th>\n",
       "      <th>aero</th>\n",
       "      <th>agric</th>\n",
       "      <th>autos</th>\n",
       "      <th>banks</th>\n",
       "      <th>beer</th>\n",
       "      <th>bldmt</th>\n",
       "      <th>books</th>\n",
       "      <th>boxes</th>\n",
       "      <th>bussv</th>\n",
       "      <th>chems</th>\n",
       "      <th>...</th>\n",
       "      <th>smoke</th>\n",
       "      <th>soda</th>\n",
       "      <th>softw</th>\n",
       "      <th>steel</th>\n",
       "      <th>telcm</th>\n",
       "      <th>toys</th>\n",
       "      <th>trans</th>\n",
       "      <th>txtls</th>\n",
       "      <th>util</th>\n",
       "      <th>whlsl</th>\n",
       "    </tr>\n",
       "    <tr>\n",
       "      <th>date</th>\n",
       "      <th></th>\n",
       "      <th></th>\n",
       "      <th></th>\n",
       "      <th></th>\n",
       "      <th></th>\n",
       "      <th></th>\n",
       "      <th></th>\n",
       "      <th></th>\n",
       "      <th></th>\n",
       "      <th></th>\n",
       "      <th></th>\n",
       "      <th></th>\n",
       "      <th></th>\n",
       "      <th></th>\n",
       "      <th></th>\n",
       "      <th></th>\n",
       "      <th></th>\n",
       "      <th></th>\n",
       "      <th></th>\n",
       "      <th></th>\n",
       "      <th></th>\n",
       "    </tr>\n",
       "  </thead>\n",
       "  <tbody>\n",
       "    <tr>\n",
       "      <th>1926-07-31</th>\n",
       "      <td>1.0</td>\n",
       "      <td>2.0</td>\n",
       "      <td>26.0</td>\n",
       "      <td>2.0</td>\n",
       "      <td>2.0</td>\n",
       "      <td>6.0</td>\n",
       "      <td>1.0</td>\n",
       "      <td>5.0</td>\n",
       "      <td>2.0</td>\n",
       "      <td>11.0</td>\n",
       "      <td>...</td>\n",
       "      <td>9.0</td>\n",
       "      <td>0.0</td>\n",
       "      <td>0.0</td>\n",
       "      <td>28.0</td>\n",
       "      <td>3.0</td>\n",
       "      <td>0.0</td>\n",
       "      <td>48.0</td>\n",
       "      <td>7.0</td>\n",
       "      <td>16.0</td>\n",
       "      <td>1.0</td>\n",
       "    </tr>\n",
       "    <tr>\n",
       "      <th>1926-08-31</th>\n",
       "      <td>0.0</td>\n",
       "      <td>2.0</td>\n",
       "      <td>32.0</td>\n",
       "      <td>1.0</td>\n",
       "      <td>3.0</td>\n",
       "      <td>7.0</td>\n",
       "      <td>1.0</td>\n",
       "      <td>5.0</td>\n",
       "      <td>3.0</td>\n",
       "      <td>11.0</td>\n",
       "      <td>...</td>\n",
       "      <td>16.0</td>\n",
       "      <td>0.0</td>\n",
       "      <td>0.0</td>\n",
       "      <td>33.0</td>\n",
       "      <td>2.0</td>\n",
       "      <td>1.0</td>\n",
       "      <td>57.0</td>\n",
       "      <td>8.0</td>\n",
       "      <td>18.0</td>\n",
       "      <td>1.0</td>\n",
       "    </tr>\n",
       "    <tr>\n",
       "      <th>1926-09-30</th>\n",
       "      <td>1.0</td>\n",
       "      <td>2.0</td>\n",
       "      <td>31.0</td>\n",
       "      <td>1.0</td>\n",
       "      <td>2.0</td>\n",
       "      <td>9.0</td>\n",
       "      <td>1.0</td>\n",
       "      <td>5.0</td>\n",
       "      <td>3.0</td>\n",
       "      <td>11.0</td>\n",
       "      <td>...</td>\n",
       "      <td>12.0</td>\n",
       "      <td>0.0</td>\n",
       "      <td>0.0</td>\n",
       "      <td>31.0</td>\n",
       "      <td>3.0</td>\n",
       "      <td>1.0</td>\n",
       "      <td>55.0</td>\n",
       "      <td>8.0</td>\n",
       "      <td>17.0</td>\n",
       "      <td>1.0</td>\n",
       "    </tr>\n",
       "    <tr>\n",
       "      <th>1926-10-31</th>\n",
       "      <td>1.0</td>\n",
       "      <td>0.0</td>\n",
       "      <td>28.0</td>\n",
       "      <td>0.0</td>\n",
       "      <td>2.0</td>\n",
       "      <td>7.0</td>\n",
       "      <td>1.0</td>\n",
       "      <td>5.0</td>\n",
       "      <td>1.0</td>\n",
       "      <td>10.0</td>\n",
       "      <td>...</td>\n",
       "      <td>8.0</td>\n",
       "      <td>0.0</td>\n",
       "      <td>0.0</td>\n",
       "      <td>27.0</td>\n",
       "      <td>1.0</td>\n",
       "      <td>0.0</td>\n",
       "      <td>45.0</td>\n",
       "      <td>8.0</td>\n",
       "      <td>11.0</td>\n",
       "      <td>0.0</td>\n",
       "    </tr>\n",
       "    <tr>\n",
       "      <th>1926-11-30</th>\n",
       "      <td>1.0</td>\n",
       "      <td>3.0</td>\n",
       "      <td>31.0</td>\n",
       "      <td>2.0</td>\n",
       "      <td>3.0</td>\n",
       "      <td>9.0</td>\n",
       "      <td>1.0</td>\n",
       "      <td>5.0</td>\n",
       "      <td>3.0</td>\n",
       "      <td>11.0</td>\n",
       "      <td>...</td>\n",
       "      <td>15.0</td>\n",
       "      <td>0.0</td>\n",
       "      <td>0.0</td>\n",
       "      <td>37.0</td>\n",
       "      <td>2.0</td>\n",
       "      <td>1.0</td>\n",
       "      <td>53.0</td>\n",
       "      <td>8.0</td>\n",
       "      <td>18.0</td>\n",
       "      <td>0.0</td>\n",
       "    </tr>\n",
       "  </tbody>\n",
       "</table>\n",
       "<p>5 rows × 49 columns</p>\n",
       "</div>"
      ],
      "text/plain": [
       "ind         aero  agric  autos  banks  beer  bldmt  books  boxes  bussv  \\\n",
       "date                                                                      \n",
       "1926-07-31   1.0    2.0   26.0    2.0   2.0    6.0    1.0    5.0    2.0   \n",
       "1926-08-31   0.0    2.0   32.0    1.0   3.0    7.0    1.0    5.0    3.0   \n",
       "1926-09-30   1.0    2.0   31.0    1.0   2.0    9.0    1.0    5.0    3.0   \n",
       "1926-10-31   1.0    0.0   28.0    0.0   2.0    7.0    1.0    5.0    1.0   \n",
       "1926-11-30   1.0    3.0   31.0    2.0   3.0    9.0    1.0    5.0    3.0   \n",
       "\n",
       "ind         chems  ...  smoke  soda  softw  steel  telcm  toys  trans  txtls  \\\n",
       "date               ...                                                         \n",
       "1926-07-31   11.0  ...    9.0   0.0    0.0   28.0    3.0   0.0   48.0    7.0   \n",
       "1926-08-31   11.0  ...   16.0   0.0    0.0   33.0    2.0   1.0   57.0    8.0   \n",
       "1926-09-30   11.0  ...   12.0   0.0    0.0   31.0    3.0   1.0   55.0    8.0   \n",
       "1926-10-31   10.0  ...    8.0   0.0    0.0   27.0    1.0   0.0   45.0    8.0   \n",
       "1926-11-30   11.0  ...   15.0   0.0    0.0   37.0    2.0   1.0   53.0    8.0   \n",
       "\n",
       "ind         util  whlsl  \n",
       "date                     \n",
       "1926-07-31  16.0    1.0  \n",
       "1926-08-31  18.0    1.0  \n",
       "1926-09-30  17.0    1.0  \n",
       "1926-10-31  11.0    0.0  \n",
       "1926-11-30  18.0    0.0  \n",
       "\n",
       "[5 rows x 49 columns]"
      ]
     },
     "metadata": {},
     "output_type": "display_data"
    },
    {
     "data": {
      "text/html": [
       "<div>\n",
       "<style scoped>\n",
       "    .dataframe tbody tr th:only-of-type {\n",
       "        vertical-align: middle;\n",
       "    }\n",
       "\n",
       "    .dataframe tbody tr th {\n",
       "        vertical-align: top;\n",
       "    }\n",
       "\n",
       "    .dataframe thead th {\n",
       "        text-align: right;\n",
       "    }\n",
       "</style>\n",
       "<table border=\"1\" class=\"dataframe\">\n",
       "  <thead>\n",
       "    <tr style=\"text-align: right;\">\n",
       "      <th></th>\n",
       "      <th>aero</th>\n",
       "      <th>agric</th>\n",
       "      <th>autos</th>\n",
       "      <th>banks</th>\n",
       "      <th>beer</th>\n",
       "      <th>bldmt</th>\n",
       "      <th>books</th>\n",
       "      <th>boxes</th>\n",
       "      <th>bussv</th>\n",
       "      <th>chems</th>\n",
       "      <th>...</th>\n",
       "      <th>smoke</th>\n",
       "      <th>soda</th>\n",
       "      <th>softw</th>\n",
       "      <th>steel</th>\n",
       "      <th>telcm</th>\n",
       "      <th>toys</th>\n",
       "      <th>trans</th>\n",
       "      <th>txtls</th>\n",
       "      <th>util</th>\n",
       "      <th>whlsl</th>\n",
       "    </tr>\n",
       "    <tr>\n",
       "      <th>date</th>\n",
       "      <th></th>\n",
       "      <th></th>\n",
       "      <th></th>\n",
       "      <th></th>\n",
       "      <th></th>\n",
       "      <th></th>\n",
       "      <th></th>\n",
       "      <th></th>\n",
       "      <th></th>\n",
       "      <th></th>\n",
       "      <th></th>\n",
       "      <th></th>\n",
       "      <th></th>\n",
       "      <th></th>\n",
       "      <th></th>\n",
       "      <th></th>\n",
       "      <th></th>\n",
       "      <th></th>\n",
       "      <th></th>\n",
       "      <th></th>\n",
       "      <th></th>\n",
       "    </tr>\n",
       "  </thead>\n",
       "  <tbody>\n",
       "    <tr>\n",
       "      <th>1926-07-31</th>\n",
       "      <td>1</td>\n",
       "      <td>3</td>\n",
       "      <td>39</td>\n",
       "      <td>3</td>\n",
       "      <td>3</td>\n",
       "      <td>13</td>\n",
       "      <td>1</td>\n",
       "      <td>6</td>\n",
       "      <td>6</td>\n",
       "      <td>17</td>\n",
       "      <td>...</td>\n",
       "      <td>16</td>\n",
       "      <td>0</td>\n",
       "      <td>0</td>\n",
       "      <td>45</td>\n",
       "      <td>5</td>\n",
       "      <td>1</td>\n",
       "      <td>73</td>\n",
       "      <td>14</td>\n",
       "      <td>21</td>\n",
       "      <td>2</td>\n",
       "    </tr>\n",
       "    <tr>\n",
       "      <th>1926-08-31</th>\n",
       "      <td>1</td>\n",
       "      <td>3</td>\n",
       "      <td>39</td>\n",
       "      <td>3</td>\n",
       "      <td>3</td>\n",
       "      <td>13</td>\n",
       "      <td>1</td>\n",
       "      <td>6</td>\n",
       "      <td>6</td>\n",
       "      <td>17</td>\n",
       "      <td>...</td>\n",
       "      <td>16</td>\n",
       "      <td>0</td>\n",
       "      <td>0</td>\n",
       "      <td>45</td>\n",
       "      <td>5</td>\n",
       "      <td>1</td>\n",
       "      <td>73</td>\n",
       "      <td>14</td>\n",
       "      <td>21</td>\n",
       "      <td>2</td>\n",
       "    </tr>\n",
       "    <tr>\n",
       "      <th>1926-09-30</th>\n",
       "      <td>1</td>\n",
       "      <td>3</td>\n",
       "      <td>39</td>\n",
       "      <td>3</td>\n",
       "      <td>3</td>\n",
       "      <td>13</td>\n",
       "      <td>1</td>\n",
       "      <td>6</td>\n",
       "      <td>6</td>\n",
       "      <td>17</td>\n",
       "      <td>...</td>\n",
       "      <td>16</td>\n",
       "      <td>0</td>\n",
       "      <td>0</td>\n",
       "      <td>45</td>\n",
       "      <td>5</td>\n",
       "      <td>1</td>\n",
       "      <td>73</td>\n",
       "      <td>14</td>\n",
       "      <td>21</td>\n",
       "      <td>2</td>\n",
       "    </tr>\n",
       "    <tr>\n",
       "      <th>1926-10-31</th>\n",
       "      <td>1</td>\n",
       "      <td>3</td>\n",
       "      <td>39</td>\n",
       "      <td>3</td>\n",
       "      <td>3</td>\n",
       "      <td>13</td>\n",
       "      <td>1</td>\n",
       "      <td>6</td>\n",
       "      <td>6</td>\n",
       "      <td>17</td>\n",
       "      <td>...</td>\n",
       "      <td>16</td>\n",
       "      <td>0</td>\n",
       "      <td>0</td>\n",
       "      <td>45</td>\n",
       "      <td>5</td>\n",
       "      <td>1</td>\n",
       "      <td>73</td>\n",
       "      <td>14</td>\n",
       "      <td>21</td>\n",
       "      <td>2</td>\n",
       "    </tr>\n",
       "    <tr>\n",
       "      <th>1926-11-30</th>\n",
       "      <td>1</td>\n",
       "      <td>3</td>\n",
       "      <td>39</td>\n",
       "      <td>3</td>\n",
       "      <td>3</td>\n",
       "      <td>13</td>\n",
       "      <td>1</td>\n",
       "      <td>6</td>\n",
       "      <td>6</td>\n",
       "      <td>17</td>\n",
       "      <td>...</td>\n",
       "      <td>16</td>\n",
       "      <td>0</td>\n",
       "      <td>0</td>\n",
       "      <td>45</td>\n",
       "      <td>5</td>\n",
       "      <td>1</td>\n",
       "      <td>73</td>\n",
       "      <td>14</td>\n",
       "      <td>21</td>\n",
       "      <td>2</td>\n",
       "    </tr>\n",
       "  </tbody>\n",
       "</table>\n",
       "<p>5 rows × 49 columns</p>\n",
       "</div>"
      ],
      "text/plain": [
       "            aero  agric  autos  banks  beer  bldmt  books  boxes  bussv  \\\n",
       "date                                                                      \n",
       "1926-07-31     1      3     39      3     3     13      1      6      6   \n",
       "1926-08-31     1      3     39      3     3     13      1      6      6   \n",
       "1926-09-30     1      3     39      3     3     13      1      6      6   \n",
       "1926-10-31     1      3     39      3     3     13      1      6      6   \n",
       "1926-11-30     1      3     39      3     3     13      1      6      6   \n",
       "\n",
       "            chems  ...  smoke  soda  softw  steel  telcm  toys  trans  txtls  \\\n",
       "date               ...                                                         \n",
       "1926-07-31     17  ...     16     0      0     45      5     1     73     14   \n",
       "1926-08-31     17  ...     16     0      0     45      5     1     73     14   \n",
       "1926-09-30     17  ...     16     0      0     45      5     1     73     14   \n",
       "1926-10-31     17  ...     16     0      0     45      5     1     73     14   \n",
       "1926-11-30     17  ...     16     0      0     45      5     1     73     14   \n",
       "\n",
       "            util  whlsl  \n",
       "date                     \n",
       "1926-07-31    21      2  \n",
       "1926-08-31    21      2  \n",
       "1926-09-30    21      2  \n",
       "1926-10-31    21      2  \n",
       "1926-11-30    21      2  \n",
       "\n",
       "[5 rows x 49 columns]"
      ]
     },
     "metadata": {},
     "output_type": "display_data"
    },
    {
     "name": "stdout",
     "output_type": "stream",
     "text": [
      "------------------------------------------------------------\n",
      "aero\n",
      "0.8592032271139333\n",
      "------------------------------------------------------------\n",
      "agric\n",
      "0.6925293047967739\n",
      "------------------------------------------------------------\n",
      "autos\n",
      "0.6229904337080732\n",
      "------------------------------------------------------------\n",
      "banks\n",
      "0.9624542943268741\n",
      "------------------------------------------------------------\n",
      "beer\n",
      "0.5179877095953417\n",
      "------------------------------------------------------------\n",
      "bldmt\n",
      "0.8275950105001748\n",
      "------------------------------------------------------------\n",
      "books\n",
      "0.8486174702698954\n",
      "------------------------------------------------------------\n",
      "boxes\n",
      "0.3861097307003933\n",
      "------------------------------------------------------------\n",
      "bussv\n",
      "0.9022825301571544\n",
      "------------------------------------------------------------\n",
      "chems\n",
      "0.8310206712163204\n",
      "------------------------------------------------------------\n",
      "chips\n",
      "0.9311117355305236\n",
      "------------------------------------------------------------\n",
      "clths\n",
      "0.9148400150438042\n",
      "------------------------------------------------------------\n",
      "cnstr\n",
      "0.9656312372371947\n",
      "------------------------------------------------------------\n",
      "coal\n",
      "0.2525190137808525\n",
      "------------------------------------------------------------\n",
      "drugs\n",
      "0.9927640259605819\n",
      "------------------------------------------------------------\n",
      "elceq\n",
      "0.7054443846479865\n",
      "------------------------------------------------------------\n",
      "fabpr\n",
      "0.9058870133856127\n",
      "------------------------------------------------------------\n",
      "fin\n",
      "0.06288329950493575\n",
      "------------------------------------------------------------\n",
      "food\n",
      "0.701913378534836\n",
      "------------------------------------------------------------\n",
      "fun\n",
      "0.9404102114949063\n",
      "------------------------------------------------------------\n",
      "gold\n",
      "0.4751221962621092\n",
      "------------------------------------------------------------\n",
      "guns\n",
      "0.8962742380722659\n",
      "------------------------------------------------------------\n",
      "hardw\n",
      "0.9358609810039162\n",
      "------------------------------------------------------------\n",
      "hlth\n",
      "0.9567197147672746\n",
      "------------------------------------------------------------\n",
      "hshld\n",
      "0.8169328825546891\n",
      "------------------------------------------------------------\n",
      "insur\n",
      "0.920341760492111\n",
      "------------------------------------------------------------\n",
      "labeq\n",
      "0.9054011669497697\n",
      "------------------------------------------------------------\n",
      "mach\n",
      "0.8928031169570015\n",
      "------------------------------------------------------------\n",
      "meals\n",
      "0.9220044129992375\n",
      "------------------------------------------------------------\n",
      "medeq\n",
      "0.9629237653407344\n",
      "------------------------------------------------------------\n",
      "mines\n",
      "-0.22227245955250452\n",
      "------------------------------------------------------------\n",
      "oil\n",
      "0.6864887824887803\n",
      "------------------------------------------------------------\n",
      "other\n",
      "-0.017137216807129645\n",
      "------------------------------------------------------------\n",
      "paper\n",
      "0.9513357264035094\n",
      "------------------------------------------------------------\n",
      "persv\n",
      "0.8829429635225868\n",
      "------------------------------------------------------------\n",
      "rlest\n",
      "0.7577064297310899\n",
      "------------------------------------------------------------\n",
      "rtail\n",
      "0.8976443197743256\n",
      "------------------------------------------------------------\n",
      "rubbr\n",
      "0.9504778455846684\n",
      "------------------------------------------------------------\n",
      "ships\n",
      "0.7796997053686341\n",
      "------------------------------------------------------------\n",
      "smoke\n",
      "0.8139207481446256\n",
      "------------------------------------------------------------\n",
      "soda\n",
      "0.6035829609612394\n",
      "------------------------------------------------------------\n",
      "softw\n",
      "0.986337964006386\n",
      "------------------------------------------------------------\n",
      "steel\n",
      "0.74780712405527\n",
      "------------------------------------------------------------\n",
      "telcm\n",
      "0.9646598645899959\n",
      "------------------------------------------------------------\n",
      "toys\n",
      "0.9226429652568462\n",
      "------------------------------------------------------------\n",
      "trans\n",
      "0.35543305712308293\n",
      "------------------------------------------------------------\n",
      "txtls\n",
      "0.9128911321998294\n",
      "------------------------------------------------------------\n",
      "util\n",
      "0.938066633794475\n",
      "------------------------------------------------------------\n",
      "whlsl\n",
      "0.9241525861272587\n",
      "------------------------------------------------------------\n",
      "Total Mean: 0.7621420421566991\n"
     ]
    }
   ],
   "source": [
    "check(ind_firm, fama_firm)"
   ]
  },
  {
   "cell_type": "markdown",
   "id": "84048731",
   "metadata": {
    "tags": []
   },
   "source": [
    "### Check VWR"
   ]
  },
  {
   "cell_type": "code",
   "execution_count": 77,
   "id": "5e672018",
   "metadata": {},
   "outputs": [],
   "source": [
    "fama_vwr = pd.read_csv(root / 'data' / 'fama_vwr_49.csv')\n",
    "\n",
    "fama_vwr['date'] = pd.to_datetime(fama_vwr['date'].astype(str), format='%Y%m').dt.to_period(\"M\").dt.to_timestamp(\"M\")\n",
    "fama_vwr.columns = [c.strip() for c in fama_vwr.columns]\n",
    "\n",
    "date = fama_vwr['date']\n",
    "fama_vwr = fama_vwr.drop(columns=['date'])\n",
    "fama_vwr.columns = [col.lower() for col in fama_vwr.columns]\n",
    "# fama_vwr = fama_vwr.drop(columns=['other'])\n",
    "fama_vwr = fama_vwr.sort_index(axis=1)\n",
    "fama_vwr = pd.concat([date, fama_vwr], axis=1).set_index('date')\n",
    "fama_vwr = fama_vwr/100"
   ]
  },
  {
   "cell_type": "code",
   "execution_count": 78,
   "id": "1bdfe207",
   "metadata": {},
   "outputs": [],
   "source": [
    "collect = []\n",
    "for industry, df in ind_data.groupby('ind'):\n",
    "    df = df[['vwr_ind']]\n",
    "    x = df.unstack('permno')\n",
    "    x.columns = x.columns.get_level_values(0)\n",
    "    x = x.reset_index().drop('ind', axis=1).set_index('date')\n",
    "    x[industry] = x.apply(lambda row: row.dropna().iloc[0] if not row.dropna().empty else np.nan, axis=1)\n",
    "    collect.append(x[[industry]])\n",
    "\n",
    "ind_vwr = pd.concat(collect, axis=1)"
   ]
  },
  {
   "cell_type": "code",
   "execution_count": 79,
   "id": "c8f0e7a2",
   "metadata": {
    "scrolled": true,
    "tags": []
   },
   "outputs": [
    {
     "data": {
      "text/html": [
       "<div>\n",
       "<style scoped>\n",
       "    .dataframe tbody tr th:only-of-type {\n",
       "        vertical-align: middle;\n",
       "    }\n",
       "\n",
       "    .dataframe tbody tr th {\n",
       "        vertical-align: top;\n",
       "    }\n",
       "\n",
       "    .dataframe thead th {\n",
       "        text-align: right;\n",
       "    }\n",
       "</style>\n",
       "<table border=\"1\" class=\"dataframe\">\n",
       "  <thead>\n",
       "    <tr style=\"text-align: right;\">\n",
       "      <th></th>\n",
       "      <th>aero</th>\n",
       "      <th>agric</th>\n",
       "      <th>autos</th>\n",
       "      <th>banks</th>\n",
       "      <th>beer</th>\n",
       "      <th>bldmt</th>\n",
       "      <th>books</th>\n",
       "      <th>boxes</th>\n",
       "      <th>bussv</th>\n",
       "      <th>chems</th>\n",
       "      <th>...</th>\n",
       "      <th>smoke</th>\n",
       "      <th>soda</th>\n",
       "      <th>softw</th>\n",
       "      <th>steel</th>\n",
       "      <th>telcm</th>\n",
       "      <th>toys</th>\n",
       "      <th>trans</th>\n",
       "      <th>txtls</th>\n",
       "      <th>util</th>\n",
       "      <th>whlsl</th>\n",
       "    </tr>\n",
       "    <tr>\n",
       "      <th>date</th>\n",
       "      <th></th>\n",
       "      <th></th>\n",
       "      <th></th>\n",
       "      <th></th>\n",
       "      <th></th>\n",
       "      <th></th>\n",
       "      <th></th>\n",
       "      <th></th>\n",
       "      <th></th>\n",
       "      <th></th>\n",
       "      <th></th>\n",
       "      <th></th>\n",
       "      <th></th>\n",
       "      <th></th>\n",
       "      <th></th>\n",
       "      <th></th>\n",
       "      <th></th>\n",
       "      <th></th>\n",
       "      <th></th>\n",
       "      <th></th>\n",
       "      <th></th>\n",
       "    </tr>\n",
       "  </thead>\n",
       "  <tbody>\n",
       "    <tr>\n",
       "      <th>1926-07-31</th>\n",
       "      <td>-0.006536</td>\n",
       "      <td>0.024856</td>\n",
       "      <td>0.185707</td>\n",
       "      <td>0.043323</td>\n",
       "      <td>-0.072445</td>\n",
       "      <td>0.032545</td>\n",
       "      <td>0.502110</td>\n",
       "      <td>0.083014</td>\n",
       "      <td>0.096409</td>\n",
       "      <td>0.091015</td>\n",
       "      <td>...</td>\n",
       "      <td>0.011805</td>\n",
       "      <td>NaN</td>\n",
       "      <td>NaN</td>\n",
       "      <td>0.045815</td>\n",
       "      <td>0.007007</td>\n",
       "      <td>NaN</td>\n",
       "      <td>0.020747</td>\n",
       "      <td>0.036432</td>\n",
       "      <td>0.082441</td>\n",
       "      <td>-0.244635</td>\n",
       "    </tr>\n",
       "    <tr>\n",
       "      <th>1926-08-31</th>\n",
       "      <td>NaN</td>\n",
       "      <td>0.022367</td>\n",
       "      <td>0.054595</td>\n",
       "      <td>-0.022222</td>\n",
       "      <td>0.294248</td>\n",
       "      <td>0.021172</td>\n",
       "      <td>0.429775</td>\n",
       "      <td>-0.002453</td>\n",
       "      <td>0.042146</td>\n",
       "      <td>0.058637</td>\n",
       "      <td>...</td>\n",
       "      <td>0.064730</td>\n",
       "      <td>NaN</td>\n",
       "      <td>NaN</td>\n",
       "      <td>0.021576</td>\n",
       "      <td>0.023897</td>\n",
       "      <td>0.168142</td>\n",
       "      <td>0.048845</td>\n",
       "      <td>0.119273</td>\n",
       "      <td>-0.020150</td>\n",
       "      <td>0.045455</td>\n",
       "    </tr>\n",
       "    <tr>\n",
       "      <th>1926-09-30</th>\n",
       "      <td>-0.070922</td>\n",
       "      <td>-0.003066</td>\n",
       "      <td>0.069146</td>\n",
       "      <td>0.000000</td>\n",
       "      <td>0.018958</td>\n",
       "      <td>0.002223</td>\n",
       "      <td>-0.049116</td>\n",
       "      <td>-0.044321</td>\n",
       "      <td>0.019747</td>\n",
       "      <td>0.057726</td>\n",
       "      <td>...</td>\n",
       "      <td>0.018409</td>\n",
       "      <td>NaN</td>\n",
       "      <td>NaN</td>\n",
       "      <td>0.005860</td>\n",
       "      <td>0.025022</td>\n",
       "      <td>0.083333</td>\n",
       "      <td>0.003330</td>\n",
       "      <td>0.030201</td>\n",
       "      <td>0.022088</td>\n",
       "      <td>-0.097826</td>\n",
       "    </tr>\n",
       "    <tr>\n",
       "      <th>1926-10-31</th>\n",
       "      <td>-0.133588</td>\n",
       "      <td>NaN</td>\n",
       "      <td>-0.079154</td>\n",
       "      <td>NaN</td>\n",
       "      <td>-0.015890</td>\n",
       "      <td>-0.047542</td>\n",
       "      <td>0.053719</td>\n",
       "      <td>-0.047127</td>\n",
       "      <td>0.018248</td>\n",
       "      <td>-0.048075</td>\n",
       "      <td>...</td>\n",
       "      <td>0.005599</td>\n",
       "      <td>NaN</td>\n",
       "      <td>NaN</td>\n",
       "      <td>-0.041145</td>\n",
       "      <td>0.003422</td>\n",
       "      <td>NaN</td>\n",
       "      <td>-0.022763</td>\n",
       "      <td>0.036896</td>\n",
       "      <td>-0.044518</td>\n",
       "      <td>NaN</td>\n",
       "    </tr>\n",
       "    <tr>\n",
       "      <th>1926-11-30</th>\n",
       "      <td>0.066079</td>\n",
       "      <td>0.072399</td>\n",
       "      <td>-0.005564</td>\n",
       "      <td>-0.047324</td>\n",
       "      <td>0.078825</td>\n",
       "      <td>0.023580</td>\n",
       "      <td>-0.064000</td>\n",
       "      <td>0.033669</td>\n",
       "      <td>-0.009527</td>\n",
       "      <td>0.054448</td>\n",
       "      <td>...</td>\n",
       "      <td>0.050534</td>\n",
       "      <td>NaN</td>\n",
       "      <td>NaN</td>\n",
       "      <td>0.044287</td>\n",
       "      <td>0.015501</td>\n",
       "      <td>0.000000</td>\n",
       "      <td>0.018217</td>\n",
       "      <td>0.027934</td>\n",
       "      <td>0.044896</td>\n",
       "      <td>NaN</td>\n",
       "    </tr>\n",
       "  </tbody>\n",
       "</table>\n",
       "<p>5 rows × 49 columns</p>\n",
       "</div>"
      ],
      "text/plain": [
       "                aero     agric     autos     banks      beer     bldmt  \\\n",
       "date                                                                     \n",
       "1926-07-31 -0.006536  0.024856  0.185707  0.043323 -0.072445  0.032545   \n",
       "1926-08-31       NaN  0.022367  0.054595 -0.022222  0.294248  0.021172   \n",
       "1926-09-30 -0.070922 -0.003066  0.069146  0.000000  0.018958  0.002223   \n",
       "1926-10-31 -0.133588       NaN -0.079154       NaN -0.015890 -0.047542   \n",
       "1926-11-30  0.066079  0.072399 -0.005564 -0.047324  0.078825  0.023580   \n",
       "\n",
       "               books     boxes     bussv     chems  ...     smoke  soda  \\\n",
       "date                                                ...                   \n",
       "1926-07-31  0.502110  0.083014  0.096409  0.091015  ...  0.011805   NaN   \n",
       "1926-08-31  0.429775 -0.002453  0.042146  0.058637  ...  0.064730   NaN   \n",
       "1926-09-30 -0.049116 -0.044321  0.019747  0.057726  ...  0.018409   NaN   \n",
       "1926-10-31  0.053719 -0.047127  0.018248 -0.048075  ...  0.005599   NaN   \n",
       "1926-11-30 -0.064000  0.033669 -0.009527  0.054448  ...  0.050534   NaN   \n",
       "\n",
       "            softw     steel     telcm      toys     trans     txtls      util  \\\n",
       "date                                                                            \n",
       "1926-07-31    NaN  0.045815  0.007007       NaN  0.020747  0.036432  0.082441   \n",
       "1926-08-31    NaN  0.021576  0.023897  0.168142  0.048845  0.119273 -0.020150   \n",
       "1926-09-30    NaN  0.005860  0.025022  0.083333  0.003330  0.030201  0.022088   \n",
       "1926-10-31    NaN -0.041145  0.003422       NaN -0.022763  0.036896 -0.044518   \n",
       "1926-11-30    NaN  0.044287  0.015501  0.000000  0.018217  0.027934  0.044896   \n",
       "\n",
       "               whlsl  \n",
       "date                  \n",
       "1926-07-31 -0.244635  \n",
       "1926-08-31  0.045455  \n",
       "1926-09-30 -0.097826  \n",
       "1926-10-31       NaN  \n",
       "1926-11-30       NaN  \n",
       "\n",
       "[5 rows x 49 columns]"
      ]
     },
     "metadata": {},
     "output_type": "display_data"
    },
    {
     "data": {
      "text/html": [
       "<div>\n",
       "<style scoped>\n",
       "    .dataframe tbody tr th:only-of-type {\n",
       "        vertical-align: middle;\n",
       "    }\n",
       "\n",
       "    .dataframe tbody tr th {\n",
       "        vertical-align: top;\n",
       "    }\n",
       "\n",
       "    .dataframe thead th {\n",
       "        text-align: right;\n",
       "    }\n",
       "</style>\n",
       "<table border=\"1\" class=\"dataframe\">\n",
       "  <thead>\n",
       "    <tr style=\"text-align: right;\">\n",
       "      <th></th>\n",
       "      <th>aero</th>\n",
       "      <th>agric</th>\n",
       "      <th>autos</th>\n",
       "      <th>banks</th>\n",
       "      <th>beer</th>\n",
       "      <th>bldmt</th>\n",
       "      <th>books</th>\n",
       "      <th>boxes</th>\n",
       "      <th>bussv</th>\n",
       "      <th>chems</th>\n",
       "      <th>...</th>\n",
       "      <th>smoke</th>\n",
       "      <th>soda</th>\n",
       "      <th>softw</th>\n",
       "      <th>steel</th>\n",
       "      <th>telcm</th>\n",
       "      <th>toys</th>\n",
       "      <th>trans</th>\n",
       "      <th>txtls</th>\n",
       "      <th>util</th>\n",
       "      <th>whlsl</th>\n",
       "    </tr>\n",
       "    <tr>\n",
       "      <th>date</th>\n",
       "      <th></th>\n",
       "      <th></th>\n",
       "      <th></th>\n",
       "      <th></th>\n",
       "      <th></th>\n",
       "      <th></th>\n",
       "      <th></th>\n",
       "      <th></th>\n",
       "      <th></th>\n",
       "      <th></th>\n",
       "      <th></th>\n",
       "      <th></th>\n",
       "      <th></th>\n",
       "      <th></th>\n",
       "      <th></th>\n",
       "      <th></th>\n",
       "      <th></th>\n",
       "      <th></th>\n",
       "      <th></th>\n",
       "      <th></th>\n",
       "      <th></th>\n",
       "    </tr>\n",
       "  </thead>\n",
       "  <tbody>\n",
       "    <tr>\n",
       "      <th>1926-07-31</th>\n",
       "      <td>-0.0065</td>\n",
       "      <td>0.0237</td>\n",
       "      <td>0.1639</td>\n",
       "      <td>0.0461</td>\n",
       "      <td>-0.0519</td>\n",
       "      <td>0.0246</td>\n",
       "      <td>0.5021</td>\n",
       "      <td>0.0770</td>\n",
       "      <td>0.0585</td>\n",
       "      <td>0.0814</td>\n",
       "      <td>...</td>\n",
       "      <td>0.0129</td>\n",
       "      <td>-0.9999</td>\n",
       "      <td>-0.9999</td>\n",
       "      <td>0.0407</td>\n",
       "      <td>0.0083</td>\n",
       "      <td>0.0865</td>\n",
       "      <td>0.0192</td>\n",
       "      <td>0.0039</td>\n",
       "      <td>0.0704</td>\n",
       "      <td>-0.2379</td>\n",
       "    </tr>\n",
       "    <tr>\n",
       "      <th>1926-08-31</th>\n",
       "      <td>-0.0658</td>\n",
       "      <td>0.0223</td>\n",
       "      <td>0.0423</td>\n",
       "      <td>0.1183</td>\n",
       "      <td>0.2703</td>\n",
       "      <td>0.0463</td>\n",
       "      <td>0.4298</td>\n",
       "      <td>-0.0238</td>\n",
       "      <td>0.0151</td>\n",
       "      <td>0.0550</td>\n",
       "      <td>...</td>\n",
       "      <td>0.0650</td>\n",
       "      <td>-0.9999</td>\n",
       "      <td>-0.9999</td>\n",
       "      <td>0.0217</td>\n",
       "      <td>0.0217</td>\n",
       "      <td>0.1681</td>\n",
       "      <td>0.0485</td>\n",
       "      <td>0.0797</td>\n",
       "      <td>-0.0169</td>\n",
       "      <td>0.0539</td>\n",
       "    </tr>\n",
       "    <tr>\n",
       "      <th>1926-09-30</th>\n",
       "      <td>-0.0709</td>\n",
       "      <td>-0.0057</td>\n",
       "      <td>0.0483</td>\n",
       "      <td>-0.0175</td>\n",
       "      <td>0.0402</td>\n",
       "      <td>-0.0011</td>\n",
       "      <td>-0.0491</td>\n",
       "      <td>-0.0554</td>\n",
       "      <td>0.0081</td>\n",
       "      <td>0.0533</td>\n",
       "      <td>...</td>\n",
       "      <td>0.0126</td>\n",
       "      <td>-0.9999</td>\n",
       "      <td>-0.9999</td>\n",
       "      <td>0.0015</td>\n",
       "      <td>0.0241</td>\n",
       "      <td>0.0833</td>\n",
       "      <td>0.0008</td>\n",
       "      <td>0.0230</td>\n",
       "      <td>0.0204</td>\n",
       "      <td>-0.0787</td>\n",
       "    </tr>\n",
       "    <tr>\n",
       "      <th>1926-10-31</th>\n",
       "      <td>-0.1336</td>\n",
       "      <td>-0.0046</td>\n",
       "      <td>-0.0793</td>\n",
       "      <td>-0.1182</td>\n",
       "      <td>-0.0331</td>\n",
       "      <td>-0.0442</td>\n",
       "      <td>0.0537</td>\n",
       "      <td>-0.0508</td>\n",
       "      <td>0.0181</td>\n",
       "      <td>-0.0476</td>\n",
       "      <td>...</td>\n",
       "      <td>0.0106</td>\n",
       "      <td>-0.9999</td>\n",
       "      <td>-0.9999</td>\n",
       "      <td>-0.0385</td>\n",
       "      <td>-0.0011</td>\n",
       "      <td>-0.0140</td>\n",
       "      <td>-0.0262</td>\n",
       "      <td>0.0100</td>\n",
       "      <td>-0.0263</td>\n",
       "      <td>-0.1538</td>\n",
       "    </tr>\n",
       "    <tr>\n",
       "      <th>1926-11-30</th>\n",
       "      <td>0.0661</td>\n",
       "      <td>0.0675</td>\n",
       "      <td>-0.0066</td>\n",
       "      <td>-0.0297</td>\n",
       "      <td>0.0729</td>\n",
       "      <td>0.0220</td>\n",
       "      <td>-0.0640</td>\n",
       "      <td>0.0384</td>\n",
       "      <td>0.0078</td>\n",
       "      <td>0.0520</td>\n",
       "      <td>...</td>\n",
       "      <td>0.0455</td>\n",
       "      <td>-0.9999</td>\n",
       "      <td>-0.9999</td>\n",
       "      <td>0.0386</td>\n",
       "      <td>0.0163</td>\n",
       "      <td>0.0000</td>\n",
       "      <td>0.0161</td>\n",
       "      <td>0.0310</td>\n",
       "      <td>0.0371</td>\n",
       "      <td>0.0467</td>\n",
       "    </tr>\n",
       "  </tbody>\n",
       "</table>\n",
       "<p>5 rows × 49 columns</p>\n",
       "</div>"
      ],
      "text/plain": [
       "              aero   agric   autos   banks    beer   bldmt   books   boxes  \\\n",
       "date                                                                         \n",
       "1926-07-31 -0.0065  0.0237  0.1639  0.0461 -0.0519  0.0246  0.5021  0.0770   \n",
       "1926-08-31 -0.0658  0.0223  0.0423  0.1183  0.2703  0.0463  0.4298 -0.0238   \n",
       "1926-09-30 -0.0709 -0.0057  0.0483 -0.0175  0.0402 -0.0011 -0.0491 -0.0554   \n",
       "1926-10-31 -0.1336 -0.0046 -0.0793 -0.1182 -0.0331 -0.0442  0.0537 -0.0508   \n",
       "1926-11-30  0.0661  0.0675 -0.0066 -0.0297  0.0729  0.0220 -0.0640  0.0384   \n",
       "\n",
       "             bussv   chems  ...   smoke    soda   softw   steel   telcm  \\\n",
       "date                        ...                                           \n",
       "1926-07-31  0.0585  0.0814  ...  0.0129 -0.9999 -0.9999  0.0407  0.0083   \n",
       "1926-08-31  0.0151  0.0550  ...  0.0650 -0.9999 -0.9999  0.0217  0.0217   \n",
       "1926-09-30  0.0081  0.0533  ...  0.0126 -0.9999 -0.9999  0.0015  0.0241   \n",
       "1926-10-31  0.0181 -0.0476  ...  0.0106 -0.9999 -0.9999 -0.0385 -0.0011   \n",
       "1926-11-30  0.0078  0.0520  ...  0.0455 -0.9999 -0.9999  0.0386  0.0163   \n",
       "\n",
       "              toys   trans   txtls    util   whlsl  \n",
       "date                                                \n",
       "1926-07-31  0.0865  0.0192  0.0039  0.0704 -0.2379  \n",
       "1926-08-31  0.1681  0.0485  0.0797 -0.0169  0.0539  \n",
       "1926-09-30  0.0833  0.0008  0.0230  0.0204 -0.0787  \n",
       "1926-10-31 -0.0140 -0.0262  0.0100 -0.0263 -0.1538  \n",
       "1926-11-30  0.0000  0.0161  0.0310  0.0371  0.0467  \n",
       "\n",
       "[5 rows x 49 columns]"
      ]
     },
     "metadata": {},
     "output_type": "display_data"
    },
    {
     "name": "stdout",
     "output_type": "stream",
     "text": [
      "------------------------------------------------------------\n",
      "aero\n",
      "0.9808572733807073\n",
      "------------------------------------------------------------\n",
      "agric\n",
      "0.8872076786051908\n",
      "------------------------------------------------------------\n",
      "autos\n",
      "0.9891062797261275\n",
      "------------------------------------------------------------\n",
      "banks\n",
      "0.9696515824562182\n",
      "------------------------------------------------------------\n",
      "beer\n",
      "0.9482777035669454\n",
      "------------------------------------------------------------\n",
      "bldmt\n",
      "0.9825805083713032\n",
      "------------------------------------------------------------\n",
      "books\n",
      "0.8858977092088641\n",
      "------------------------------------------------------------\n",
      "boxes\n",
      "0.9189585737646672\n",
      "------------------------------------------------------------\n",
      "bussv\n",
      "0.6873797167540927\n",
      "------------------------------------------------------------\n",
      "chems\n",
      "0.9844732176942333\n",
      "------------------------------------------------------------\n",
      "chips\n",
      "0.936004326008616\n",
      "------------------------------------------------------------\n",
      "clths\n",
      "0.8635292451942206\n",
      "------------------------------------------------------------\n",
      "cnstr\n",
      "0.9192663065184348\n",
      "------------------------------------------------------------\n",
      "coal\n",
      "0.8414894951543102\n",
      "------------------------------------------------------------\n",
      "drugs\n",
      "0.9862123290170651\n",
      "------------------------------------------------------------\n",
      "elceq\n",
      "0.9057297911346491\n",
      "------------------------------------------------------------\n",
      "fabpr\n",
      "0.43695473013940395\n",
      "------------------------------------------------------------\n",
      "fin\n",
      "0.9447180360925975\n",
      "------------------------------------------------------------\n",
      "food\n",
      "0.9853147646465076\n",
      "------------------------------------------------------------\n",
      "fun\n",
      "0.965856197994849\n",
      "------------------------------------------------------------\n",
      "gold\n",
      "0.5697379612464512\n",
      "------------------------------------------------------------\n",
      "guns\n",
      "0.399687413918428\n",
      "------------------------------------------------------------\n",
      "hardw\n",
      "0.9344588946430966\n",
      "------------------------------------------------------------\n",
      "hlth\n",
      "0.19138192089518552\n",
      "------------------------------------------------------------\n",
      "hshld\n",
      "0.9733060184884373\n",
      "------------------------------------------------------------\n",
      "insur\n",
      "0.9842560329502655\n",
      "------------------------------------------------------------\n",
      "labeq\n",
      "0.9417925980041204\n",
      "------------------------------------------------------------\n",
      "mach\n",
      "0.9833905360436915\n",
      "------------------------------------------------------------\n",
      "meals\n",
      "0.9541595574247526\n",
      "------------------------------------------------------------\n",
      "medeq\n",
      "0.9208073868488447\n",
      "------------------------------------------------------------\n",
      "mines\n",
      "0.9131684672564748\n",
      "------------------------------------------------------------\n",
      "oil\n",
      "0.9949235009117605\n",
      "------------------------------------------------------------\n",
      "other\n",
      "0.6737612953384416\n",
      "------------------------------------------------------------\n",
      "paper\n",
      "0.9061200178284335\n",
      "------------------------------------------------------------\n",
      "persv\n",
      "0.7922187954992903\n",
      "------------------------------------------------------------\n",
      "rlest\n",
      "0.7872777800825815\n",
      "------------------------------------------------------------\n",
      "rtail\n",
      "0.9830332256666853\n",
      "------------------------------------------------------------\n",
      "rubbr\n",
      "0.5487729833794082\n",
      "------------------------------------------------------------\n",
      "ships\n",
      "0.8548475951787199\n",
      "------------------------------------------------------------\n",
      "smoke\n",
      "0.961737766907087\n",
      "------------------------------------------------------------\n",
      "soda\n",
      "0.3199967587134009\n",
      "------------------------------------------------------------\n",
      "softw\n",
      "0.27738518742233437\n",
      "------------------------------------------------------------\n",
      "steel\n",
      "0.9590509562017517\n",
      "------------------------------------------------------------\n",
      "telcm\n",
      "0.9838157329497271\n",
      "------------------------------------------------------------\n",
      "toys\n",
      "0.8980930571507604\n",
      "------------------------------------------------------------\n",
      "trans\n",
      "0.985022842415204\n",
      "------------------------------------------------------------\n",
      "txtls\n",
      "0.9613217714219477\n",
      "------------------------------------------------------------\n",
      "util\n",
      "0.994117258512384\n",
      "------------------------------------------------------------\n",
      "whlsl\n",
      "0.9139634183934667\n",
      "------------------------------------------------------------\n",
      "Total Mean: 0.8485933101453497\n"
     ]
    }
   ],
   "source": [
    "check(ind_vwr, fama_vwr)"
   ]
  },
  {
   "cell_type": "markdown",
   "id": "d887d973",
   "metadata": {
    "tags": []
   },
   "source": [
    "### Check EWR Size"
   ]
  },
  {
   "cell_type": "code",
   "execution_count": 80,
   "id": "209fdeeb",
   "metadata": {},
   "outputs": [],
   "source": [
    "fama_ewr = pd.read_csv(root / 'data' / 'fama_ewr_49.csv')\n",
    "\n",
    "fama_ewr['date'] = pd.to_datetime(fama_ewr['date'].astype(str), format='%Y%m').dt.to_period(\"M\").dt.to_timestamp(\"M\")\n",
    "fama_ewr.columns = [c.strip() for c in fama_ewr.columns]\n",
    "\n",
    "date = fama_ewr['date']\n",
    "fama_ewr = fama_ewr.drop(columns=['date'])\n",
    "fama_ewr.columns = [col.lower() for col in fama_ewr.columns]\n",
    "# fama_ewr = fama_ewr.drop(columns=['other'])\n",
    "fama_ewr = fama_ewr.sort_index(axis=1)\n",
    "fama_ewr = pd.concat([date, fama_ewr], axis=1).set_index('date')\n",
    "fama_ewr = fama_ewr.replace(-99.99, np.NaN)\n",
    "fama_ewr = fama_ewr/100"
   ]
  },
  {
   "cell_type": "code",
   "execution_count": 81,
   "id": "74642497",
   "metadata": {},
   "outputs": [],
   "source": [
    "collect = []\n",
    "for industry, df in ind_data.groupby('ind'):\n",
    "    df = df[['ewr_ind']]\n",
    "    x = df.unstack('permno')\n",
    "    x.columns = x.columns.get_level_values(0)\n",
    "    x = x.reset_index().drop('ind', axis=1).set_index('date')\n",
    "    x[industry] = x.apply(lambda row: row.dropna().iloc[0] if not row.dropna().empty else np.nan, axis=1)\n",
    "    collect.append(x[[industry]])\n",
    "ind_ewr = pd.concat(collect, axis=1)"
   ]
  },
  {
   "cell_type": "code",
   "execution_count": 82,
   "id": "660445d2",
   "metadata": {
    "tags": []
   },
   "outputs": [
    {
     "data": {
      "text/html": [
       "<div>\n",
       "<style scoped>\n",
       "    .dataframe tbody tr th:only-of-type {\n",
       "        vertical-align: middle;\n",
       "    }\n",
       "\n",
       "    .dataframe tbody tr th {\n",
       "        vertical-align: top;\n",
       "    }\n",
       "\n",
       "    .dataframe thead th {\n",
       "        text-align: right;\n",
       "    }\n",
       "</style>\n",
       "<table border=\"1\" class=\"dataframe\">\n",
       "  <thead>\n",
       "    <tr style=\"text-align: right;\">\n",
       "      <th></th>\n",
       "      <th>aero</th>\n",
       "      <th>agric</th>\n",
       "      <th>autos</th>\n",
       "      <th>banks</th>\n",
       "      <th>beer</th>\n",
       "      <th>bldmt</th>\n",
       "      <th>books</th>\n",
       "      <th>boxes</th>\n",
       "      <th>bussv</th>\n",
       "      <th>chems</th>\n",
       "      <th>...</th>\n",
       "      <th>smoke</th>\n",
       "      <th>soda</th>\n",
       "      <th>softw</th>\n",
       "      <th>steel</th>\n",
       "      <th>telcm</th>\n",
       "      <th>toys</th>\n",
       "      <th>trans</th>\n",
       "      <th>txtls</th>\n",
       "      <th>util</th>\n",
       "      <th>whlsl</th>\n",
       "    </tr>\n",
       "    <tr>\n",
       "      <th>date</th>\n",
       "      <th></th>\n",
       "      <th></th>\n",
       "      <th></th>\n",
       "      <th></th>\n",
       "      <th></th>\n",
       "      <th></th>\n",
       "      <th></th>\n",
       "      <th></th>\n",
       "      <th></th>\n",
       "      <th></th>\n",
       "      <th></th>\n",
       "      <th></th>\n",
       "      <th></th>\n",
       "      <th></th>\n",
       "      <th></th>\n",
       "      <th></th>\n",
       "      <th></th>\n",
       "      <th></th>\n",
       "      <th></th>\n",
       "      <th></th>\n",
       "      <th></th>\n",
       "    </tr>\n",
       "  </thead>\n",
       "  <tbody>\n",
       "    <tr>\n",
       "      <th>1926-07-31</th>\n",
       "      <td>-0.006536</td>\n",
       "      <td>0.039669</td>\n",
       "      <td>0.058629</td>\n",
       "      <td>0.037115</td>\n",
       "      <td>-0.100275</td>\n",
       "      <td>0.048669</td>\n",
       "      <td>0.502110</td>\n",
       "      <td>0.032582</td>\n",
       "      <td>0.097906</td>\n",
       "      <td>-0.002650</td>\n",
       "      <td>...</td>\n",
       "      <td>0.003268</td>\n",
       "      <td>NaN</td>\n",
       "      <td>NaN</td>\n",
       "      <td>0.044377</td>\n",
       "      <td>-0.002705</td>\n",
       "      <td>NaN</td>\n",
       "      <td>-0.003325</td>\n",
       "      <td>-0.000371</td>\n",
       "      <td>0.066942</td>\n",
       "      <td>-0.244635</td>\n",
       "    </tr>\n",
       "    <tr>\n",
       "      <th>1926-08-31</th>\n",
       "      <td>NaN</td>\n",
       "      <td>-0.006629</td>\n",
       "      <td>0.024383</td>\n",
       "      <td>-0.022222</td>\n",
       "      <td>0.192479</td>\n",
       "      <td>-0.017030</td>\n",
       "      <td>0.429775</td>\n",
       "      <td>0.076575</td>\n",
       "      <td>0.052028</td>\n",
       "      <td>0.028269</td>\n",
       "      <td>...</td>\n",
       "      <td>0.053277</td>\n",
       "      <td>NaN</td>\n",
       "      <td>NaN</td>\n",
       "      <td>-0.008985</td>\n",
       "      <td>0.010734</td>\n",
       "      <td>0.168142</td>\n",
       "      <td>0.055467</td>\n",
       "      <td>0.103147</td>\n",
       "      <td>-0.028837</td>\n",
       "      <td>0.045455</td>\n",
       "    </tr>\n",
       "    <tr>\n",
       "      <th>1926-09-30</th>\n",
       "      <td>-0.070922</td>\n",
       "      <td>-0.016705</td>\n",
       "      <td>-0.059333</td>\n",
       "      <td>0.000000</td>\n",
       "      <td>0.006311</td>\n",
       "      <td>-0.010990</td>\n",
       "      <td>-0.049116</td>\n",
       "      <td>-0.050540</td>\n",
       "      <td>-0.008648</td>\n",
       "      <td>0.028197</td>\n",
       "      <td>...</td>\n",
       "      <td>0.035541</td>\n",
       "      <td>NaN</td>\n",
       "      <td>NaN</td>\n",
       "      <td>0.015206</td>\n",
       "      <td>0.012473</td>\n",
       "      <td>0.083333</td>\n",
       "      <td>0.002732</td>\n",
       "      <td>0.016092</td>\n",
       "      <td>0.021243</td>\n",
       "      <td>-0.097826</td>\n",
       "    </tr>\n",
       "    <tr>\n",
       "      <th>1926-10-31</th>\n",
       "      <td>-0.133588</td>\n",
       "      <td>NaN</td>\n",
       "      <td>-0.094565</td>\n",
       "      <td>NaN</td>\n",
       "      <td>-0.034501</td>\n",
       "      <td>-0.078244</td>\n",
       "      <td>0.053719</td>\n",
       "      <td>-0.044089</td>\n",
       "      <td>0.018248</td>\n",
       "      <td>-0.125711</td>\n",
       "      <td>...</td>\n",
       "      <td>-0.022866</td>\n",
       "      <td>NaN</td>\n",
       "      <td>NaN</td>\n",
       "      <td>-0.047656</td>\n",
       "      <td>0.003422</td>\n",
       "      <td>NaN</td>\n",
       "      <td>-0.019099</td>\n",
       "      <td>0.088386</td>\n",
       "      <td>-0.053962</td>\n",
       "      <td>NaN</td>\n",
       "    </tr>\n",
       "    <tr>\n",
       "      <th>1926-11-30</th>\n",
       "      <td>0.066079</td>\n",
       "      <td>-0.085742</td>\n",
       "      <td>-0.018460</td>\n",
       "      <td>-0.076413</td>\n",
       "      <td>0.112923</td>\n",
       "      <td>0.014057</td>\n",
       "      <td>-0.064000</td>\n",
       "      <td>0.022690</td>\n",
       "      <td>-0.010043</td>\n",
       "      <td>0.092443</td>\n",
       "      <td>...</td>\n",
       "      <td>0.108271</td>\n",
       "      <td>NaN</td>\n",
       "      <td>NaN</td>\n",
       "      <td>0.019937</td>\n",
       "      <td>0.007664</td>\n",
       "      <td>0.000000</td>\n",
       "      <td>0.012999</td>\n",
       "      <td>0.032074</td>\n",
       "      <td>0.071533</td>\n",
       "      <td>NaN</td>\n",
       "    </tr>\n",
       "  </tbody>\n",
       "</table>\n",
       "<p>5 rows × 49 columns</p>\n",
       "</div>"
      ],
      "text/plain": [
       "                aero     agric     autos     banks      beer     bldmt  \\\n",
       "date                                                                     \n",
       "1926-07-31 -0.006536  0.039669  0.058629  0.037115 -0.100275  0.048669   \n",
       "1926-08-31       NaN -0.006629  0.024383 -0.022222  0.192479 -0.017030   \n",
       "1926-09-30 -0.070922 -0.016705 -0.059333  0.000000  0.006311 -0.010990   \n",
       "1926-10-31 -0.133588       NaN -0.094565       NaN -0.034501 -0.078244   \n",
       "1926-11-30  0.066079 -0.085742 -0.018460 -0.076413  0.112923  0.014057   \n",
       "\n",
       "               books     boxes     bussv     chems  ...     smoke  soda  \\\n",
       "date                                                ...                   \n",
       "1926-07-31  0.502110  0.032582  0.097906 -0.002650  ...  0.003268   NaN   \n",
       "1926-08-31  0.429775  0.076575  0.052028  0.028269  ...  0.053277   NaN   \n",
       "1926-09-30 -0.049116 -0.050540 -0.008648  0.028197  ...  0.035541   NaN   \n",
       "1926-10-31  0.053719 -0.044089  0.018248 -0.125711  ... -0.022866   NaN   \n",
       "1926-11-30 -0.064000  0.022690 -0.010043  0.092443  ...  0.108271   NaN   \n",
       "\n",
       "            softw     steel     telcm      toys     trans     txtls      util  \\\n",
       "date                                                                            \n",
       "1926-07-31    NaN  0.044377 -0.002705       NaN -0.003325 -0.000371  0.066942   \n",
       "1926-08-31    NaN -0.008985  0.010734  0.168142  0.055467  0.103147 -0.028837   \n",
       "1926-09-30    NaN  0.015206  0.012473  0.083333  0.002732  0.016092  0.021243   \n",
       "1926-10-31    NaN -0.047656  0.003422       NaN -0.019099  0.088386 -0.053962   \n",
       "1926-11-30    NaN  0.019937  0.007664  0.000000  0.012999  0.032074  0.071533   \n",
       "\n",
       "               whlsl  \n",
       "date                  \n",
       "1926-07-31 -0.244635  \n",
       "1926-08-31  0.045455  \n",
       "1926-09-30 -0.097826  \n",
       "1926-10-31       NaN  \n",
       "1926-11-30       NaN  \n",
       "\n",
       "[5 rows x 49 columns]"
      ]
     },
     "metadata": {},
     "output_type": "display_data"
    },
    {
     "data": {
      "text/html": [
       "<div>\n",
       "<style scoped>\n",
       "    .dataframe tbody tr th:only-of-type {\n",
       "        vertical-align: middle;\n",
       "    }\n",
       "\n",
       "    .dataframe tbody tr th {\n",
       "        vertical-align: top;\n",
       "    }\n",
       "\n",
       "    .dataframe thead th {\n",
       "        text-align: right;\n",
       "    }\n",
       "</style>\n",
       "<table border=\"1\" class=\"dataframe\">\n",
       "  <thead>\n",
       "    <tr style=\"text-align: right;\">\n",
       "      <th></th>\n",
       "      <th>aero</th>\n",
       "      <th>agric</th>\n",
       "      <th>autos</th>\n",
       "      <th>banks</th>\n",
       "      <th>beer</th>\n",
       "      <th>bldmt</th>\n",
       "      <th>books</th>\n",
       "      <th>boxes</th>\n",
       "      <th>bussv</th>\n",
       "      <th>chems</th>\n",
       "      <th>...</th>\n",
       "      <th>smoke</th>\n",
       "      <th>soda</th>\n",
       "      <th>softw</th>\n",
       "      <th>steel</th>\n",
       "      <th>telcm</th>\n",
       "      <th>toys</th>\n",
       "      <th>trans</th>\n",
       "      <th>txtls</th>\n",
       "      <th>util</th>\n",
       "      <th>whlsl</th>\n",
       "    </tr>\n",
       "    <tr>\n",
       "      <th>date</th>\n",
       "      <th></th>\n",
       "      <th></th>\n",
       "      <th></th>\n",
       "      <th></th>\n",
       "      <th></th>\n",
       "      <th></th>\n",
       "      <th></th>\n",
       "      <th></th>\n",
       "      <th></th>\n",
       "      <th></th>\n",
       "      <th></th>\n",
       "      <th></th>\n",
       "      <th></th>\n",
       "      <th></th>\n",
       "      <th></th>\n",
       "      <th></th>\n",
       "      <th></th>\n",
       "      <th></th>\n",
       "      <th></th>\n",
       "      <th></th>\n",
       "      <th></th>\n",
       "    </tr>\n",
       "  </thead>\n",
       "  <tbody>\n",
       "    <tr>\n",
       "      <th>1926-07-31</th>\n",
       "      <td>-0.0065</td>\n",
       "      <td>0.0264</td>\n",
       "      <td>0.0306</td>\n",
       "      <td>0.0496</td>\n",
       "      <td>-0.0536</td>\n",
       "      <td>0.0382</td>\n",
       "      <td>0.5021</td>\n",
       "      <td>0.0129</td>\n",
       "      <td>0.0283</td>\n",
       "      <td>0.0101</td>\n",
       "      <td>...</td>\n",
       "      <td>0.0167</td>\n",
       "      <td>NaN</td>\n",
       "      <td>NaN</td>\n",
       "      <td>0.0305</td>\n",
       "      <td>0.0131</td>\n",
       "      <td>0.0865</td>\n",
       "      <td>-0.0079</td>\n",
       "      <td>0.0041</td>\n",
       "      <td>0.0485</td>\n",
       "      <td>-0.2023</td>\n",
       "    </tr>\n",
       "    <tr>\n",
       "      <th>1926-08-31</th>\n",
       "      <td>-0.0658</td>\n",
       "      <td>0.0037</td>\n",
       "      <td>0.0112</td>\n",
       "      <td>0.3423</td>\n",
       "      <td>0.1925</td>\n",
       "      <td>0.0072</td>\n",
       "      <td>0.4298</td>\n",
       "      <td>0.0400</td>\n",
       "      <td>0.0392</td>\n",
       "      <td>0.0302</td>\n",
       "      <td>...</td>\n",
       "      <td>0.0501</td>\n",
       "      <td>NaN</td>\n",
       "      <td>NaN</td>\n",
       "      <td>-0.0058</td>\n",
       "      <td>0.0108</td>\n",
       "      <td>0.1681</td>\n",
       "      <td>0.0503</td>\n",
       "      <td>0.0253</td>\n",
       "      <td>-0.0200</td>\n",
       "      <td>0.0942</td>\n",
       "    </tr>\n",
       "    <tr>\n",
       "      <th>1926-09-30</th>\n",
       "      <td>-0.0709</td>\n",
       "      <td>-0.0315</td>\n",
       "      <td>-0.0486</td>\n",
       "      <td>-0.0125</td>\n",
       "      <td>0.0563</td>\n",
       "      <td>-0.0194</td>\n",
       "      <td>-0.0491</td>\n",
       "      <td>-0.0664</td>\n",
       "      <td>-0.0606</td>\n",
       "      <td>0.0240</td>\n",
       "      <td>...</td>\n",
       "      <td>0.0310</td>\n",
       "      <td>NaN</td>\n",
       "      <td>NaN</td>\n",
       "      <td>0.0228</td>\n",
       "      <td>0.0022</td>\n",
       "      <td>0.0833</td>\n",
       "      <td>0.0000</td>\n",
       "      <td>-0.0380</td>\n",
       "      <td>0.0206</td>\n",
       "      <td>0.0032</td>\n",
       "    </tr>\n",
       "    <tr>\n",
       "      <th>1926-10-31</th>\n",
       "      <td>-0.1336</td>\n",
       "      <td>0.0055</td>\n",
       "      <td>-0.0888</td>\n",
       "      <td>-0.1113</td>\n",
       "      <td>-0.0608</td>\n",
       "      <td>-0.0544</td>\n",
       "      <td>0.0537</td>\n",
       "      <td>-0.0490</td>\n",
       "      <td>-0.0023</td>\n",
       "      <td>-0.0877</td>\n",
       "      <td>...</td>\n",
       "      <td>-0.0163</td>\n",
       "      <td>NaN</td>\n",
       "      <td>NaN</td>\n",
       "      <td>-0.0498</td>\n",
       "      <td>-0.0099</td>\n",
       "      <td>-0.0140</td>\n",
       "      <td>-0.0234</td>\n",
       "      <td>0.0187</td>\n",
       "      <td>-0.0298</td>\n",
       "      <td>-0.0621</td>\n",
       "    </tr>\n",
       "    <tr>\n",
       "      <th>1926-11-30</th>\n",
       "      <td>0.0661</td>\n",
       "      <td>-0.0857</td>\n",
       "      <td>-0.0162</td>\n",
       "      <td>-0.0370</td>\n",
       "      <td>0.1129</td>\n",
       "      <td>0.0126</td>\n",
       "      <td>-0.0640</td>\n",
       "      <td>0.0260</td>\n",
       "      <td>-0.0220</td>\n",
       "      <td>0.0534</td>\n",
       "      <td>...</td>\n",
       "      <td>0.0958</td>\n",
       "      <td>NaN</td>\n",
       "      <td>NaN</td>\n",
       "      <td>0.0181</td>\n",
       "      <td>0.0148</td>\n",
       "      <td>0.0000</td>\n",
       "      <td>0.0042</td>\n",
       "      <td>0.0421</td>\n",
       "      <td>0.0571</td>\n",
       "      <td>-0.0026</td>\n",
       "    </tr>\n",
       "  </tbody>\n",
       "</table>\n",
       "<p>5 rows × 49 columns</p>\n",
       "</div>"
      ],
      "text/plain": [
       "              aero   agric   autos   banks    beer   bldmt   books   boxes  \\\n",
       "date                                                                         \n",
       "1926-07-31 -0.0065  0.0264  0.0306  0.0496 -0.0536  0.0382  0.5021  0.0129   \n",
       "1926-08-31 -0.0658  0.0037  0.0112  0.3423  0.1925  0.0072  0.4298  0.0400   \n",
       "1926-09-30 -0.0709 -0.0315 -0.0486 -0.0125  0.0563 -0.0194 -0.0491 -0.0664   \n",
       "1926-10-31 -0.1336  0.0055 -0.0888 -0.1113 -0.0608 -0.0544  0.0537 -0.0490   \n",
       "1926-11-30  0.0661 -0.0857 -0.0162 -0.0370  0.1129  0.0126 -0.0640  0.0260   \n",
       "\n",
       "             bussv   chems  ...   smoke  soda  softw   steel   telcm    toys  \\\n",
       "date                        ...                                                \n",
       "1926-07-31  0.0283  0.0101  ...  0.0167   NaN    NaN  0.0305  0.0131  0.0865   \n",
       "1926-08-31  0.0392  0.0302  ...  0.0501   NaN    NaN -0.0058  0.0108  0.1681   \n",
       "1926-09-30 -0.0606  0.0240  ...  0.0310   NaN    NaN  0.0228  0.0022  0.0833   \n",
       "1926-10-31 -0.0023 -0.0877  ... -0.0163   NaN    NaN -0.0498 -0.0099 -0.0140   \n",
       "1926-11-30 -0.0220  0.0534  ...  0.0958   NaN    NaN  0.0181  0.0148  0.0000   \n",
       "\n",
       "             trans   txtls    util   whlsl  \n",
       "date                                        \n",
       "1926-07-31 -0.0079  0.0041  0.0485 -0.2023  \n",
       "1926-08-31  0.0503  0.0253 -0.0200  0.0942  \n",
       "1926-09-30  0.0000 -0.0380  0.0206  0.0032  \n",
       "1926-10-31 -0.0234  0.0187 -0.0298 -0.0621  \n",
       "1926-11-30  0.0042  0.0421  0.0571 -0.0026  \n",
       "\n",
       "[5 rows x 49 columns]"
      ]
     },
     "metadata": {},
     "output_type": "display_data"
    },
    {
     "name": "stdout",
     "output_type": "stream",
     "text": [
      "------------------------------------------------------------\n",
      "aero\n",
      "0.9791184513206709\n",
      "------------------------------------------------------------\n",
      "agric\n",
      "0.8915406024472032\n",
      "------------------------------------------------------------\n",
      "autos\n",
      "0.987218411783752\n",
      "------------------------------------------------------------\n",
      "banks\n",
      "0.9565926283946149\n",
      "------------------------------------------------------------\n",
      "beer\n",
      "0.9484743222897212\n",
      "------------------------------------------------------------\n",
      "bldmt\n",
      "0.9848744768960799\n",
      "------------------------------------------------------------\n",
      "books\n",
      "0.8973874492247318\n",
      "------------------------------------------------------------\n",
      "boxes\n",
      "0.9563559399979552\n",
      "------------------------------------------------------------\n",
      "bussv\n",
      "0.9319889095573005\n",
      "------------------------------------------------------------\n",
      "chems\n",
      "0.9838683667687724\n",
      "------------------------------------------------------------\n",
      "chips\n",
      "0.9349423245056742\n",
      "------------------------------------------------------------\n",
      "clths\n",
      "0.939983611606718\n",
      "------------------------------------------------------------\n",
      "cnstr\n",
      "0.9675030923895779\n",
      "------------------------------------------------------------\n",
      "coal\n",
      "0.8885386426099241\n",
      "------------------------------------------------------------\n",
      "drugs\n",
      "0.9758574321791265\n",
      "------------------------------------------------------------\n",
      "elceq\n",
      "0.9742704894736215\n",
      "------------------------------------------------------------\n",
      "fabpr\n",
      "0.8943357840687097\n",
      "------------------------------------------------------------\n",
      "fin\n",
      "0.9413681714334218\n",
      "------------------------------------------------------------\n",
      "food\n",
      "0.9813883992055026\n",
      "------------------------------------------------------------\n",
      "fun\n",
      "0.9679259341711259\n",
      "------------------------------------------------------------\n",
      "gold\n",
      "0.861607717045775\n",
      "------------------------------------------------------------\n",
      "guns\n",
      "0.8586150885841206\n",
      "------------------------------------------------------------\n",
      "hardw\n",
      "0.9705144985868539\n",
      "------------------------------------------------------------\n",
      "hlth\n",
      "0.9349378449803407\n",
      "------------------------------------------------------------\n",
      "hshld\n",
      "0.9785512246549319\n",
      "------------------------------------------------------------\n",
      "insur\n",
      "0.9597464707774412\n",
      "------------------------------------------------------------\n",
      "labeq\n",
      "0.969875713625274\n",
      "------------------------------------------------------------\n",
      "mach\n",
      "0.9896419796627398\n",
      "------------------------------------------------------------\n",
      "meals\n",
      "0.9403501337679434\n",
      "------------------------------------------------------------\n",
      "medeq\n",
      "0.9263937079921474\n",
      "------------------------------------------------------------\n",
      "mines\n",
      "0.9119739584131447\n",
      "------------------------------------------------------------\n",
      "oil\n",
      "0.9845620227515557\n",
      "------------------------------------------------------------\n",
      "other\n",
      "0.6578942419907757\n",
      "------------------------------------------------------------\n",
      "paper\n",
      "0.9940412198213866\n",
      "------------------------------------------------------------\n",
      "persv\n",
      "0.9388862444627639\n",
      "------------------------------------------------------------\n",
      "rlest\n",
      "0.9055174479909266\n",
      "------------------------------------------------------------\n",
      "rtail\n",
      "0.9864064552003179\n",
      "------------------------------------------------------------\n",
      "rubbr\n",
      "0.9639960631191229\n",
      "------------------------------------------------------------\n",
      "ships\n",
      "0.9540426848619642\n",
      "------------------------------------------------------------\n",
      "smoke\n",
      "0.8311927349598291\n",
      "------------------------------------------------------------\n",
      "soda\n",
      "0.7602266707394647\n",
      "------------------------------------------------------------\n",
      "softw\n",
      "0.798871440261669\n",
      "------------------------------------------------------------\n",
      "steel\n",
      "0.987569433630658\n",
      "------------------------------------------------------------\n",
      "telcm\n",
      "0.9667465666498988\n",
      "------------------------------------------------------------\n",
      "toys\n",
      "0.9499528536531154\n",
      "------------------------------------------------------------\n",
      "trans\n",
      "0.9794439748144457\n",
      "------------------------------------------------------------\n",
      "txtls\n",
      "0.9742842231627442\n",
      "------------------------------------------------------------\n",
      "util\n",
      "0.984114618599249\n",
      "------------------------------------------------------------\n",
      "whlsl\n",
      "0.9323218943214417\n",
      "------------------------------------------------------------\n",
      "Total Mean: 0.9354247463144133\n"
     ]
    }
   ],
   "source": [
    "check(ind_ewr, fama_ewr)"
   ]
  },
  {
   "cell_type": "markdown",
   "id": "7cdf611c",
   "metadata": {},
   "source": [
    "# Issuance"
   ]
  },
  {
   "cell_type": "code",
   "execution_count": 83,
   "id": "7b34e007",
   "metadata": {},
   "outputs": [],
   "source": [
    "ind_data['adj_share_pct'] = ind_data.groupby(['ind', 'permno'])['adj_share'].pct_change(periods=12)"
   ]
  },
  {
   "cell_type": "code",
   "execution_count": 84,
   "id": "c2eb405f",
   "metadata": {},
   "outputs": [],
   "source": [
    "ind_data = ind_data.replace([np.inf, -np.inf], np.nan)"
   ]
  },
  {
   "cell_type": "code",
   "execution_count": 85,
   "id": "9d5695b5",
   "metadata": {},
   "outputs": [],
   "source": [
    "ind_data['issued_equity'] = ind_data['adj_share_pct'] >= 0.05"
   ]
  },
  {
   "cell_type": "code",
   "execution_count": 86,
   "id": "26ea1dd6",
   "metadata": {},
   "outputs": [],
   "source": [
    "ind_data['issuance'] = ind_data.groupby(['ind', 'date'])['issued_equity'].transform('mean')"
   ]
  },
  {
   "cell_type": "markdown",
   "id": "95391685",
   "metadata": {},
   "source": [
    "# Book to Market"
   ]
  },
  {
   "cell_type": "markdown",
   "id": "1ba9cca5",
   "metadata": {},
   "source": [
    "### Fama"
   ]
  },
  {
   "cell_type": "code",
   "execution_count": 169,
   "id": "3fa277ee",
   "metadata": {},
   "outputs": [],
   "source": [
    "with open(root / 'data' / 'fama_be.txt', 'r') as file:\n",
    "    lines = file.readlines()\n",
    "    \n",
    "full_text = ''.join(lines)\n",
    "records = re.split(r'(\\d{5} )', full_text)[1:]\n",
    "records = [records[i] + records[i + 1] for i in range(0, len(records), 2)]\n",
    "data = []\n",
    "\n",
    "for record in records:\n",
    "    data.append(record.split())\n",
    "be_pre  = pd.DataFrame(data)"
   ]
  },
  {
   "cell_type": "code",
   "execution_count": 170,
   "id": "a372f2e3",
   "metadata": {},
   "outputs": [],
   "source": [
    "all_rows = []\n",
    "\n",
    "for _, row in be_pre.iterrows():\n",
    "    permno = row[0]\n",
    "    start_date = int(row[1])\n",
    "    end_date = int(row[2])\n",
    "    for year in range(start_date, end_date + 1):\n",
    "        new_row = row.copy()\n",
    "        new_row[1] = year\n",
    "        all_rows.append(new_row)\n",
    "\n",
    "be_pre = pd.DataFrame(all_rows)\n",
    "\n",
    "# Set the multi-index\n",
    "be_pre = be_pre.set_index([0, 1])\n",
    "be_pre.index.names = ['permno', 'date']\n",
    "be_pre = be_pre.drop(2, axis=1)"
   ]
  },
  {
   "cell_type": "code",
   "execution_count": 171,
   "id": "d35c3b50",
   "metadata": {},
   "outputs": [],
   "source": [
    "collect = []\n",
    "for _, df in be_pre.groupby('permno'):\n",
    "    df['btm']=df.values[0][:len(df)]\n",
    "    collect.append(df[['btm']])\n",
    "\n",
    "be_pre = pd.concat(collect, axis = 0)\n",
    "be_pre = be_pre.reset_index().set_index('date')\n",
    "be_pre['permno'] = be_pre['permno'].astype(int)"
   ]
  },
  {
   "cell_type": "code",
   "execution_count": 172,
   "id": "b497b98a-ead5-41b6-8861-4d98af15e594",
   "metadata": {
    "tags": []
   },
   "outputs": [],
   "source": [
    "be_pre['btm'] = be_pre['btm'].astype(float)\n",
    "be_pre['btm'] = be_pre['btm']/100\n",
    "be_pre = be_pre.sort_index()"
   ]
  },
  {
   "cell_type": "code",
   "execution_count": 173,
   "id": "a2241a97-400a-497c-9bf7-46beab56784a",
   "metadata": {
    "tags": []
   },
   "outputs": [],
   "source": [
    "be_pre.loc[be_pre.btm == be_pre.btm.iloc[-1], 'btm'] = np.nan"
   ]
  },
  {
   "cell_type": "code",
   "execution_count": 202,
   "id": "35c08e7c-c06e-4bdf-8c13-c85673f98ddd",
   "metadata": {
    "tags": []
   },
   "outputs": [],
   "source": [
    "be_pre = be_pre.loc['1926':'1960']"
   ]
  },
  {
   "cell_type": "code",
   "execution_count": 203,
   "id": "f0bddc0c-f220-4179-a39b-1ba0a512bb27",
   "metadata": {
    "tags": []
   },
   "outputs": [],
   "source": [
    "be_pre = be_pre.dropna()"
   ]
  },
  {
   "cell_type": "markdown",
   "id": "3a4cc0c6",
   "metadata": {},
   "source": [
    "### CRSP"
   ]
  },
  {
   "cell_type": "code",
   "execution_count": 204,
   "id": "4f3dbc51",
   "metadata": {},
   "outputs": [],
   "source": [
    "be_curr = pd.read_csv(root / 'data' / 'curr_be.csv')"
   ]
  },
  {
   "cell_type": "code",
   "execution_count": 206,
   "id": "2c35b903",
   "metadata": {},
   "outputs": [],
   "source": [
    "be_curr['btm'] = (be_curr['atq']-be_curr['ltq'])/(be_curr['prccq']*be_curr['cshoq'])"
   ]
  },
  {
   "cell_type": "code",
   "execution_count": 207,
   "id": "2a2c4ca1",
   "metadata": {},
   "outputs": [],
   "source": [
    "be_curr = be_curr.rename(columns={'LPERMNO':'permno', 'datadate':'date'})"
   ]
  },
  {
   "cell_type": "code",
   "execution_count": 208,
   "id": "f158d985",
   "metadata": {},
   "outputs": [],
   "source": [
    "be_curr['date'] = pd.to_datetime(be_curr['date'])"
   ]
  },
  {
   "cell_type": "code",
   "execution_count": 209,
   "id": "daf6c75b",
   "metadata": {},
   "outputs": [],
   "source": [
    "be_curr = be_curr.set_index('date')"
   ]
  },
  {
   "cell_type": "code",
   "execution_count": 210,
   "id": "783d7706",
   "metadata": {},
   "outputs": [],
   "source": [
    "be_curr = be_curr[['permno', 'btm']]"
   ]
  },
  {
   "cell_type": "markdown",
   "id": "25588c76",
   "metadata": {},
   "source": [
    "### Combined"
   ]
  },
  {
   "cell_type": "code",
   "execution_count": 211,
   "id": "858cbc91",
   "metadata": {},
   "outputs": [],
   "source": [
    "be_total = pd.concat([be_pre, be_curr], axis=0)"
   ]
  },
  {
   "cell_type": "code",
   "execution_count": 212,
   "id": "a1eb5779",
   "metadata": {},
   "outputs": [],
   "source": [
    "be_total = be_total.reset_index('date').set_index(['permno', 'date'])"
   ]
  },
  {
   "cell_type": "code",
   "execution_count": 213,
   "id": "c34caaaa",
   "metadata": {},
   "outputs": [],
   "source": [
    "be_total = be_total.sort_index(level=['permno', 'date'])"
   ]
  },
  {
   "cell_type": "code",
   "execution_count": 214,
   "id": "967f262e",
   "metadata": {},
   "outputs": [],
   "source": [
    "btm = be_total.reset_index()"
   ]
  },
  {
   "cell_type": "code",
   "execution_count": 215,
   "id": "1b1bf6e7",
   "metadata": {},
   "outputs": [],
   "source": [
    "def convert_date(x):\n",
    "    if len(str(x)) == 4:  # it's just a year\n",
    "        return pd.to_datetime(x, format='%Y')\n",
    "    else:\n",
    "        return pd.to_datetime(x)  # let pandas infer the format\n",
    "\n",
    "btm['date'] = btm['date'].apply(convert_date)"
   ]
  },
  {
   "cell_type": "code",
   "execution_count": 216,
   "id": "e7922cdb",
   "metadata": {},
   "outputs": [],
   "source": [
    "btm = btm.drop_duplicates(subset=['permno', 'date'], keep='first')\n",
    "btm = btm.set_index('date')"
   ]
  },
  {
   "cell_type": "code",
   "execution_count": 217,
   "id": "d347de39",
   "metadata": {},
   "outputs": [],
   "source": [
    "btm = btm.groupby('permno').apply(lambda group: group.resample('M').ffill())\n",
    "btm = btm.drop('permno', axis=1)"
   ]
  },
  {
   "cell_type": "markdown",
   "id": "b1311e74",
   "metadata": {},
   "source": [
    "### Add to ind_data"
   ]
  },
  {
   "cell_type": "code",
   "execution_count": 219,
   "id": "747e9b3f",
   "metadata": {},
   "outputs": [],
   "source": [
    "ind_data = ind_data.reset_index().set_index(['permno', 'date'])"
   ]
  },
  {
   "cell_type": "code",
   "execution_count": 220,
   "id": "0003dbf5",
   "metadata": {},
   "outputs": [],
   "source": [
    "ind_data = pd.merge(ind_data, btm, left_index=True, right_index=True, how='left')"
   ]
  },
  {
   "cell_type": "code",
   "execution_count": 221,
   "id": "9f67eb15",
   "metadata": {},
   "outputs": [],
   "source": [
    "ind_data = ind_data.reset_index()"
   ]
  },
  {
   "cell_type": "code",
   "execution_count": 222,
   "id": "4340b405",
   "metadata": {},
   "outputs": [],
   "source": [
    "ind_data['ind'] = ind_data.groupby('permno')['ind'].ffill()"
   ]
  },
  {
   "cell_type": "code",
   "execution_count": 223,
   "id": "f8ea1e75",
   "metadata": {},
   "outputs": [],
   "source": [
    "ind_data = ind_data.set_index(['ind', 'permno', 'date'])"
   ]
  },
  {
   "cell_type": "code",
   "execution_count": 224,
   "id": "8ae4457c-de7e-4411-b2ac-c0db1eaf5776",
   "metadata": {
    "tags": []
   },
   "outputs": [],
   "source": [
    "ind_data['btm'] = ind_data['btm'].astype(float)"
   ]
  },
  {
   "cell_type": "code",
   "execution_count": 225,
   "id": "a73ccb92-2a03-47a4-b96e-8d03e5498a2d",
   "metadata": {
    "tags": []
   },
   "outputs": [],
   "source": [
    "ind_data['btm_weight'] = ind_data['btm'] * ind_data['value_permno']"
   ]
  },
  {
   "cell_type": "code",
   "execution_count": 226,
   "id": "7e198008-cebd-4080-9789-3dc786a7ead1",
   "metadata": {
    "tags": []
   },
   "outputs": [],
   "source": [
    "ind_data['btm_vwr'] = ind_data.groupby(['ind', 'date'])['btm_weight'].transform('sum') / ind_data.groupby(['ind', 'date'])['value_permno'].transform('sum')"
   ]
  },
  {
   "cell_type": "markdown",
   "id": "6e2cfb68",
   "metadata": {},
   "source": [
    "# Sales Growth"
   ]
  },
  {
   "cell_type": "code",
   "execution_count": 228,
   "id": "97ebb0ed",
   "metadata": {},
   "outputs": [],
   "source": [
    "revenue = pd.read_csv(root / 'data' / 'revenue.csv')"
   ]
  },
  {
   "cell_type": "code",
   "execution_count": 229,
   "id": "64e4cc27",
   "metadata": {},
   "outputs": [],
   "source": [
    "revenue = revenue.rename(columns={'LPERMNO':'permno', 'datadate':'date', 'revt':'revenue'})"
   ]
  },
  {
   "cell_type": "code",
   "execution_count": 230,
   "id": "6b337ca9",
   "metadata": {},
   "outputs": [],
   "source": [
    "revenue = revenue[['permno', 'date', 'revenue']]"
   ]
  },
  {
   "cell_type": "code",
   "execution_count": 231,
   "id": "d0de8eb3",
   "metadata": {},
   "outputs": [],
   "source": [
    "revenue['date'] = pd.to_datetime(revenue['date'])"
   ]
  },
  {
   "cell_type": "code",
   "execution_count": 232,
   "id": "d93f7d58",
   "metadata": {},
   "outputs": [],
   "source": [
    "revenue = revenue.sort_values(by=['permno','date'])"
   ]
  },
  {
   "cell_type": "code",
   "execution_count": 233,
   "id": "b17ae22a",
   "metadata": {},
   "outputs": [],
   "source": [
    "revenue['revenue'] = revenue.groupby('permno')['revenue'].pct_change()"
   ]
  },
  {
   "cell_type": "code",
   "execution_count": 234,
   "id": "a4e0af20",
   "metadata": {},
   "outputs": [],
   "source": [
    "revenue = revenue.set_index('date')"
   ]
  },
  {
   "cell_type": "code",
   "execution_count": 235,
   "id": "97c96a76",
   "metadata": {},
   "outputs": [],
   "source": [
    "revenue = revenue.groupby('permno').apply(lambda group: group.resample('M').ffill())"
   ]
  },
  {
   "cell_type": "code",
   "execution_count": 236,
   "id": "6b080b59",
   "metadata": {},
   "outputs": [],
   "source": [
    "revenue = revenue.drop('permno', axis=1)"
   ]
  },
  {
   "cell_type": "code",
   "execution_count": 237,
   "id": "390e7a14",
   "metadata": {},
   "outputs": [],
   "source": [
    "ind_data = ind_data.reset_index().set_index(['permno', 'date'])"
   ]
  },
  {
   "cell_type": "code",
   "execution_count": 238,
   "id": "d6b7a02d",
   "metadata": {},
   "outputs": [],
   "source": [
    "ind_data = pd.merge(ind_data, revenue, left_index=True, right_index=True, how='left')"
   ]
  },
  {
   "cell_type": "code",
   "execution_count": 239,
   "id": "6a785840",
   "metadata": {},
   "outputs": [],
   "source": [
    "ind_data = ind_data.reset_index().set_index(['ind', 'permno', 'date'])"
   ]
  },
  {
   "cell_type": "code",
   "execution_count": 240,
   "id": "70290cb9",
   "metadata": {},
   "outputs": [],
   "source": [
    "ind_data['revenue_ind_rank'] = ind_data.groupby('ind')['revenue'].rank(pct=True)\n",
    "\n",
    "ind_data['revenue_value'] = ind_data['revenue_ind_rank'] * ind_data['value_permno']\n",
    "\n",
    "ind_data['revenue_ind'] = ind_data.groupby(['ind', 'date'])['revenue_value'].transform('sum') / ind_data.groupby(['ind', 'date'])['value_permno'].transform('sum')\n",
    "\n",
    "ind_data['revenue_market_rank'] = ind_data.groupby('date')['revenue_ind'].rank(pct=True)"
   ]
  },
  {
   "cell_type": "markdown",
   "id": "221c25c7",
   "metadata": {},
   "source": [
    "# CAPE"
   ]
  },
  {
   "cell_type": "code",
   "execution_count": 241,
   "id": "c8798746",
   "metadata": {},
   "outputs": [],
   "source": [
    "cape = pd.read_csv(root / 'data' / 'cape.csv')"
   ]
  },
  {
   "cell_type": "code",
   "execution_count": 242,
   "id": "edcd6a12",
   "metadata": {},
   "outputs": [],
   "source": [
    "series = cape.date"
   ]
  },
  {
   "cell_type": "code",
   "execution_count": 243,
   "id": "e549d407",
   "metadata": {},
   "outputs": [],
   "source": [
    "years = series.astype(int)\n",
    "months = ((series - years) * 100).round().astype(int)\n",
    "datetimes = pd.to_datetime(years.astype(str) + '-' + months.astype(str) + '-01')"
   ]
  },
  {
   "cell_type": "code",
   "execution_count": 244,
   "id": "07aad405",
   "metadata": {},
   "outputs": [],
   "source": [
    "cape['date']=datetimes"
   ]
  },
  {
   "cell_type": "code",
   "execution_count": 245,
   "id": "7e47846a",
   "metadata": {},
   "outputs": [],
   "source": [
    "cape['date'] = cape['date'].dt.to_period(\"M\").dt.to_timestamp(\"M\")"
   ]
  },
  {
   "cell_type": "code",
   "execution_count": 246,
   "id": "cf77a0ea",
   "metadata": {},
   "outputs": [],
   "source": [
    "ind_data = ind_data.reset_index().merge(cape.reset_index(), on='date', how='left').set_index(['ind', 'permno', 'date'])"
   ]
  },
  {
   "cell_type": "markdown",
   "id": "7e7092d5",
   "metadata": {},
   "source": [
    "# Acceleration"
   ]
  },
  {
   "cell_type": "code",
   "execution_count": 247,
   "id": "1b699f50",
   "metadata": {},
   "outputs": [],
   "source": [
    "def calculate_acceleration(data):\n",
    "    data = data.reset_index(level=['ind', 'permno'], drop=True)\n",
    "    data['1t24'] = (data['ret_01'] + 1).rolling(24).apply(np.prod, raw=True) - 1\n",
    "    data['12t24'] = (data['ret_01'] + 1).shift(12).rolling(12).apply(np.prod, raw=True) - 1\n",
    "    data['acc'] = data['1t24'] - data['12t24']\n",
    "    return data"
   ]
  },
  {
   "cell_type": "code",
   "execution_count": 248,
   "id": "2e4bd7a5",
   "metadata": {},
   "outputs": [],
   "source": [
    "ind_data = ind_data.groupby(level=['ind', 'permno']).apply(calculate_acceleration)\n",
    "ind_data = ind_data.sort_index(level=['permno', 'date'])"
   ]
  },
  {
   "cell_type": "markdown",
   "id": "9de4be72-a46c-4e12-8961-fa1195646bd8",
   "metadata": {},
   "source": [
    "# Total Market Return"
   ]
  },
  {
   "cell_type": "code",
   "execution_count": 249,
   "id": "9bf380b9-12be-4e1e-b617-3c39ab3eb319",
   "metadata": {
    "tags": []
   },
   "outputs": [],
   "source": [
    "ind_data['permno_weighted'] = ind_data['value_permno'] * ind_data['ret_01']\n",
    "total_weighted_return = ind_data.groupby('date')['permno_weighted'].transform('sum')\n",
    "total_market_value = ind_data.groupby('date')['value_permno'].transform('sum')\n",
    "ind_data['market_return'] = total_weighted_return / total_market_value"
   ]
  },
  {
   "cell_type": "markdown",
   "id": "a499fb11-ea2c-4605-afe8-6679649f080d",
   "metadata": {},
   "source": [
    "# 2 Year Return"
   ]
  },
  {
   "cell_type": "code",
   "execution_count": 250,
   "id": "63b247bc-d483-4321-b2c0-4e0d9489447c",
   "metadata": {
    "tags": []
   },
   "outputs": [],
   "source": [
    "ind_data['two_vwr_ind'] = ind_data.groupby('ind')['vwr_ind'].rolling(window=24).apply(lambda x: (x + 1).prod() - 1, raw=True).values"
   ]
  },
  {
   "cell_type": "markdown",
   "id": "01332ee2-55f5-4b95-9fec-49fc9a2144aa",
   "metadata": {},
   "source": [
    "# Risk Free Rate"
   ]
  },
  {
   "cell_type": "code",
   "execution_count": 251,
   "id": "90591e19-db47-4589-a3e7-3ea0dc7bf9f7",
   "metadata": {
    "tags": []
   },
   "outputs": [],
   "source": [
    "rf = pd.read_csv(root / 'data' / 'risk_free.csv')"
   ]
  },
  {
   "cell_type": "code",
   "execution_count": 252,
   "id": "eb56ca54-eb38-4d76-b156-ee9aa2691117",
   "metadata": {
    "tags": []
   },
   "outputs": [],
   "source": [
    "rf = rf.drop('KYTREASNOX', axis=1)"
   ]
  },
  {
   "cell_type": "code",
   "execution_count": 253,
   "id": "b71ba54c-4108-4b0e-81a3-0d8b22624211",
   "metadata": {
    "tags": []
   },
   "outputs": [],
   "source": [
    "rf.columns = ['date', 'rf']"
   ]
  },
  {
   "cell_type": "code",
   "execution_count": 254,
   "id": "43ac8866-9c50-4fbf-9394-0b9c7ab7b717",
   "metadata": {
    "tags": []
   },
   "outputs": [],
   "source": [
    "rf['date'] = pd.to_datetime(rf['date'])"
   ]
  },
  {
   "cell_type": "code",
   "execution_count": 255,
   "id": "c17bbb0d-7946-4b2f-88b6-67b98a2ae141",
   "metadata": {
    "tags": []
   },
   "outputs": [],
   "source": [
    "rf = rf.set_index('date')"
   ]
  },
  {
   "cell_type": "code",
   "execution_count": 256,
   "id": "d9f38344-a08b-4e3e-9389-5ac527f7b80f",
   "metadata": {
    "tags": []
   },
   "outputs": [],
   "source": [
    "rf = rf.loc[~rf.index.duplicated(keep='first')]"
   ]
  },
  {
   "cell_type": "code",
   "execution_count": 257,
   "id": "7f0be422-b35d-4ce8-a932-06110c020eac",
   "metadata": {
    "tags": []
   },
   "outputs": [],
   "source": [
    "rf = rf.dropna()"
   ]
  },
  {
   "cell_type": "markdown",
   "id": "6eaceef1",
   "metadata": {},
   "source": [
    "# Retrieving paper predictors"
   ]
  },
  {
   "cell_type": "code",
   "execution_count": 263,
   "id": "18f0c4b0",
   "metadata": {},
   "outputs": [
    {
     "data": {
      "text/plain": [
       "Index(['share_code', 'sic_crsp', 'ticker', 'nasdaq', 'adj_share', 'close',\n",
       "       'volume', 'ret_01', 'out_share', 'sic_comp', 'ind_crsp', 'ind_comp',\n",
       "       'value_permno', 'value_ind', 'vwr_weight', 'vwr_permno', 'vwr_ind',\n",
       "       'vol', 'vol_ind_rank', 'vol_value', 'vol_ind', 'vol_market_rank',\n",
       "       'vol_weight', 'vol_vw', 'turnover', 'turnover_ind_rank',\n",
       "       'turnover_value', 'turnover_vw', 'turnover_market_rank', 'first_date',\n",
       "       'age', 'age_ind_rank', 'age_value', 'age_ind', 'age_market_rank',\n",
       "       'ewr_ind', 'age_weight', 'awr_permno', 'awr_ind', 'age_tilt',\n",
       "       'adj_share_pct', 'issued_equity', 'issuance', 'btm', 'btm_weight',\n",
       "       'btm_vwr', 'revenue', 'revenue_ind_rank', 'revenue_value',\n",
       "       'revenue_ind', 'revenue_market_rank', 'index', 'cape', '1t24', '12t24',\n",
       "       'acc', 'permno_weighted', 'market_return', 'two_vwr_ind',\n",
       "       'vol_vw_change', 'turnover_vw_change'],\n",
       "      dtype='object')"
      ]
     },
     "execution_count": 263,
     "metadata": {},
     "output_type": "execute_result"
    }
   ],
   "source": [
    "ind_data.columns"
   ]
  },
  {
   "cell_type": "code",
   "execution_count": 264,
   "id": "7a8fefe6",
   "metadata": {},
   "outputs": [],
   "source": [
    "final = ind_data.drop(['share_code', 'sic_crsp', 'ticker', 'nasdaq', 'adj_share', 'close', 'volume', 'ret_01', 'out_share',\n",
    "                       'sic_comp', 'ind_crsp', 'ind_comp', 'value_ind', 'value_permno', 'value_ind', 'vwr_weight', \n",
    "                       'vwr_permno', 'vol_ind_rank', 'vol_value', 'vol_ind', 'vol_market_rank',\n",
    "                       'turnover_ind_rank', 'turnover_value', 'btm_weight', 'vol_weight', 'btm',\n",
    "                       'first_date', 'age', 'ewr_ind', 'age_ind_rank', 'age_value', 'age_ind', 'age_weight',\n",
    "                       'awr_permno', 'awr_ind', 'adj_share_pct', 'issued_equity', 'revenue', 'revenue_ind_rank', \n",
    "                       'revenue_value', 'revenue_ind', 'index', '1t24', '12t24', 'vol', 'turnover', 'turnover_market_rank', 'permno_weighted'], axis=1)"
   ]
  },
  {
   "cell_type": "code",
   "execution_count": 265,
   "id": "eab3ca4d",
   "metadata": {
    "tags": []
   },
   "outputs": [
    {
     "data": {
      "text/plain": [
       "Index(['vwr_ind', 'vol_vw', 'turnover_vw', 'age_market_rank', 'age_tilt',\n",
       "       'issuance', 'btm_vwr', 'revenue_market_rank', 'cape', 'acc',\n",
       "       'market_return', 'two_vwr_ind', 'vol_vw_change', 'turnover_vw_change'],\n",
       "      dtype='object')"
      ]
     },
     "execution_count": 265,
     "metadata": {},
     "output_type": "execute_result"
    }
   ],
   "source": [
    "final.columns"
   ]
  },
  {
   "cell_type": "markdown",
   "id": "a4aa0b58-728b-45cb-a4ed-fe21ad5ab25b",
   "metadata": {},
   "source": [
    "# Convert to Date/Ind Pair"
   ]
  },
  {
   "cell_type": "code",
   "execution_count": 266,
   "id": "82fb2fa0-e416-4655-b653-d22fa54f3832",
   "metadata": {
    "tags": []
   },
   "outputs": [],
   "source": [
    "def convert(data, column):\n",
    "    collect = []\n",
    "    for industry, df in data.groupby('ind'):\n",
    "        df = df[[column]]\n",
    "        x = df.unstack('permno')\n",
    "        x.columns = x.columns.get_level_values(0)\n",
    "        x = x.reset_index().drop('ind', axis=1).set_index('date')\n",
    "        x[industry] = x.apply(lambda row: row.dropna().iloc[0] if not row.dropna().empty else np.nan, axis=1)\n",
    "        collect.append(x[[industry]])\n",
    "\n",
    "    data = pd.concat(collect, axis=1)\n",
    "    data = data.stack().to_frame()\n",
    "    data.index.names = ['date', 'ind']\n",
    "    data = data.rename(columns={0:column})\n",
    "\n",
    "    return data"
   ]
  },
  {
   "cell_type": "code",
   "execution_count": 267,
   "id": "9ed21a7e-2963-4fea-84eb-8871c38427e7",
   "metadata": {
    "tags": []
   },
   "outputs": [
    {
     "name": "stdout",
     "output_type": "stream",
     "text": [
      "-----------------------------\n",
      "vwr_ind\n",
      "-----------------------------\n",
      "vol_vw\n",
      "-----------------------------\n",
      "turnover_vw\n",
      "-----------------------------\n",
      "age_market_rank\n",
      "-----------------------------\n",
      "age_tilt\n",
      "-----------------------------\n",
      "issuance\n",
      "-----------------------------\n",
      "btm_vwr\n",
      "-----------------------------\n",
      "revenue_market_rank\n",
      "-----------------------------\n",
      "cape\n",
      "-----------------------------\n",
      "acc\n",
      "-----------------------------\n",
      "market_return\n",
      "-----------------------------\n",
      "two_vwr_ind\n",
      "-----------------------------\n",
      "vol_vw_change\n",
      "-----------------------------\n",
      "turnover_vw_change\n"
     ]
    }
   ],
   "source": [
    "collect = []\n",
    "for col in final.columns:\n",
    "    print('-----------------------------')\n",
    "    print(col)\n",
    "    collect.append(convert(final, col))\n",
    "collect = pd.concat(collect, axis = 1)"
   ]
  },
  {
   "cell_type": "code",
   "execution_count": 268,
   "id": "28ccbb35-43dd-4269-b05a-f5d7864b4d8d",
   "metadata": {
    "tags": []
   },
   "outputs": [],
   "source": [
    "def create_multi_index(data, stock):\n",
    "    all_dates = data.index.repeat(len(stock))\n",
    "    all_stocks = pd.Series(stock * len(data)).values\n",
    "\n",
    "    multi_index = pd.MultiIndex.from_tuples(list(zip(all_dates, all_stocks)), names=['date', 'ind'])\n",
    "    df_multi = pd.DataFrame(data.values.repeat(len(stock), axis=0), index=multi_index, columns=data.columns)\n",
    "    \n",
    "    return df_multi\n",
    "\n",
    "def get_stock_idx(data):\n",
    "    return [stock for stock, df in data.groupby(data.index.names[1], group_keys=False)]"
   ]
  },
  {
   "cell_type": "code",
   "execution_count": 269,
   "id": "e01c1dad-cf0e-4fe1-9ed8-1191be8700b6",
   "metadata": {
    "tags": []
   },
   "outputs": [],
   "source": [
    "risk = create_multi_index(rf, get_stock_idx(collect))"
   ]
  },
  {
   "cell_type": "code",
   "execution_count": 270,
   "id": "5cc6a34a-8ca9-4f62-8328-d601eab16ad4",
   "metadata": {
    "tags": []
   },
   "outputs": [],
   "source": [
    "output = collect.merge(risk, left_index=True, right_index=True, how='left')"
   ]
  },
  {
   "cell_type": "code",
   "execution_count": 271,
   "id": "3624b7bd-3702-470e-a489-b2cfc9513adc",
   "metadata": {
    "tags": []
   },
   "outputs": [],
   "source": [
    "output = output.replace([np.inf, -np.inf], np.nan)"
   ]
  },
  {
   "cell_type": "code",
   "execution_count": 272,
   "id": "f4e582e1-756d-44f2-8678-1646cd67c6ea",
   "metadata": {
    "tags": []
   },
   "outputs": [],
   "source": [
    "output.to_parquet(root / 'data' / 'predictors.parquet.brotli', compression='brotli')"
   ]
  },
  {
   "cell_type": "code",
   "execution_count": null,
   "id": "d6f43b7c-c42d-4fcf-90ec-726a7b7d7dba",
   "metadata": {},
   "outputs": [],
   "source": []
  }
 ],
 "metadata": {
  "kernelspec": {
   "display_name": "bubblefacto",
   "language": "python",
   "name": "bubblefacto"
  },
  "language_info": {
   "codemirror_mode": {
    "name": "ipython",
    "version": 3
   },
   "file_extension": ".py",
   "mimetype": "text/x-python",
   "name": "python",
   "nbconvert_exporter": "python",
   "pygments_lexer": "ipython3",
   "version": "3.10.12"
  }
 },
 "nbformat": 4,
 "nbformat_minor": 5
}
