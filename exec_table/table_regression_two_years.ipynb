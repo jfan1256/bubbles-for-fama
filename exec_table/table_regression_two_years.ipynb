{
 "cells": [
  {
   "cell_type": "code",
   "execution_count": 409,
   "id": "0924e97f-e252-4800-99f3-6d141bd71ef4",
   "metadata": {
    "tags": []
   },
   "outputs": [],
   "source": [
    "import pandas as pd\n",
    "import numpy as np\n",
    "import os\n",
    "import re\n",
    "import pandas_datareader.data as web\n",
    "import matplotlib.pyplot as plt\n",
    "import statsmodels.api as sm\n",
    "import statsmodels.formula.api as smf\n",
    "\n",
    "from linearmodels.system import SUR\n",
    "from pathlib import Path\n",
    "from IPython.display import display\n",
    "from scipy.stats import pearsonr\n",
    "from collections import OrderedDict\n",
    "from sklearn.linear_model import LinearRegression\n",
    "from linearmodels.system.results import WaldTestStatistic\n",
    "\n",
    "\n",
    "import warnings\n",
    "warnings.filterwarnings('ignore')"
   ]
  },
  {
   "cell_type": "code",
   "execution_count": 410,
   "id": "2e77a673-9c6c-4684-bdb8-d261d3a3d4fe",
   "metadata": {
    "tags": []
   },
   "outputs": [],
   "source": [
    "root = Path(os.getcwd())"
   ]
  },
  {
   "cell_type": "code",
   "execution_count": 411,
   "id": "4b37bcd6-b447-4182-ae92-7ccabc728431",
   "metadata": {
    "tags": []
   },
   "outputs": [],
   "source": [
    "def set_timeframe(data, start_date, end_date):\n",
    "    data = data.loc[data.index.get_level_values('date') >= start_date]\n",
    "    data = data.loc[data.index.get_level_values('date') <= end_date]\n",
    "    return data"
   ]
  },
  {
   "cell_type": "code",
   "execution_count": 412,
   "id": "85e453e9-c0fa-40f7-bf2b-06e373e23a12",
   "metadata": {
    "tags": []
   },
   "outputs": [],
   "source": [
    "predictors = pd.read_parquet(root / 'data' / 'predictors.parquet.brotli')"
   ]
  },
  {
   "cell_type": "code",
   "execution_count": 413,
   "id": "7367d4a6-7c42-42f9-9634-0a5434e6c6e0",
   "metadata": {
    "tags": []
   },
   "outputs": [],
   "source": [
    "predictors = set_timeframe(predictors, '1925-01-01', '2022-01-01')"
   ]
  },
  {
   "cell_type": "markdown",
   "id": "9e7c3aa1-d6ce-418b-b5af-5ab3bd4d4c33",
   "metadata": {},
   "source": [
    "# Handling Data"
   ]
  },
  {
   "cell_type": "code",
   "execution_count": 414,
   "id": "26238692-04ac-4671-b56d-f8a54d07ca5b",
   "metadata": {
    "tags": []
   },
   "outputs": [],
   "source": [
    "regression = predictors.copy(deep=True)"
   ]
  },
  {
   "cell_type": "code",
   "execution_count": 415,
   "id": "98d1321e-fb6f-436e-9f34-0979eeb9561b",
   "metadata": {
    "tags": []
   },
   "outputs": [],
   "source": [
    "# regression = regression.dropna(subset = ['two_vwr_ind', 'vol_vw', 'vol_vw_change', 'turnover_vw', \n",
    "#                 'turnover_vw_change', 'age_market_rank', 'age_tilt', 'issuance', 'btm_vwr', \n",
    "#                 'revenue_market_rank', 'cape', 'acc'])\n",
    "regression = regression.fillna(0)"
   ]
  },
  {
   "cell_type": "code",
   "execution_count": 416,
   "id": "0a7c0c90-f2a2-45fb-a2d2-c5c563d1581a",
   "metadata": {
    "tags": []
   },
   "outputs": [],
   "source": [
    "# Bubble dates from paper\n",
    "bubble_date = pd.read_csv(root / 'data' / 'bubbles.csv')\n",
    "bubble_date = bubble_date.applymap(lambda s: s.lower() if type(s) == str else s)\n",
    "bubble_date.date = pd.to_datetime(bubble_date.date)\n",
    "bubble_date.date = bubble_date.date.dt.to_period('M').dt.to_timestamp('M')\n",
    "bubble_date = bubble_date.set_index(['date', 'ind'])"
   ]
  },
  {
   "cell_type": "code",
   "execution_count": 417,
   "id": "9df80cef-0bd8-48ae-898c-b3173305967a",
   "metadata": {
    "tags": []
   },
   "outputs": [],
   "source": [
    "# Add excess returns\n",
    "regression['rf_two_vwr_ind'] = regression['two_vwr_ind'] - regression['rf']/100\n",
    "regression['market_two_vwr_ind'] = regression['two_vwr_ind'] - regression['market_return']"
   ]
  },
  {
   "cell_type": "code",
   "execution_count": 418,
   "id": "e08a11e0-3bfd-461b-a3e6-abf4d5abb966",
   "metadata": {
    "tags": []
   },
   "outputs": [
    {
     "data": {
      "text/plain": [
       "Index(['aero', 'agric', 'autos', 'banks', 'beer', 'bldmt', 'books', 'boxes',\n",
       "       'bussv', 'chems', 'chips', 'clths', 'cnstr', 'coal', 'drugs', 'elceq',\n",
       "       'fin', 'food', 'fun', 'hardw', 'hshld', 'insur', 'labeq', 'mach',\n",
       "       'meals', 'medeq', 'mines', 'oil', 'rlest', 'rtail', 'ships', 'smoke',\n",
       "       'steel', 'telcm', 'trans', 'txtls', 'util', 'whlsl', 'toys', 'persv',\n",
       "       'other', 'paper', 'rubbr', 'gold', 'guns', 'hlth', 'soda', 'softw',\n",
       "       'fabpr'],\n",
       "      dtype='object', name='ind')"
      ]
     },
     "execution_count": 418,
     "metadata": {},
     "output_type": "execute_result"
    }
   ],
   "source": [
    "regression.index.get_level_values(1).unique()"
   ]
  },
  {
   "cell_type": "markdown",
   "id": "3b2e2f37-d998-4b8b-b35d-348582ae6558",
   "metadata": {},
   "source": [
    "# Creating Table 6 (Bubbles for Fama)"
   ]
  },
  {
   "cell_type": "code",
   "execution_count": 419,
   "id": "4702b032-e170-425e-b098-8523161f0138",
   "metadata": {
    "tags": []
   },
   "outputs": [],
   "source": [
    "def get_post_bubble_data(df, date, ind, months=24):\n",
    "    start_date = pd.to_datetime(date)\n",
    "    end_date = start_date + pd.DateOffset(months=months)\n",
    "    mask = (df.index.get_level_values('date') > start_date) & (df.index.get_level_values('date') <= end_date) & (df.index.get_level_values('ind') == ind)\n",
    "    return df[mask]"
   ]
  },
  {
   "cell_type": "code",
   "execution_count": 420,
   "id": "f79bdcb8-d1b6-48b7-bd45-f9fd37571ed5",
   "metadata": {
    "tags": []
   },
   "outputs": [],
   "source": [
    "def set_correct_format(results):\n",
    "    # 2. Extract series data into separate columns for 'b'\n",
    "    df = pd.DataFrame(results)\n",
    "    # Extract the coefficients ('b') and t-values ('t')\n",
    "    df_b = df['b'].apply(pd.Series)\n",
    "    df_t = df['t'].apply(pd.Series)\n",
    "    # Rename columns to indicate they contain coefficients or t-values\n",
    "    df_b.columns = [f\"b_{col}\" for col in df_b.columns]\n",
    "    df_t.columns = [f\"t_{col}\" for col in df_t.columns]\n",
    "    df_final = pd.concat([df.drop(['b', 't'], axis=1), df_b, df_t], axis=1)\n",
    "    # Melt the dataframe for betas\n",
    "    df_melted_b = df_final.melt(id_vars=['ind', 'predictor', 'r'], \n",
    "                          value_vars=[col for col in df_final.columns if col.startswith('b_')],\n",
    "                          var_name='b_type', value_name='b')\n",
    "    df_melted_b_filtered = df_melted_b[df_melted_b['b_type'] == 'b_' + df_melted_b['predictor']]\n",
    "    df_melted_b_filtered = df_melted_b_filtered[['ind', 'predictor', 'r', 'b']]\n",
    "    # Melt the dataframe for t-values\n",
    "    df_melted_t = df_final.melt(id_vars=['ind', 'predictor', 'r'], \n",
    "                                value_vars=[col for col in df_final.columns if col.startswith('t_')],\n",
    "                                var_name='t_type', value_name='t')\n",
    "\n",
    "    df_melted_t_filtered = df_melted_t[df_melted_t['t_type'] == 't_' + df_melted_t['predictor']]\n",
    "    df_melted_t_filtered = df_melted_t_filtered[['ind', 'predictor', 't']]\n",
    "    # Merge the two melted dataframes on 'ind' and 'predictor'\n",
    "    df_combined = pd.merge(df_melted_b_filtered, df_melted_t_filtered, on=['ind', 'predictor'])\n",
    "    df_combined['f'] = df['f'].values\n",
    "    df_combined['p'] = df['p'].values\n",
    "    df_combined = df_combined.set_index(['ind', 'predictor'])\n",
    "    return df_combined"
   ]
  },
  {
   "cell_type": "code",
   "execution_count": 421,
   "id": "149a9c6d-300e-4315-8e96-24d82bd3f18f",
   "metadata": {},
   "outputs": [],
   "source": [
    "def run_regression(data, X, y, cluster):\n",
    "    total = []\n",
    "    for ind, df in data.groupby('ind'):\n",
    "        results = []\n",
    "        for predictor in X:\n",
    "            # OLS\n",
    "            X_val = df[[predictor]]\n",
    "            y_val = df[[y]]\n",
    "            X_val = sm.add_constant(X_val)\n",
    "\n",
    "            # Fit model with robust standard errors clustered by calendar year\n",
    "            model_year_clustered = sm.OLS(y_val, X_val).fit(cov_type='cluster', cov_kwds={'groups': df[cluster]})\n",
    "\n",
    "            # Metrics\n",
    "            results.append({\n",
    "                'ind': ind,\n",
    "                'predictor': predictor,\n",
    "                'b': model_year_clustered.params,\n",
    "                't': model_year_clustered.tvalues,\n",
    "                'r': model_year_clustered.rsquared,\n",
    "                'f': model_year_clustered.fvalue,\n",
    "                'p': model_year_clustered.f_pvalue\n",
    "            })\n",
    "        total.append(set_correct_format(results))\n",
    "    total = pd.concat(total, axis=0)\n",
    "    return total"
   ]
  },
  {
   "cell_type": "markdown",
   "id": "27ba469f-0c2d-47ca-b354-b4709981a1b9",
   "metadata": {},
   "source": [
    "### Regression"
   ]
  },
  {
   "cell_type": "code",
   "execution_count": 422,
   "id": "be75650e-55d2-4a62-b603-52bd4f900704",
   "metadata": {
    "tags": []
   },
   "outputs": [],
   "source": [
    "two_regression = pd.concat([get_post_bubble_data(regression, date, ind) for date, ind in bubble_date.index.tolist()])\n",
    "two_regression['Year'] = two_regression.index.get_level_values('date').year"
   ]
  },
  {
   "cell_type": "code",
   "execution_count": 423,
   "id": "26073bc1-5b22-4cc0-8f45-3e887b1b7fc7",
   "metadata": {
    "tags": []
   },
   "outputs": [],
   "source": [
    "characteristics = ['vol_vw', 'vol_vw_change', 'turnover_vw', 'turnover_vw_change', 'age_market_rank', 'age_tilt', 'issuance', 'btm_vwr', 'revenue_market_rank', 'cape', 'acc']"
   ]
  },
  {
   "cell_type": "code",
   "execution_count": 424,
   "id": "14db5793-447d-466b-bd71-0231f47a80d1",
   "metadata": {
    "tags": []
   },
   "outputs": [],
   "source": [
    "raw_regress = run_regression(two_regression, characteristics, 'two_vwr_ind', 'Year')\n",
    "market_regress = run_regression(two_regression, characteristics, 'market_two_vwr_ind', 'Year')\n",
    "rf_regress = run_regression(two_regression, characteristics, 'rf_two_vwr_ind', 'Year')"
   ]
  },
  {
   "cell_type": "markdown",
   "id": "709bf35c-ca01-48a4-bf00-c37e3c31c4f1",
   "metadata": {},
   "source": [
    "### Table"
   ]
  },
  {
   "cell_type": "code",
   "execution_count": 425,
   "id": "735018e4-de12-47dc-bc23-8332e65b668c",
   "metadata": {
    "tags": []
   },
   "outputs": [],
   "source": [
    "def collect_stats(formater, data, col_name):\n",
    "    table_format = formater\n",
    "    collect_r = []\n",
    "    collect_b = [] \n",
    "    collect_t = []\n",
    "    collect_f = []\n",
    "    collect_p = []\n",
    "    for _, df in data.groupby('predictor'):\n",
    "        collect_r.append(df.r.mean())\n",
    "        collect_b.append(df.b.mean())\n",
    "        collect_t.append(df.t.mean())\n",
    "        collect_f.append(df.f.mean())\n",
    "        collect_p.append(df.p.mean())\n",
    "    table_format[f'{col_name} b'] = collect_b\n",
    "    table_format[f'{col_name} [t]'] = collect_t\n",
    "    table_format[f'{col_name} R-squre'] = collect_r\n",
    "    return table_format, np.array(collect_f).mean(), np.array(collect_p).mean()"
   ]
  },
  {
   "cell_type": "code",
   "execution_count": 426,
   "id": "a46b42f6-abf1-46a6-a0e3-8e771ccdc755",
   "metadata": {
    "tags": []
   },
   "outputs": [],
   "source": [
    "format_table6 = pd.DataFrame(index=['Volatility (VW)', 'Volatility (VW)- 1yr-Δ', 'Turnover (VW)',\n",
    "                             'Turnover (VW)- 1yr-Δ', 'Firm Age (VW)', 'Age tilt', ' % Issuers', 'Book to Market (VW)', 'Sales Growth',\n",
    "                             'CAPE', 'Acceleration'])\n",
    "format_rf_table6 = pd.DataFrame(index=['Volatility (VW)', 'Volatility (VW)- 1yr-Δ', 'Turnover (VW)',\n",
    "                             'Turnover (VW)- 1yr-Δ', 'Firm Age (VW)', 'Age tilt', ' % Issuers', 'Book to Market (VW)', 'Sales Growth',\n",
    "                             'CAPE', 'Acceleration'])\n",
    "format_market_table6 = pd.DataFrame(index=['Volatility (VW)', 'Volatility (VW)- 1yr-Δ', 'Turnover (VW)',\n",
    "                             'Turnover (VW)- 1yr-Δ', 'Firm Age (VW)', 'Age tilt', ' % Issuers', 'Book to Market (VW)', 'Sales Growth',\n",
    "                             'CAPE', 'Acceleration'])"
   ]
  },
  {
   "cell_type": "code",
   "execution_count": 427,
   "id": "e178e3ea-8e0a-4404-98a9-19739e4617d0",
   "metadata": {},
   "outputs": [],
   "source": [
    "raw = collect_stats(format_table6, raw_regress, '24mo Raw Return')\n",
    "market = collect_stats(format_market_table6, market_regress, '24mo Net of Market Return')\n",
    "rf = collect_stats(format_rf_table6, rf_regress, '24mo Net of Risk-Free Return')"
   ]
  },
  {
   "cell_type": "code",
   "execution_count": 428,
   "id": "5036f53c-8519-44e2-a8e1-9c5e4bf3e311",
   "metadata": {
    "tags": []
   },
   "outputs": [],
   "source": [
    "table6 = pd.concat([raw[0], rf[0], market[0]], axis=1)"
   ]
  },
  {
   "cell_type": "code",
   "execution_count": 429,
   "id": "5b5d9495-b845-4af7-84f2-147b2c54c09e",
   "metadata": {
    "tags": []
   },
   "outputs": [],
   "source": [
    "table6.loc['Joint F-stat'] = [np.nan, raw[1], np.nan, np.nan, rf[1], np.nan, np.nan, market[1], np.nan]"
   ]
  },
  {
   "cell_type": "code",
   "execution_count": 430,
   "id": "d783d92f-fa98-4afc-b280-3cb43374cb24",
   "metadata": {
    "tags": []
   },
   "outputs": [],
   "source": [
    "table6.loc['p-value (Prob>F)'] = [np.nan, raw[2], np.nan, np.nan, rf[2], np.nan, np.nan, market[2], np.nan]"
   ]
  },
  {
   "cell_type": "code",
   "execution_count": 431,
   "id": "b1af524d-f3e7-48d7-80a8-999ee23a2cb7",
   "metadata": {
    "tags": []
   },
   "outputs": [
    {
     "data": {
      "text/html": [
       "<div>\n",
       "<style scoped>\n",
       "    .dataframe tbody tr th:only-of-type {\n",
       "        vertical-align: middle;\n",
       "    }\n",
       "\n",
       "    .dataframe tbody tr th {\n",
       "        vertical-align: top;\n",
       "    }\n",
       "\n",
       "    .dataframe thead th {\n",
       "        text-align: right;\n",
       "    }\n",
       "</style>\n",
       "<table border=\"1\" class=\"dataframe\">\n",
       "  <thead>\n",
       "    <tr style=\"text-align: right;\">\n",
       "      <th></th>\n",
       "      <th>24mo Raw Return b</th>\n",
       "      <th>24mo Raw Return [t]</th>\n",
       "      <th>24mo Raw Return R-squre</th>\n",
       "      <th>24mo Net of Risk-Free Return b</th>\n",
       "      <th>24mo Net of Risk-Free Return [t]</th>\n",
       "      <th>24mo Net of Risk-Free Return R-squre</th>\n",
       "      <th>24mo Net of Market Return b</th>\n",
       "      <th>24mo Net of Market Return [t]</th>\n",
       "      <th>24mo Net of Market Return R-squre</th>\n",
       "    </tr>\n",
       "  </thead>\n",
       "  <tbody>\n",
       "    <tr>\n",
       "      <th>Volatility (VW)</th>\n",
       "      <td>-0.103312</td>\n",
       "      <td>0.596260</td>\n",
       "      <td>0.196474</td>\n",
       "      <td>-0.101342</td>\n",
       "      <td>0.054068</td>\n",
       "      <td>0.195106</td>\n",
       "      <td>-0.119827</td>\n",
       "      <td>-0.414202</td>\n",
       "      <td>0.184523</td>\n",
       "    </tr>\n",
       "    <tr>\n",
       "      <th>Volatility (VW)- 1yr-Δ</th>\n",
       "      <td>-0.201098</td>\n",
       "      <td>0.179232</td>\n",
       "      <td>0.123896</td>\n",
       "      <td>-0.137598</td>\n",
       "      <td>0.326902</td>\n",
       "      <td>0.122033</td>\n",
       "      <td>-0.205750</td>\n",
       "      <td>0.234766</td>\n",
       "      <td>0.119763</td>\n",
       "    </tr>\n",
       "    <tr>\n",
       "      <th>Turnover (VW)</th>\n",
       "      <td>-0.115808</td>\n",
       "      <td>-0.277043</td>\n",
       "      <td>0.033371</td>\n",
       "      <td>-0.141245</td>\n",
       "      <td>-0.480443</td>\n",
       "      <td>0.034097</td>\n",
       "      <td>0.344415</td>\n",
       "      <td>1.313369</td>\n",
       "      <td>0.081559</td>\n",
       "    </tr>\n",
       "    <tr>\n",
       "      <th>Turnover (VW)- 1yr-Δ</th>\n",
       "      <td>-5.871932</td>\n",
       "      <td>-0.080305</td>\n",
       "      <td>0.154782</td>\n",
       "      <td>-5.673904</td>\n",
       "      <td>-0.083671</td>\n",
       "      <td>0.154218</td>\n",
       "      <td>-6.492529</td>\n",
       "      <td>-0.040475</td>\n",
       "      <td>0.149865</td>\n",
       "    </tr>\n",
       "    <tr>\n",
       "      <th>Firm Age (VW)</th>\n",
       "      <td>-0.025852</td>\n",
       "      <td>0.077261</td>\n",
       "      <td>0.172480</td>\n",
       "      <td>-0.025719</td>\n",
       "      <td>0.072910</td>\n",
       "      <td>0.174742</td>\n",
       "      <td>-0.028581</td>\n",
       "      <td>-0.036519</td>\n",
       "      <td>0.171717</td>\n",
       "    </tr>\n",
       "    <tr>\n",
       "      <th>Age tilt</th>\n",
       "      <td>0.735998</td>\n",
       "      <td>0.241237</td>\n",
       "      <td>0.070178</td>\n",
       "      <td>0.602944</td>\n",
       "      <td>0.263706</td>\n",
       "      <td>0.071335</td>\n",
       "      <td>0.932078</td>\n",
       "      <td>0.350379</td>\n",
       "      <td>0.073964</td>\n",
       "    </tr>\n",
       "    <tr>\n",
       "      <th>% Issuers</th>\n",
       "      <td>-34.527619</td>\n",
       "      <td>2.324183</td>\n",
       "      <td>0.166573</td>\n",
       "      <td>-28.936120</td>\n",
       "      <td>1.462805</td>\n",
       "      <td>0.162907</td>\n",
       "      <td>-61.969386</td>\n",
       "      <td>0.688232</td>\n",
       "      <td>0.164499</td>\n",
       "    </tr>\n",
       "    <tr>\n",
       "      <th>Book to Market (VW)</th>\n",
       "      <td>4.834279</td>\n",
       "      <td>1.601774</td>\n",
       "      <td>0.102323</td>\n",
       "      <td>4.585709</td>\n",
       "      <td>1.596660</td>\n",
       "      <td>0.096639</td>\n",
       "      <td>4.418338</td>\n",
       "      <td>0.901321</td>\n",
       "      <td>0.098926</td>\n",
       "    </tr>\n",
       "    <tr>\n",
       "      <th>Sales Growth</th>\n",
       "      <td>-0.010108</td>\n",
       "      <td>1.301764</td>\n",
       "      <td>0.066097</td>\n",
       "      <td>-0.015034</td>\n",
       "      <td>0.822713</td>\n",
       "      <td>0.063114</td>\n",
       "      <td>-0.011039</td>\n",
       "      <td>0.507633</td>\n",
       "      <td>0.066913</td>\n",
       "    </tr>\n",
       "    <tr>\n",
       "      <th>CAPE</th>\n",
       "      <td>-0.514543</td>\n",
       "      <td>0.262101</td>\n",
       "      <td>0.057732</td>\n",
       "      <td>-0.816130</td>\n",
       "      <td>0.184082</td>\n",
       "      <td>0.056112</td>\n",
       "      <td>0.449751</td>\n",
       "      <td>0.789154</td>\n",
       "      <td>0.066926</td>\n",
       "    </tr>\n",
       "    <tr>\n",
       "      <th>Acceleration</th>\n",
       "      <td>-0.037935</td>\n",
       "      <td>-0.213331</td>\n",
       "      <td>0.055183</td>\n",
       "      <td>-0.040347</td>\n",
       "      <td>-0.268085</td>\n",
       "      <td>0.054622</td>\n",
       "      <td>-0.026095</td>\n",
       "      <td>0.277684</td>\n",
       "      <td>0.066045</td>\n",
       "    </tr>\n",
       "    <tr>\n",
       "      <th>Joint F-stat</th>\n",
       "      <td>NaN</td>\n",
       "      <td>25.981521</td>\n",
       "      <td>NaN</td>\n",
       "      <td>NaN</td>\n",
       "      <td>14.898803</td>\n",
       "      <td>NaN</td>\n",
       "      <td>NaN</td>\n",
       "      <td>8.957632</td>\n",
       "      <td>NaN</td>\n",
       "    </tr>\n",
       "    <tr>\n",
       "      <th>p-value (Prob&gt;F)</th>\n",
       "      <td>NaN</td>\n",
       "      <td>0.367477</td>\n",
       "      <td>NaN</td>\n",
       "      <td>NaN</td>\n",
       "      <td>0.372759</td>\n",
       "      <td>NaN</td>\n",
       "      <td>NaN</td>\n",
       "      <td>0.347537</td>\n",
       "      <td>NaN</td>\n",
       "    </tr>\n",
       "  </tbody>\n",
       "</table>\n",
       "</div>"
      ],
      "text/plain": [
       "                        24mo Raw Return b  24mo Raw Return [t]  \\\n",
       "Volatility (VW)                 -0.103312             0.596260   \n",
       "Volatility (VW)- 1yr-Δ          -0.201098             0.179232   \n",
       "Turnover (VW)                   -0.115808            -0.277043   \n",
       "Turnover (VW)- 1yr-Δ            -5.871932            -0.080305   \n",
       "Firm Age (VW)                   -0.025852             0.077261   \n",
       "Age tilt                         0.735998             0.241237   \n",
       " % Issuers                     -34.527619             2.324183   \n",
       "Book to Market (VW)              4.834279             1.601774   \n",
       "Sales Growth                    -0.010108             1.301764   \n",
       "CAPE                            -0.514543             0.262101   \n",
       "Acceleration                    -0.037935            -0.213331   \n",
       "Joint F-stat                          NaN            25.981521   \n",
       "p-value (Prob>F)                      NaN             0.367477   \n",
       "\n",
       "                        24mo Raw Return R-squre  \\\n",
       "Volatility (VW)                        0.196474   \n",
       "Volatility (VW)- 1yr-Δ                 0.123896   \n",
       "Turnover (VW)                          0.033371   \n",
       "Turnover (VW)- 1yr-Δ                   0.154782   \n",
       "Firm Age (VW)                          0.172480   \n",
       "Age tilt                               0.070178   \n",
       " % Issuers                             0.166573   \n",
       "Book to Market (VW)                    0.102323   \n",
       "Sales Growth                           0.066097   \n",
       "CAPE                                   0.057732   \n",
       "Acceleration                           0.055183   \n",
       "Joint F-stat                                NaN   \n",
       "p-value (Prob>F)                            NaN   \n",
       "\n",
       "                        24mo Net of Risk-Free Return b  \\\n",
       "Volatility (VW)                              -0.101342   \n",
       "Volatility (VW)- 1yr-Δ                       -0.137598   \n",
       "Turnover (VW)                                -0.141245   \n",
       "Turnover (VW)- 1yr-Δ                         -5.673904   \n",
       "Firm Age (VW)                                -0.025719   \n",
       "Age tilt                                      0.602944   \n",
       " % Issuers                                  -28.936120   \n",
       "Book to Market (VW)                           4.585709   \n",
       "Sales Growth                                 -0.015034   \n",
       "CAPE                                         -0.816130   \n",
       "Acceleration                                 -0.040347   \n",
       "Joint F-stat                                       NaN   \n",
       "p-value (Prob>F)                                   NaN   \n",
       "\n",
       "                        24mo Net of Risk-Free Return [t]  \\\n",
       "Volatility (VW)                                 0.054068   \n",
       "Volatility (VW)- 1yr-Δ                          0.326902   \n",
       "Turnover (VW)                                  -0.480443   \n",
       "Turnover (VW)- 1yr-Δ                           -0.083671   \n",
       "Firm Age (VW)                                   0.072910   \n",
       "Age tilt                                        0.263706   \n",
       " % Issuers                                      1.462805   \n",
       "Book to Market (VW)                             1.596660   \n",
       "Sales Growth                                    0.822713   \n",
       "CAPE                                            0.184082   \n",
       "Acceleration                                   -0.268085   \n",
       "Joint F-stat                                   14.898803   \n",
       "p-value (Prob>F)                                0.372759   \n",
       "\n",
       "                        24mo Net of Risk-Free Return R-squre  \\\n",
       "Volatility (VW)                                     0.195106   \n",
       "Volatility (VW)- 1yr-Δ                              0.122033   \n",
       "Turnover (VW)                                       0.034097   \n",
       "Turnover (VW)- 1yr-Δ                                0.154218   \n",
       "Firm Age (VW)                                       0.174742   \n",
       "Age tilt                                            0.071335   \n",
       " % Issuers                                          0.162907   \n",
       "Book to Market (VW)                                 0.096639   \n",
       "Sales Growth                                        0.063114   \n",
       "CAPE                                                0.056112   \n",
       "Acceleration                                        0.054622   \n",
       "Joint F-stat                                             NaN   \n",
       "p-value (Prob>F)                                         NaN   \n",
       "\n",
       "                        24mo Net of Market Return b  \\\n",
       "Volatility (VW)                           -0.119827   \n",
       "Volatility (VW)- 1yr-Δ                    -0.205750   \n",
       "Turnover (VW)                              0.344415   \n",
       "Turnover (VW)- 1yr-Δ                      -6.492529   \n",
       "Firm Age (VW)                             -0.028581   \n",
       "Age tilt                                   0.932078   \n",
       " % Issuers                               -61.969386   \n",
       "Book to Market (VW)                        4.418338   \n",
       "Sales Growth                              -0.011039   \n",
       "CAPE                                       0.449751   \n",
       "Acceleration                              -0.026095   \n",
       "Joint F-stat                                    NaN   \n",
       "p-value (Prob>F)                                NaN   \n",
       "\n",
       "                        24mo Net of Market Return [t]  \\\n",
       "Volatility (VW)                             -0.414202   \n",
       "Volatility (VW)- 1yr-Δ                       0.234766   \n",
       "Turnover (VW)                                1.313369   \n",
       "Turnover (VW)- 1yr-Δ                        -0.040475   \n",
       "Firm Age (VW)                               -0.036519   \n",
       "Age tilt                                     0.350379   \n",
       " % Issuers                                   0.688232   \n",
       "Book to Market (VW)                          0.901321   \n",
       "Sales Growth                                 0.507633   \n",
       "CAPE                                         0.789154   \n",
       "Acceleration                                 0.277684   \n",
       "Joint F-stat                                 8.957632   \n",
       "p-value (Prob>F)                             0.347537   \n",
       "\n",
       "                        24mo Net of Market Return R-squre  \n",
       "Volatility (VW)                                  0.184523  \n",
       "Volatility (VW)- 1yr-Δ                           0.119763  \n",
       "Turnover (VW)                                    0.081559  \n",
       "Turnover (VW)- 1yr-Δ                             0.149865  \n",
       "Firm Age (VW)                                    0.171717  \n",
       "Age tilt                                         0.073964  \n",
       " % Issuers                                       0.164499  \n",
       "Book to Market (VW)                              0.098926  \n",
       "Sales Growth                                     0.066913  \n",
       "CAPE                                             0.066926  \n",
       "Acceleration                                     0.066045  \n",
       "Joint F-stat                                          NaN  \n",
       "p-value (Prob>F)                                      NaN  "
      ]
     },
     "execution_count": 431,
     "metadata": {},
     "output_type": "execute_result"
    }
   ],
   "source": [
    "table6"
   ]
  },
  {
   "cell_type": "markdown",
   "id": "72ab0663-2360-4b8d-95b3-06780dc573f9",
   "metadata": {
    "tags": []
   },
   "source": [
    "# Creating Table 4 (Bubbles for Fama)"
   ]
  },
  {
   "cell_type": "code",
   "execution_count": 432,
   "id": "a300c56c-253a-4786-90bc-d2eda2289ba0",
   "metadata": {
    "tags": []
   },
   "outputs": [],
   "source": [
    "all_bubble = regression[regression.index.isin(bubble_date.index)]"
   ]
  },
  {
   "cell_type": "code",
   "execution_count": 433,
   "id": "0c133328-0671-4340-b0fc-3cd32cf887d1",
   "metadata": {
    "tags": []
   },
   "outputs": [],
   "source": [
    "table4 = pd.DataFrame(index=['Past 2-year Return', 'Excess Past 2-year Return', 'Volatility (VW)', 'Volatility (VW)- 1yr-Δ', 'Turnover (VW)',\n",
    "                           'Turnover (VW)- 1yr-Δ', 'Firm Age (VW)', 'Age tilt', ' % Issuers', 'Book to Market (VW)', 'Sales Growth',\n",
    "                           'CAPE', 'Acceleration'])"
   ]
  },
  {
   "cell_type": "code",
   "execution_count": 434,
   "id": "496cf164-e726-447a-ad2d-e623de6b7aaa",
   "metadata": {
    "tags": []
   },
   "outputs": [],
   "source": [
    "column_order = ['two_vwr_ind', 'rf_two_vwr_ind', 'vol_vw', 'vol_vw_change', 'turnover_vw', \n",
    "                'turnover_vw_change', 'age_market_rank', 'age_tilt', 'issuance', 'btm_vwr', \n",
    "                'revenue_market_rank', 'cape', 'acc']"
   ]
  },
  {
   "cell_type": "code",
   "execution_count": 435,
   "id": "ad3e1ed4-c953-4528-9233-0a5b055243f1",
   "metadata": {
    "tags": []
   },
   "outputs": [],
   "source": [
    "all_ind_mean = regression[column_order].mean().values\n",
    "all_ind_std = regression[column_order].std().values\n",
    "table4['All industry-years Mean'] = all_ind_mean\n",
    "table4['All industry-years STD'] = all_ind_std"
   ]
  },
  {
   "cell_type": "code",
   "execution_count": 436,
   "id": "86a85608-b8df-446e-a1d8-8c7b726fcce3",
   "metadata": {
    "tags": []
   },
   "outputs": [],
   "source": [
    "run_up_mean = np.array(all_bubble[column_order].mean())\n",
    "run_up_std = np.array(all_bubble[column_order].std())\n",
    "table4['Run-ups Mean'] = run_up_mean\n",
    "table4['Run-ups STD'] = run_up_std"
   ]
  },
  {
   "cell_type": "markdown",
   "id": "0cff7000-4c3b-4b6f-a9ed-fd264806e28d",
   "metadata": {},
   "source": [
    "### Detecting crashes"
   ]
  },
  {
   "cell_type": "code",
   "execution_count": 437,
   "id": "3967fe17-6e33-4bca-abec-8f273f6aaeb0",
   "metadata": {
    "tags": []
   },
   "outputs": [],
   "source": [
    "# Function to check if a crash occurred\n",
    "def did_crash_occur(data, run_up_date):\n",
    "    two_year_end = run_up_date + pd.DateOffset(years=2)\n",
    "    post_runup_data = data.loc[run_up_date:two_year_end]\n",
    "    \n",
    "    # Calculate cumulative return from run-up date\n",
    "    post_runup_data['cumulative_return'] = (1 + post_runup_data['vwr_ind']).cumprod() - 1\n",
    "\n",
    "    # Check if there was any point where the drawdown from the max was 40% or more\n",
    "    if any(post_runup_data['cumulative_return'] <= (post_runup_data['cumulative_return'].cummax() - 0.4)):\n",
    "        return 1  # Crash occurred\n",
    "    return 0  # No crash"
   ]
  },
  {
   "cell_type": "code",
   "execution_count": 438,
   "id": "6e92350d-bf81-4bdc-b32d-fc04c128f4a1",
   "metadata": {
    "tags": []
   },
   "outputs": [],
   "source": [
    "run_up_check_crash = pd.DataFrame(columns=['date', 'ind', 'crash'])\n",
    "\n",
    "for (run_up_date, industry) in bubble_date.index:\n",
    "    crash = did_crash_occur(regression.xs(industry, level=1), run_up_date)\n",
    "    run_up_check_crash = pd.concat([run_up_check_crash, pd.DataFrame({'date': [run_up_date], 'ind': [industry], 'crash': [crash]})], ignore_index=True)\n",
    "    \n",
    "run_up_check_crash = run_up_check_crash.set_index(['date', 'ind'])\n",
    "no_crash = run_up_check_crash.loc[run_up_check_crash.crash==0]\n",
    "crash = run_up_check_crash.loc[run_up_check_crash.crash==1]"
   ]
  },
  {
   "cell_type": "code",
   "execution_count": 439,
   "id": "16c0469e-6bda-4f6e-80ca-7fb42c443f60",
   "metadata": {
    "tags": []
   },
   "outputs": [],
   "source": [
    "crash_bubble = regression[regression.index.isin(crash.index)]\n",
    "run_up_crash_mean = np.array(crash_bubble[column_order].mean())\n",
    "run_up_crash_std = np.array(crash_bubble[column_order].std())\n",
    "table4['Run-ups with Crash Mean'] = run_up_crash_mean\n",
    "table4['Run-ups with Crash STD'] = run_up_crash_std"
   ]
  },
  {
   "cell_type": "code",
   "execution_count": 440,
   "id": "020fc708-7a6c-4488-a47c-18710427cc71",
   "metadata": {
    "tags": []
   },
   "outputs": [],
   "source": [
    "no_crash_bubble = regression[regression.index.isin(no_crash.index)]\n",
    "run_up_no_crash_mean = np.array(no_crash_bubble[column_order].mean())\n",
    "run_up_no_crash_std = np.array(no_crash_bubble[column_order].std())\n",
    "table4['Run-ups with no Crash Mean'] = run_up_no_crash_mean\n",
    "table4['Run-ups with no Crash STD'] = run_up_no_crash_std"
   ]
  },
  {
   "cell_type": "code",
   "execution_count": 441,
   "id": "1306018e-7444-4085-bf75-da9a736ace15",
   "metadata": {
    "tags": []
   },
   "outputs": [],
   "source": [
    "table4['Crash minus no Crash Mean'] = table4['Run-ups with Crash Mean'] - table4['Run-ups with no Crash Mean']"
   ]
  },
  {
   "cell_type": "markdown",
   "id": "36203dfd-81c5-474a-a7bd-e371480724bc",
   "metadata": {},
   "source": [
    "### Regression"
   ]
  },
  {
   "cell_type": "code",
   "execution_count": 442,
   "id": "5a6bdc98-d361-452b-b14d-22c0d653a6c6",
   "metadata": {
    "tags": []
   },
   "outputs": [],
   "source": [
    "def t_stat(data, X, y, cluster):\n",
    "    results = []\n",
    "    X_val = data[X]\n",
    "    y_val = data[[y]]\n",
    "    X_val = sm.add_constant(X_val)\n",
    "    # Fit model with robust standard errors clustered by calendar year\n",
    "    model_year_clustered = sm.OLS(y_val, X_val).fit(cov_type='cluster', cov_kwds={'groups': data[cluster]})\n",
    "\n",
    "    # Metrics\n",
    "    results.append({\n",
    "        'b': model_year_clustered.params,\n",
    "        't': model_year_clustered.tvalues,\n",
    "        'r': model_year_clustered.rsquared,\n",
    "        'f': model_year_clustered.fvalue,\n",
    "        'p': model_year_clustered.f_pvalue\n",
    "    })\n",
    "    \n",
    "    # 2. Extract series data into separate columns for 'b'\n",
    "    df = pd.DataFrame(results)\n",
    "    # Extract the coefficients ('b') and t-values ('t')\n",
    "    # df_b = df['b'].apply(pd.Series)\n",
    "    df_t = df['t'].apply(pd.Series)\n",
    "    # Rename columns to indicate they contain coefficients or t-values\n",
    "    # df_b.columns = [f\"b_{col}\" for col in df_b.columns]\n",
    "    df_t.columns = [f\"{col}\" for col in df_t.columns]\n",
    "    # df_final = pd.concat([df.drop(['b', 't'], axis=1), df_b, df_t], axis=1)\n",
    "    df_final = pd.concat([df.drop(['b', 'r', 'f', 'p', 't'], axis=1), df_t.drop('const', axis=1)], axis=1)\n",
    "    return df_final"
   ]
  },
  {
   "cell_type": "code",
   "execution_count": 443,
   "id": "185dc4fb-ce26-49cd-a052-5c7e814d9ff8",
   "metadata": {
    "tags": []
   },
   "outputs": [],
   "source": [
    "characteristics = ['two_vwr_ind', 'rf_two_vwr_ind', 'vol_vw', 'vol_vw_change', 'turnover_vw', 'turnover_vw_change', 'age_market_rank', 'age_tilt', 'issuance', 'btm_vwr', 'revenue_market_rank', 'cape', 'acc']"
   ]
  },
  {
   "cell_type": "code",
   "execution_count": 444,
   "id": "62d76fa6-ef08-471e-928e-3ac9e80ef95e",
   "metadata": {
    "tags": []
   },
   "outputs": [],
   "source": [
    "no_crash_regression = pd.concat([get_post_bubble_data(regression, date, ind) for date, ind in no_crash.index.tolist()])\n",
    "no_crash_regression['Year'] = no_crash_regression.index.get_level_values('date').year\n",
    "no_crash_regression['Ind'] = no_crash_regression.index.get_level_values('ind')\n",
    "no_crash_regression['Year_Ind'] = no_crash_regression['Year'].astype(str) + '_' + no_crash_regression['Ind'].astype(str)"
   ]
  },
  {
   "cell_type": "code",
   "execution_count": 445,
   "id": "f243cdbb-8780-4bf6-85d4-fe7b97389901",
   "metadata": {
    "tags": []
   },
   "outputs": [],
   "source": [
    "crash_regression = pd.concat([get_post_bubble_data(regression, date, ind) for date, ind in crash.index.tolist()])\n",
    "crash_regression['Year'] = crash_regression.index.get_level_values('date').year\n",
    "crash_regression['Ind'] = crash_regression.index.get_level_values('ind')\n",
    "crash_regression['Year_Ind'] = crash_regression['Year'].astype(str) + '_' + crash_regression['Ind'].astype(str)"
   ]
  },
  {
   "cell_type": "code",
   "execution_count": 446,
   "id": "3ea53f48-309a-4edc-8aaa-b2cd8bf65508",
   "metadata": {
    "tags": []
   },
   "outputs": [],
   "source": [
    "no_crash_stats = run_regression(no_crash_regression, characteristics, 'vwr_ind', 'Year_Ind')\n",
    "crash_stats = run_regression(crash_regression, characteristics, 'vwr_ind', 'Year_Ind')"
   ]
  },
  {
   "cell_type": "code",
   "execution_count": 447,
   "id": "0c3d802f-4f57-4a9a-8f95-bf28fa854be2",
   "metadata": {
    "tags": []
   },
   "outputs": [],
   "source": [
    "format_table4_no_crash = pd.DataFrame(index=['Past 2-year Return', 'Excess Past 2-year Return', 'Volatility (VW)', 'Volatility (VW)- 1yr-Δ', 'Turnover (VW)',\n",
    "                             'Turnover (VW)- 1yr-Δ', 'Firm Age (VW)', 'Age tilt', ' % Issuers', 'Book to Market (VW)', 'Sales Growth',\n",
    "                             'CAPE', 'Acceleration'])\n",
    "format_table4_crash = pd.DataFrame(index=['Past 2-year Return', 'Excess Past 2-year Return', 'Volatility (VW)', 'Volatility (VW)- 1yr-Δ', 'Turnover (VW)',\n",
    "                             'Turnover (VW)- 1yr-Δ', 'Firm Age (VW)', 'Age tilt', ' % Issuers', 'Book to Market (VW)', 'Sales Growth',\n",
    "                             'CAPE', 'Acceleration'])"
   ]
  },
  {
   "cell_type": "code",
   "execution_count": 448,
   "id": "d281443a-8e81-40ae-9f48-c8813ad278d0",
   "metadata": {
    "tags": []
   },
   "outputs": [],
   "source": [
    "no_crash_output = collect_stats(format_table4_no_crash, no_crash_stats, 'No Crash')\n",
    "crash_output = collect_stats(format_table4_crash, crash_stats, 'Crash')"
   ]
  },
  {
   "cell_type": "code",
   "execution_count": 449,
   "id": "ab9b44be-195a-4d8d-8231-3c005e25be77",
   "metadata": {
    "tags": []
   },
   "outputs": [],
   "source": [
    "table4['Crash minus no Crash [t]'] = crash_output[0]['Crash [t]'] - no_crash_output[0]['No Crash [t]']"
   ]
  },
  {
   "cell_type": "markdown",
   "id": "9c11436d-c811-48fc-a816-7613a7dfdb65",
   "metadata": {},
   "source": [
    "### SUR"
   ]
  },
  {
   "cell_type": "code",
   "execution_count": 450,
   "id": "47d69fa9-3330-4891-99fe-bef0009cf34d",
   "metadata": {
    "tags": []
   },
   "outputs": [],
   "source": [
    "def get_stats(data):\n",
    "    sur_columns = ['two_vwr_ind', 'rf_two_vwr_ind', 'vol_vw', 'vol_vw_change', 'turnover_vw', \n",
    "                   'turnover_vw_change', 'age_market_rank', 'issuance', 'age_tilt', 'btm_vwr', \n",
    "                   'revenue_market_rank', 'cape', 'acc']\n",
    "    f = []\n",
    "    p = []\n",
    "    for col in sur_columns:\n",
    "        y = data['vwr_ind']\n",
    "        X = sm.add_constant(data[col].astype(float))\n",
    "        model = sm.OLS(y, X).fit()\n",
    "        f.append(model.fvalue)\n",
    "        p.append(model.f_pvalue)\n",
    "    return np.nanmean(np.array(f)), np.nanmean(np.array(p))\n",
    "    \n",
    "def run_sur_all(data):\n",
    "    f_total = []\n",
    "    p_total = []\n",
    "    for ind, df in data.groupby('ind'):\n",
    "        test = get_stats(df)\n",
    "        f_total.append(test[0])\n",
    "        p_total.append(test[1])\n",
    "    return np.nanmean(np.array(f_total)), np.nanmean(np.array(p_total))"
   ]
  },
  {
   "cell_type": "code",
   "execution_count": 451,
   "id": "5da7cbf4-ecbb-4449-8729-bc66ec203430",
   "metadata": {
    "tags": []
   },
   "outputs": [],
   "source": [
    "# crash_sur_stats = run_sur_all(crash_regression)\n",
    "# no_crash_sur_stats = run_sur_all(crash_regression)\n",
    "joint_stats = run_sur_all(regression)\n",
    "f = joint_stats[0]\n",
    "p = joint_stats[1]"
   ]
  },
  {
   "cell_type": "code",
   "execution_count": 452,
   "id": "0a84ff57-c6cb-41bf-923d-ce04e657f8e3",
   "metadata": {
    "tags": []
   },
   "outputs": [],
   "source": [
    "table4.loc['Joint F-stat'] = [np.nan] * (table4.shape[1]-1) + [f]"
   ]
  },
  {
   "cell_type": "code",
   "execution_count": 453,
   "id": "c73f4a5e-5531-41ed-9ccd-28d3574cb310",
   "metadata": {
    "tags": []
   },
   "outputs": [],
   "source": [
    "table4.loc['p-value (Prob>F)'] = [np.nan] * (table4.shape[1]-1) + [p]"
   ]
  },
  {
   "cell_type": "code",
   "execution_count": 454,
   "id": "26e76be8-cfaf-4e2d-bef3-cecb96c866b6",
   "metadata": {
    "tags": []
   },
   "outputs": [
    {
     "data": {
      "text/html": [
       "<div>\n",
       "<style scoped>\n",
       "    .dataframe tbody tr th:only-of-type {\n",
       "        vertical-align: middle;\n",
       "    }\n",
       "\n",
       "    .dataframe tbody tr th {\n",
       "        vertical-align: top;\n",
       "    }\n",
       "\n",
       "    .dataframe thead th {\n",
       "        text-align: right;\n",
       "    }\n",
       "</style>\n",
       "<table border=\"1\" class=\"dataframe\">\n",
       "  <thead>\n",
       "    <tr style=\"text-align: right;\">\n",
       "      <th></th>\n",
       "      <th>All industry-years Mean</th>\n",
       "      <th>All industry-years STD</th>\n",
       "      <th>Run-ups Mean</th>\n",
       "      <th>Run-ups STD</th>\n",
       "      <th>Run-ups with Crash Mean</th>\n",
       "      <th>Run-ups with Crash STD</th>\n",
       "      <th>Run-ups with no Crash Mean</th>\n",
       "      <th>Run-ups with no Crash STD</th>\n",
       "      <th>Crash minus no Crash Mean</th>\n",
       "      <th>Crash minus no Crash [t]</th>\n",
       "    </tr>\n",
       "  </thead>\n",
       "  <tbody>\n",
       "    <tr>\n",
       "      <th>Past 2-year Return</th>\n",
       "      <td>0.444377</td>\n",
       "      <td>0.509573</td>\n",
       "      <td>0.341007</td>\n",
       "      <td>0.383846</td>\n",
       "      <td>0.329000</td>\n",
       "      <td>0.347725</td>\n",
       "      <td>0.355681</td>\n",
       "      <td>0.433859</td>\n",
       "      <td>-0.026681</td>\n",
       "      <td>3.418650</td>\n",
       "    </tr>\n",
       "    <tr>\n",
       "      <th>Excess Past 2-year Return</th>\n",
       "      <td>0.421324</td>\n",
       "      <td>0.510784</td>\n",
       "      <td>0.303780</td>\n",
       "      <td>0.382116</td>\n",
       "      <td>0.279225</td>\n",
       "      <td>0.348582</td>\n",
       "      <td>0.333791</td>\n",
       "      <td>0.427944</td>\n",
       "      <td>-0.054567</td>\n",
       "      <td>1.733678</td>\n",
       "    </tr>\n",
       "    <tr>\n",
       "      <th>Volatility (VW)</th>\n",
       "      <td>0.021038</td>\n",
       "      <td>0.061303</td>\n",
       "      <td>0.027811</td>\n",
       "      <td>0.013560</td>\n",
       "      <td>0.032630</td>\n",
       "      <td>0.016649</td>\n",
       "      <td>0.021922</td>\n",
       "      <td>0.003558</td>\n",
       "      <td>0.010708</td>\n",
       "      <td>-2.721270</td>\n",
       "    </tr>\n",
       "    <tr>\n",
       "      <th>Volatility (VW)- 1yr-Δ</th>\n",
       "      <td>0.113270</td>\n",
       "      <td>2.634499</td>\n",
       "      <td>0.396626</td>\n",
       "      <td>1.287813</td>\n",
       "      <td>0.685217</td>\n",
       "      <td>1.662391</td>\n",
       "      <td>0.043904</td>\n",
       "      <td>0.389110</td>\n",
       "      <td>0.641314</td>\n",
       "      <td>0.034077</td>\n",
       "    </tr>\n",
       "    <tr>\n",
       "      <th>Turnover (VW)</th>\n",
       "      <td>0.062541</td>\n",
       "      <td>0.085726</td>\n",
       "      <td>0.108521</td>\n",
       "      <td>0.137164</td>\n",
       "      <td>0.138228</td>\n",
       "      <td>0.171267</td>\n",
       "      <td>0.072212</td>\n",
       "      <td>0.066250</td>\n",
       "      <td>0.066016</td>\n",
       "      <td>-0.369589</td>\n",
       "    </tr>\n",
       "    <tr>\n",
       "      <th>Turnover (VW)- 1yr-Δ</th>\n",
       "      <td>0.221933</td>\n",
       "      <td>2.090064</td>\n",
       "      <td>0.476511</td>\n",
       "      <td>0.790627</td>\n",
       "      <td>0.585179</td>\n",
       "      <td>0.944082</td>\n",
       "      <td>0.343694</td>\n",
       "      <td>0.546870</td>\n",
       "      <td>0.241485</td>\n",
       "      <td>-1.766230</td>\n",
       "    </tr>\n",
       "    <tr>\n",
       "      <th>Firm Age (VW)</th>\n",
       "      <td>0.520179</td>\n",
       "      <td>0.319162</td>\n",
       "      <td>0.337691</td>\n",
       "      <td>0.273505</td>\n",
       "      <td>0.346817</td>\n",
       "      <td>0.288113</td>\n",
       "      <td>0.326536</td>\n",
       "      <td>0.262356</td>\n",
       "      <td>0.020281</td>\n",
       "      <td>-1.777679</td>\n",
       "    </tr>\n",
       "    <tr>\n",
       "      <th>Age tilt</th>\n",
       "      <td>-0.013479</td>\n",
       "      <td>0.090710</td>\n",
       "      <td>-0.102511</td>\n",
       "      <td>0.082055</td>\n",
       "      <td>-0.105966</td>\n",
       "      <td>0.096413</td>\n",
       "      <td>-0.098289</td>\n",
       "      <td>0.062687</td>\n",
       "      <td>-0.007676</td>\n",
       "      <td>1.096314</td>\n",
       "    </tr>\n",
       "    <tr>\n",
       "      <th>% Issuers</th>\n",
       "      <td>0.003025</td>\n",
       "      <td>0.012900</td>\n",
       "      <td>0.010866</td>\n",
       "      <td>0.026017</td>\n",
       "      <td>0.016063</td>\n",
       "      <td>0.032394</td>\n",
       "      <td>0.004514</td>\n",
       "      <td>0.013376</td>\n",
       "      <td>0.011549</td>\n",
       "      <td>-0.932365</td>\n",
       "    </tr>\n",
       "    <tr>\n",
       "      <th>Book to Market (VW)</th>\n",
       "      <td>0.999023</td>\n",
       "      <td>5.123299</td>\n",
       "      <td>0.579723</td>\n",
       "      <td>0.919324</td>\n",
       "      <td>0.792711</td>\n",
       "      <td>1.183920</td>\n",
       "      <td>0.319404</td>\n",
       "      <td>0.277420</td>\n",
       "      <td>0.473308</td>\n",
       "      <td>-1.889017</td>\n",
       "    </tr>\n",
       "    <tr>\n",
       "      <th>Sales Growth</th>\n",
       "      <td>0.515943</td>\n",
       "      <td>0.261622</td>\n",
       "      <td>0.561594</td>\n",
       "      <td>0.318987</td>\n",
       "      <td>0.518210</td>\n",
       "      <td>0.313033</td>\n",
       "      <td>0.614620</td>\n",
       "      <td>0.327069</td>\n",
       "      <td>-0.096411</td>\n",
       "      <td>1.227543</td>\n",
       "    </tr>\n",
       "    <tr>\n",
       "      <th>CAPE</th>\n",
       "      <td>18.766083</td>\n",
       "      <td>7.781412</td>\n",
       "      <td>22.081628</td>\n",
       "      <td>9.591604</td>\n",
       "      <td>23.653524</td>\n",
       "      <td>10.891976</td>\n",
       "      <td>20.160422</td>\n",
       "      <td>7.576358</td>\n",
       "      <td>3.493103</td>\n",
       "      <td>-3.984654</td>\n",
       "    </tr>\n",
       "    <tr>\n",
       "      <th>Acceleration</th>\n",
       "      <td>0.172209</td>\n",
       "      <td>0.717523</td>\n",
       "      <td>0.868901</td>\n",
       "      <td>1.197518</td>\n",
       "      <td>0.938336</td>\n",
       "      <td>0.881310</td>\n",
       "      <td>0.784035</td>\n",
       "      <td>1.522022</td>\n",
       "      <td>0.154301</td>\n",
       "      <td>-2.377464</td>\n",
       "    </tr>\n",
       "    <tr>\n",
       "      <th>Joint F-stat</th>\n",
       "      <td>NaN</td>\n",
       "      <td>NaN</td>\n",
       "      <td>NaN</td>\n",
       "      <td>NaN</td>\n",
       "      <td>NaN</td>\n",
       "      <td>NaN</td>\n",
       "      <td>NaN</td>\n",
       "      <td>NaN</td>\n",
       "      <td>NaN</td>\n",
       "      <td>344.322857</td>\n",
       "    </tr>\n",
       "    <tr>\n",
       "      <th>p-value (Prob&gt;F)</th>\n",
       "      <td>NaN</td>\n",
       "      <td>NaN</td>\n",
       "      <td>NaN</td>\n",
       "      <td>NaN</td>\n",
       "      <td>NaN</td>\n",
       "      <td>NaN</td>\n",
       "      <td>NaN</td>\n",
       "      <td>NaN</td>\n",
       "      <td>NaN</td>\n",
       "      <td>0.341678</td>\n",
       "    </tr>\n",
       "  </tbody>\n",
       "</table>\n",
       "</div>"
      ],
      "text/plain": [
       "                           All industry-years Mean  All industry-years STD  \\\n",
       "Past 2-year Return                        0.444377                0.509573   \n",
       "Excess Past 2-year Return                 0.421324                0.510784   \n",
       "Volatility (VW)                           0.021038                0.061303   \n",
       "Volatility (VW)- 1yr-Δ                    0.113270                2.634499   \n",
       "Turnover (VW)                             0.062541                0.085726   \n",
       "Turnover (VW)- 1yr-Δ                      0.221933                2.090064   \n",
       "Firm Age (VW)                             0.520179                0.319162   \n",
       "Age tilt                                 -0.013479                0.090710   \n",
       " % Issuers                                0.003025                0.012900   \n",
       "Book to Market (VW)                       0.999023                5.123299   \n",
       "Sales Growth                              0.515943                0.261622   \n",
       "CAPE                                     18.766083                7.781412   \n",
       "Acceleration                              0.172209                0.717523   \n",
       "Joint F-stat                                   NaN                     NaN   \n",
       "p-value (Prob>F)                               NaN                     NaN   \n",
       "\n",
       "                           Run-ups Mean  Run-ups STD  Run-ups with Crash Mean  \\\n",
       "Past 2-year Return             0.341007     0.383846                 0.329000   \n",
       "Excess Past 2-year Return      0.303780     0.382116                 0.279225   \n",
       "Volatility (VW)                0.027811     0.013560                 0.032630   \n",
       "Volatility (VW)- 1yr-Δ         0.396626     1.287813                 0.685217   \n",
       "Turnover (VW)                  0.108521     0.137164                 0.138228   \n",
       "Turnover (VW)- 1yr-Δ           0.476511     0.790627                 0.585179   \n",
       "Firm Age (VW)                  0.337691     0.273505                 0.346817   \n",
       "Age tilt                      -0.102511     0.082055                -0.105966   \n",
       " % Issuers                     0.010866     0.026017                 0.016063   \n",
       "Book to Market (VW)            0.579723     0.919324                 0.792711   \n",
       "Sales Growth                   0.561594     0.318987                 0.518210   \n",
       "CAPE                          22.081628     9.591604                23.653524   \n",
       "Acceleration                   0.868901     1.197518                 0.938336   \n",
       "Joint F-stat                        NaN          NaN                      NaN   \n",
       "p-value (Prob>F)                    NaN          NaN                      NaN   \n",
       "\n",
       "                           Run-ups with Crash STD  Run-ups with no Crash Mean  \\\n",
       "Past 2-year Return                       0.347725                    0.355681   \n",
       "Excess Past 2-year Return                0.348582                    0.333791   \n",
       "Volatility (VW)                          0.016649                    0.021922   \n",
       "Volatility (VW)- 1yr-Δ                   1.662391                    0.043904   \n",
       "Turnover (VW)                            0.171267                    0.072212   \n",
       "Turnover (VW)- 1yr-Δ                     0.944082                    0.343694   \n",
       "Firm Age (VW)                            0.288113                    0.326536   \n",
       "Age tilt                                 0.096413                   -0.098289   \n",
       " % Issuers                               0.032394                    0.004514   \n",
       "Book to Market (VW)                      1.183920                    0.319404   \n",
       "Sales Growth                             0.313033                    0.614620   \n",
       "CAPE                                    10.891976                   20.160422   \n",
       "Acceleration                             0.881310                    0.784035   \n",
       "Joint F-stat                                  NaN                         NaN   \n",
       "p-value (Prob>F)                              NaN                         NaN   \n",
       "\n",
       "                           Run-ups with no Crash STD  \\\n",
       "Past 2-year Return                          0.433859   \n",
       "Excess Past 2-year Return                   0.427944   \n",
       "Volatility (VW)                             0.003558   \n",
       "Volatility (VW)- 1yr-Δ                      0.389110   \n",
       "Turnover (VW)                               0.066250   \n",
       "Turnover (VW)- 1yr-Δ                        0.546870   \n",
       "Firm Age (VW)                               0.262356   \n",
       "Age tilt                                    0.062687   \n",
       " % Issuers                                  0.013376   \n",
       "Book to Market (VW)                         0.277420   \n",
       "Sales Growth                                0.327069   \n",
       "CAPE                                        7.576358   \n",
       "Acceleration                                1.522022   \n",
       "Joint F-stat                                     NaN   \n",
       "p-value (Prob>F)                                 NaN   \n",
       "\n",
       "                           Crash minus no Crash Mean  Crash minus no Crash [t]  \n",
       "Past 2-year Return                         -0.026681                  3.418650  \n",
       "Excess Past 2-year Return                  -0.054567                  1.733678  \n",
       "Volatility (VW)                             0.010708                 -2.721270  \n",
       "Volatility (VW)- 1yr-Δ                      0.641314                  0.034077  \n",
       "Turnover (VW)                               0.066016                 -0.369589  \n",
       "Turnover (VW)- 1yr-Δ                        0.241485                 -1.766230  \n",
       "Firm Age (VW)                               0.020281                 -1.777679  \n",
       "Age tilt                                   -0.007676                  1.096314  \n",
       " % Issuers                                  0.011549                 -0.932365  \n",
       "Book to Market (VW)                         0.473308                 -1.889017  \n",
       "Sales Growth                               -0.096411                  1.227543  \n",
       "CAPE                                        3.493103                 -3.984654  \n",
       "Acceleration                                0.154301                 -2.377464  \n",
       "Joint F-stat                                     NaN                344.322857  \n",
       "p-value (Prob>F)                                 NaN                  0.341678  "
      ]
     },
     "execution_count": 454,
     "metadata": {},
     "output_type": "execute_result"
    }
   ],
   "source": [
    "table4"
   ]
  },
  {
   "cell_type": "code",
   "execution_count": null,
   "id": "3a1c6a5d-11fb-4b9b-91c7-931480034b72",
   "metadata": {},
   "outputs": [],
   "source": []
  }
 ],
 "metadata": {
  "kernelspec": {
   "display_name": "bubblefacto",
   "language": "python",
   "name": "bubblefacto"
  },
  "language_info": {
   "codemirror_mode": {
    "name": "ipython",
    "version": 3
   },
   "file_extension": ".py",
   "mimetype": "text/x-python",
   "name": "python",
   "nbconvert_exporter": "python",
   "pygments_lexer": "ipython3",
   "version": "3.10.12"
  }
 },
 "nbformat": 4,
 "nbformat_minor": 5
}
