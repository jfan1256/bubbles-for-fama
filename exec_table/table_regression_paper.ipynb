{
 "cells": [
  {
   "cell_type": "code",
   "execution_count": 209,
   "id": "0924e97f-e252-4800-99f3-6d141bd71ef4",
   "metadata": {
    "tags": []
   },
   "outputs": [],
   "source": [
    "import pandas as pd\n",
    "import numpy as np\n",
    "import os\n",
    "import re\n",
    "import pandas_datareader.data as web\n",
    "import matplotlib.pyplot as plt\n",
    "import statsmodels.api as sm\n",
    "import statsmodels.formula.api as smf\n",
    "\n",
    "from linearmodels.system import SUR\n",
    "from pathlib import Path\n",
    "from IPython.display import display\n",
    "from scipy.stats import pearsonr\n",
    "from collections import OrderedDict\n",
    "from sklearn.linear_model import LinearRegression\n",
    "from linearmodels.system.results import WaldTestStatistic\n",
    "\n",
    "\n",
    "import warnings\n",
    "warnings.filterwarnings('ignore')"
   ]
  },
  {
   "cell_type": "code",
   "execution_count": 210,
   "id": "2e77a673-9c6c-4684-bdb8-d261d3a3d4fe",
   "metadata": {
    "tags": []
   },
   "outputs": [],
   "source": [
    "root = Path(os.getcwd())"
   ]
  },
  {
   "cell_type": "code",
   "execution_count": 211,
   "id": "4b37bcd6-b447-4182-ae92-7ccabc728431",
   "metadata": {
    "tags": []
   },
   "outputs": [],
   "source": [
    "def set_timeframe(data, start_date, end_date):\n",
    "    data = data.loc[data.index.get_level_values('date') >= start_date]\n",
    "    data = data.loc[data.index.get_level_values('date') <= end_date]\n",
    "    return data"
   ]
  },
  {
   "cell_type": "code",
   "execution_count": 212,
   "id": "85e453e9-c0fa-40f7-bf2b-06e373e23a12",
   "metadata": {
    "tags": []
   },
   "outputs": [],
   "source": [
    "predictors = pd.read_parquet(root / 'data' / 'predictors.parquet.brotli')"
   ]
  },
  {
   "cell_type": "code",
   "execution_count": 213,
   "id": "7367d4a6-7c42-42f9-9634-0a5434e6c6e0",
   "metadata": {
    "tags": []
   },
   "outputs": [],
   "source": [
    "predictors = set_timeframe(predictors, '1925-01-01', '2022-01-01')"
   ]
  },
  {
   "cell_type": "markdown",
   "id": "9e7c3aa1-d6ce-418b-b5af-5ab3bd4d4c33",
   "metadata": {},
   "source": [
    "# Handling Data"
   ]
  },
  {
   "cell_type": "code",
   "execution_count": 214,
   "id": "26238692-04ac-4671-b56d-f8a54d07ca5b",
   "metadata": {
    "tags": []
   },
   "outputs": [],
   "source": [
    "regression = predictors.copy(deep=True)"
   ]
  },
  {
   "cell_type": "code",
   "execution_count": 215,
   "id": "98d1321e-fb6f-436e-9f34-0979eeb9561b",
   "metadata": {
    "tags": []
   },
   "outputs": [],
   "source": [
    "regression = regression.dropna()\n",
    "# regression = regression.fillna(0)"
   ]
  },
  {
   "cell_type": "code",
   "execution_count": 216,
   "id": "0a7c0c90-f2a2-45fb-a2d2-c5c563d1581a",
   "metadata": {
    "tags": []
   },
   "outputs": [],
   "source": [
    "# Bubble dates from paper\n",
    "bubble_date = pd.read_csv(root / 'data' / 'bubbles.csv')\n",
    "bubble_date = bubble_date.applymap(lambda s: s.lower() if type(s) == str else s)\n",
    "bubble_date.date = pd.to_datetime(bubble_date.date)\n",
    "bubble_date.date = bubble_date.date.dt.to_period('M').dt.to_timestamp('M')\n",
    "bubble_date = bubble_date.set_index(['date', 'ind'])"
   ]
  },
  {
   "cell_type": "code",
   "execution_count": 217,
   "id": "9df80cef-0bd8-48ae-898c-b3173305967a",
   "metadata": {
    "tags": []
   },
   "outputs": [],
   "source": [
    "# Add excess returns\n",
    "regression['rf_two_vwr_ind'] = regression['two_vwr_ind'] - (regression['rf']/100)\n",
    "regression['market_two_vwr_ind'] = regression['two_vwr_ind'] - regression['market_return']"
   ]
  },
  {
   "cell_type": "code",
   "execution_count": 218,
   "id": "e08a11e0-3bfd-461b-a3e6-abf4d5abb966",
   "metadata": {
    "tags": []
   },
   "outputs": [
    {
     "data": {
      "text/plain": [
       "Index(['autos', 'beer', 'boxes', 'chems', 'chips', 'coal', 'drugs', 'elceq',\n",
       "       'fin', 'food', 'fun', 'hshld', 'mach', 'mines', 'oil', 'rtail', 'ships',\n",
       "       'smoke', 'steel', 'telcm', 'trans', 'util', 'bldmt', 'labeq', 'rlest',\n",
       "       'txtls', 'aero', 'hardw', 'bussv', 'clths', 'cnstr', 'medeq', 'agric',\n",
       "       'meals', 'insur', 'banks', 'books', 'whlsl', 'toys', 'persv', 'other',\n",
       "       'paper', 'rubbr', 'gold', 'guns', 'hlth', 'soda', 'softw', 'fabpr'],\n",
       "      dtype='object', name='ind')"
      ]
     },
     "execution_count": 218,
     "metadata": {},
     "output_type": "execute_result"
    }
   ],
   "source": [
    "regression.index.get_level_values(1).unique()"
   ]
  },
  {
   "cell_type": "markdown",
   "id": "72ab0663-2360-4b8d-95b3-06780dc573f9",
   "metadata": {
    "tags": []
   },
   "source": [
    "# Creating Table 4 (Bubbles for Fama)"
   ]
  },
  {
   "cell_type": "code",
   "execution_count": 219,
   "id": "a300c56c-253a-4786-90bc-d2eda2289ba0",
   "metadata": {
    "tags": []
   },
   "outputs": [],
   "source": [
    "all_bubble = regression[regression.index.isin(bubble_date.index)]"
   ]
  },
  {
   "cell_type": "code",
   "execution_count": 220,
   "id": "0c133328-0671-4340-b0fc-3cd32cf887d1",
   "metadata": {
    "tags": []
   },
   "outputs": [],
   "source": [
    "table4 = pd.DataFrame(index=['Past 2-year Return', 'Excess Past 2-year Return', 'Volatility (VW)', 'Volatility (VW)- 1yr-Δ', 'Turnover (VW)',\n",
    "                           'Turnover (VW)- 1yr-Δ', 'Firm Age (VW)', 'Age tilt', ' % Issuers', 'Book to Market (VW)', 'Sales Growth',\n",
    "                           'CAPE', 'Acceleration'])\n",
    "column_order = ['two_vwr_ind', 'rf_two_vwr_ind', 'vol_vw', 'vol_vw_change', 'turnover_vw', \n",
    "                'turnover_vw_change', 'age_market_rank', 'age_tilt', 'issuance', 'btm_vwr', \n",
    "                'revenue_market_rank', 'cape', 'acc']"
   ]
  },
  {
   "cell_type": "code",
   "execution_count": 221,
   "id": "ad3e1ed4-c953-4528-9233-0a5b055243f1",
   "metadata": {
    "tags": []
   },
   "outputs": [],
   "source": [
    "all_ind_mean = regression[column_order].mean().values\n",
    "all_ind_std = regression[column_order].std().values\n",
    "table4['All industry-years Mean'] = all_ind_mean\n",
    "table4['All industry-years STD'] = all_ind_std"
   ]
  },
  {
   "cell_type": "code",
   "execution_count": 222,
   "id": "86a85608-b8df-446e-a1d8-8c7b726fcce3",
   "metadata": {
    "tags": []
   },
   "outputs": [],
   "source": [
    "run_up_mean = np.array(all_bubble[column_order].mean())\n",
    "run_up_std = np.array(all_bubble[column_order].std())\n",
    "table4['Run-ups Mean'] = run_up_mean\n",
    "table4['Run-ups STD'] = run_up_std"
   ]
  },
  {
   "cell_type": "markdown",
   "id": "0cff7000-4c3b-4b6f-a9ed-fd264806e28d",
   "metadata": {},
   "source": [
    "### Detecting crashes"
   ]
  },
  {
   "cell_type": "code",
   "execution_count": 223,
   "id": "3967fe17-6e33-4bca-abec-8f273f6aaeb0",
   "metadata": {
    "tags": []
   },
   "outputs": [],
   "source": [
    "# Function to check if a crash occurred\n",
    "def did_crash_occur(data, run_up_date):\n",
    "    two_year_end = run_up_date + pd.DateOffset(years=2)\n",
    "    post_runup_data = data.loc[run_up_date:two_year_end]\n",
    "    \n",
    "    # Calculate cumulative return from run-up date\n",
    "    post_runup_data['cumulative_return'] = (1 + post_runup_data['vwr_ind']).cumprod() - 1\n",
    "\n",
    "    # Check if there was any point where the drawdown from the max was 40% or more\n",
    "    if any(post_runup_data['cumulative_return'] <= (post_runup_data['cumulative_return'].cummax() - 0.4)):\n",
    "        return 1  # Crash occurred\n",
    "    return 0  # No crash"
   ]
  },
  {
   "cell_type": "code",
   "execution_count": 224,
   "id": "6e92350d-bf81-4bdc-b32d-fc04c128f4a1",
   "metadata": {
    "tags": []
   },
   "outputs": [],
   "source": [
    "run_up_check_crash = pd.DataFrame(columns=['date', 'ind', 'crash'])\n",
    "\n",
    "for (run_up_date, industry) in bubble_date.index:\n",
    "    crash = did_crash_occur(regression.xs(industry, level=1), run_up_date)\n",
    "    run_up_check_crash = pd.concat([run_up_check_crash, pd.DataFrame({'date': [run_up_date], 'ind': [industry], 'crash': [crash]})], ignore_index=True)\n",
    "    \n",
    "run_up_check_crash = run_up_check_crash.set_index(['date', 'ind'])\n",
    "# no_crash = run_up_check_crash.loc[run_up_check_crash.crash==0]\n",
    "# crash = run_up_check_crash.loc[run_up_check_crash.crash==1]\n",
    "no_crash = bubble_date.loc[bubble_date.bubble==0]\n",
    "crash = bubble_date.loc[bubble_date.bubble==1]"
   ]
  },
  {
   "cell_type": "code",
   "execution_count": 225,
   "id": "16c0469e-6bda-4f6e-80ca-7fb42c443f60",
   "metadata": {
    "tags": []
   },
   "outputs": [],
   "source": [
    "crash_bubble = regression[regression.index.isin(crash.index)]\n",
    "run_up_crash_mean = np.array(crash_bubble[column_order].mean())\n",
    "run_up_crash_std = np.array(crash_bubble[column_order].std())\n",
    "table4['Run-ups with Crash Mean'] = run_up_crash_mean\n",
    "table4['Run-ups with Crash STD'] = run_up_crash_std"
   ]
  },
  {
   "cell_type": "code",
   "execution_count": 226,
   "id": "020fc708-7a6c-4488-a47c-18710427cc71",
   "metadata": {
    "tags": []
   },
   "outputs": [],
   "source": [
    "no_crash_bubble = regression[regression.index.isin(no_crash.index)]\n",
    "run_up_no_crash_mean = np.array(no_crash_bubble[column_order].mean())\n",
    "run_up_no_crash_std = np.array(no_crash_bubble[column_order].std())\n",
    "table4['Run-ups with no Crash Mean'] = run_up_no_crash_mean\n",
    "table4['Run-ups with no Crash STD'] = run_up_no_crash_std"
   ]
  },
  {
   "cell_type": "code",
   "execution_count": 227,
   "id": "1306018e-7444-4085-bf75-da9a736ace15",
   "metadata": {
    "tags": []
   },
   "outputs": [],
   "source": [
    "table4['Crash minus no Crash Mean'] = table4['Run-ups with Crash Mean'] - table4['Run-ups with no Crash Mean']"
   ]
  },
  {
   "cell_type": "markdown",
   "id": "36203dfd-81c5-474a-a7bd-e371480724bc",
   "metadata": {},
   "source": [
    "### Regression"
   ]
  },
  {
   "cell_type": "code",
   "execution_count": 228,
   "id": "5a6bdc98-d361-452b-b14d-22c0d653a6c6",
   "metadata": {
    "tags": []
   },
   "outputs": [],
   "source": [
    "def t_stat(data, characteristics, y, cluster):\n",
    "    results = []\n",
    "    table = pd.DataFrame(index=['Past 2-year Return', 'Excess Past 2-year Return', 'Volatility (VW)', 'Volatility (VW)- 1yr-Δ', 'Turnover (VW)',\n",
    "                             'Turnover (VW)- 1yr-Δ', 'Firm Age (VW)', 'Age tilt', ' % Issuers', 'Book to Market (VW)', 'Sales Growth',\n",
    "                             'CAPE', 'Acceleration'])\n",
    "    for X in characteristics:\n",
    "        X_val = data[[X]]\n",
    "        y_val = data[[y]]\n",
    "        X_val = sm.add_constant(X_val)\n",
    "        # Fit model with robust standard errors clustered by calendar year\n",
    "        model_year_clustered = sm.OLS(y_val, X_val).fit(cov_type='cluster', cov_kwds={'groups': data[cluster]})\n",
    "\n",
    "        # Metrics\n",
    "        results.append({\n",
    "            'b': model_year_clustered.params[X],\n",
    "            't': model_year_clustered.tvalues[X],\n",
    "            'r': model_year_clustered.rsquared,\n",
    "            'f': model_year_clustered.fvalue,\n",
    "            'p': model_year_clustered.f_pvalue\n",
    "        })\n",
    "        \n",
    "    table['b'] = [res['b'] for res in results]\n",
    "    table['t'] = [res['t'] for res in results]\n",
    "    table['r'] = [res['r'] for res in results]\n",
    "    table['f'] = [res['f'] for res in results]\n",
    "    table['p'] = [res['p'] for res in results]\n",
    "    return table"
   ]
  },
  {
   "cell_type": "code",
   "execution_count": 229,
   "id": "185dc4fb-ce26-49cd-a052-5c7e814d9ff8",
   "metadata": {
    "tags": []
   },
   "outputs": [],
   "source": [
    "characteristics = ['two_vwr_ind', 'rf_two_vwr_ind', 'vol_vw', 'vol_vw_change', 'turnover_vw', 'turnover_vw_change', 'age_market_rank', 'age_tilt', 'issuance', 'btm_vwr', 'revenue_market_rank', 'cape', 'acc']"
   ]
  },
  {
   "cell_type": "markdown",
   "id": "a634d1fa-5aba-4c70-bcb7-9ddaa604edf8",
   "metadata": {},
   "source": [
    "# Current VWR"
   ]
  },
  {
   "cell_type": "code",
   "execution_count": 230,
   "id": "62d76fa6-ef08-471e-928e-3ac9e80ef95e",
   "metadata": {
    "tags": []
   },
   "outputs": [],
   "source": [
    "run_up_regression = all_bubble.copy(deep=True)\n",
    "run_up_regression['Year'] = run_up_regression.index.get_level_values('date').year"
   ]
  },
  {
   "cell_type": "code",
   "execution_count": 231,
   "id": "487e3010-1859-42c7-a196-fab49c84609a",
   "metadata": {
    "tags": []
   },
   "outputs": [],
   "source": [
    "run_up_regression = run_up_regression.merge(bubble_date, left_index=True, right_index=True, how='left')"
   ]
  },
  {
   "cell_type": "code",
   "execution_count": 232,
   "id": "3ea53f48-309a-4edc-8aaa-b2cd8bf65508",
   "metadata": {
    "tags": []
   },
   "outputs": [],
   "source": [
    "run_up_stats = t_stat(run_up_regression, characteristics, 'bubble', 'Year')"
   ]
  },
  {
   "cell_type": "markdown",
   "id": "4374d2b8-5589-4bc2-9e54-509471aff395",
   "metadata": {},
   "source": [
    "# Future VWR"
   ]
  },
  {
   "cell_type": "code",
   "execution_count": 233,
   "id": "b544a8c6-e45c-4640-9bae-808269faa162",
   "metadata": {
    "tags": []
   },
   "outputs": [],
   "source": [
    "def calc_cumulative(df, date, ind, months=24, return_col='vwr_ind'):\n",
    "    start_date = pd.to_datetime(date)\n",
    "    end_date = start_date + pd.DateOffset(months=months)\n",
    "    mask = (df.index.get_level_values('date') > start_date) & (df.index.get_level_values('date') <= end_date) & (df.index.get_level_values('ind') == ind)\n",
    "    sub_df = df[mask].copy()\n",
    "    # Calculate the cumulative returns\n",
    "    cumulative_returns = (1 + sub_df[return_col]).cumprod() - 1\n",
    "    sub_df['two_vwr_ind'] = cumulative_returns\n",
    "    return sub_df"
   ]
  },
  {
   "cell_type": "code",
   "execution_count": 234,
   "id": "c0d1258c-d58a-493e-b2ba-e1a7711bdf4b",
   "metadata": {
    "tags": []
   },
   "outputs": [],
   "source": [
    "two_regression = pd.concat([calc_cumulative(regression, date, ind) for date, ind in bubble_date.index.tolist()])"
   ]
  },
  {
   "cell_type": "code",
   "execution_count": 235,
   "id": "33c7e809-0eed-4c7a-8823-771ca879c5b6",
   "metadata": {
    "tags": []
   },
   "outputs": [],
   "source": [
    "two_regression['Year'] = two_regression.index.get_level_values('date').year"
   ]
  },
  {
   "cell_type": "code",
   "execution_count": 236,
   "id": "b94a7a0a-6be3-4f01-a35d-5e4fef7fe664",
   "metadata": {
    "tags": []
   },
   "outputs": [],
   "source": [
    "two_stats = t_stat(two_regression, characteristics, 'vwr_ind', 'Year')"
   ]
  },
  {
   "cell_type": "markdown",
   "id": "93565662-8ae6-414e-9ea5-d7a2fa640f09",
   "metadata": {},
   "source": [
    "# Check"
   ]
  },
  {
   "cell_type": "code",
   "execution_count": 237,
   "id": "4704a61a-e9a7-4cee-ad41-a36ee2a367c2",
   "metadata": {
    "tags": []
   },
   "outputs": [],
   "source": [
    "combine = pd.concat([run_up_stats['t'], two_stats['t']], axis=1)\n",
    "combine.columns=['[t] for Bubble Indicators', '[t] for 2 years VWR']"
   ]
  },
  {
   "cell_type": "code",
   "execution_count": 238,
   "id": "fe285d80-23cb-40aa-a682-810ce76c7f46",
   "metadata": {
    "tags": []
   },
   "outputs": [
    {
     "data": {
      "text/html": [
       "<div>\n",
       "<style scoped>\n",
       "    .dataframe tbody tr th:only-of-type {\n",
       "        vertical-align: middle;\n",
       "    }\n",
       "\n",
       "    .dataframe tbody tr th {\n",
       "        vertical-align: top;\n",
       "    }\n",
       "\n",
       "    .dataframe thead th {\n",
       "        text-align: right;\n",
       "    }\n",
       "</style>\n",
       "<table border=\"1\" class=\"dataframe\">\n",
       "  <thead>\n",
       "    <tr style=\"text-align: right;\">\n",
       "      <th></th>\n",
       "      <th>[t] for Bubble Indicators</th>\n",
       "      <th>[t] for 2 years VWR</th>\n",
       "    </tr>\n",
       "  </thead>\n",
       "  <tbody>\n",
       "    <tr>\n",
       "      <th>Past 2-year Return</th>\n",
       "      <td>0.228368</td>\n",
       "      <td>3.340378</td>\n",
       "    </tr>\n",
       "    <tr>\n",
       "      <th>Excess Past 2-year Return</th>\n",
       "      <td>0.102515</td>\n",
       "      <td>-0.124599</td>\n",
       "    </tr>\n",
       "    <tr>\n",
       "      <th>Volatility (VW)</th>\n",
       "      <td>2.730078</td>\n",
       "      <td>-1.337141</td>\n",
       "    </tr>\n",
       "    <tr>\n",
       "      <th>Volatility (VW)- 1yr-Δ</th>\n",
       "      <td>2.681506</td>\n",
       "      <td>-3.220187</td>\n",
       "    </tr>\n",
       "    <tr>\n",
       "      <th>Turnover (VW)</th>\n",
       "      <td>2.243964</td>\n",
       "      <td>-0.408664</td>\n",
       "    </tr>\n",
       "    <tr>\n",
       "      <th>Turnover (VW)- 1yr-Δ</th>\n",
       "      <td>-0.111963</td>\n",
       "      <td>-0.659577</td>\n",
       "    </tr>\n",
       "    <tr>\n",
       "      <th>Firm Age (VW)</th>\n",
       "      <td>0.506838</td>\n",
       "      <td>-1.114545</td>\n",
       "    </tr>\n",
       "    <tr>\n",
       "      <th>Age tilt</th>\n",
       "      <td>0.123037</td>\n",
       "      <td>-3.843774</td>\n",
       "    </tr>\n",
       "    <tr>\n",
       "      <th>% Issuers</th>\n",
       "      <td>-0.597544</td>\n",
       "      <td>-0.955762</td>\n",
       "    </tr>\n",
       "    <tr>\n",
       "      <th>Book to Market (VW)</th>\n",
       "      <td>2.056386</td>\n",
       "      <td>-1.025622</td>\n",
       "    </tr>\n",
       "    <tr>\n",
       "      <th>Sales Growth</th>\n",
       "      <td>-0.019760</td>\n",
       "      <td>0.987052</td>\n",
       "    </tr>\n",
       "    <tr>\n",
       "      <th>CAPE</th>\n",
       "      <td>2.639969</td>\n",
       "      <td>1.690973</td>\n",
       "    </tr>\n",
       "    <tr>\n",
       "      <th>Acceleration</th>\n",
       "      <td>-0.999264</td>\n",
       "      <td>3.170512</td>\n",
       "    </tr>\n",
       "  </tbody>\n",
       "</table>\n",
       "</div>"
      ],
      "text/plain": [
       "                           [t] for Bubble Indicators  [t] for 2 years VWR\n",
       "Past 2-year Return                          0.228368             3.340378\n",
       "Excess Past 2-year Return                   0.102515            -0.124599\n",
       "Volatility (VW)                             2.730078            -1.337141\n",
       "Volatility (VW)- 1yr-Δ                      2.681506            -3.220187\n",
       "Turnover (VW)                               2.243964            -0.408664\n",
       "Turnover (VW)- 1yr-Δ                       -0.111963            -0.659577\n",
       "Firm Age (VW)                               0.506838            -1.114545\n",
       "Age tilt                                    0.123037            -3.843774\n",
       " % Issuers                                 -0.597544            -0.955762\n",
       "Book to Market (VW)                         2.056386            -1.025622\n",
       "Sales Growth                               -0.019760             0.987052\n",
       "CAPE                                        2.639969             1.690973\n",
       "Acceleration                               -0.999264             3.170512"
      ]
     },
     "execution_count": 238,
     "metadata": {},
     "output_type": "execute_result"
    }
   ],
   "source": [
    "combine"
   ]
  },
  {
   "cell_type": "code",
   "execution_count": null,
   "id": "3a1c6a5d-11fb-4b9b-91c7-931480034b72",
   "metadata": {},
   "outputs": [],
   "source": []
  },
  {
   "cell_type": "code",
   "execution_count": null,
   "id": "83f9414c-a902-429f-9cae-467fea457ad8",
   "metadata": {},
   "outputs": [],
   "source": []
  }
 ],
 "metadata": {
  "kernelspec": {
   "display_name": "bubblefacto",
   "language": "python",
   "name": "bubblefacto"
  },
  "language_info": {
   "codemirror_mode": {
    "name": "ipython",
    "version": 3
   },
   "file_extension": ".py",
   "mimetype": "text/x-python",
   "name": "python",
   "nbconvert_exporter": "python",
   "pygments_lexer": "ipython3",
   "version": "3.10.12"
  }
 },
 "nbformat": 4,
 "nbformat_minor": 5
}
